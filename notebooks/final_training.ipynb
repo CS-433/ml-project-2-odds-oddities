{
 "cells": [
  {
   "cell_type": "markdown",
   "id": "44e77324caeb7103",
   "metadata": {
    "collapsed": false,
    "id": "44e77324caeb7103"
   },
   "source": [
    "# Final Training\n",
    "\n",
    "This is continuation to hyperparameter optimization. Since we have found best mix of hyperparameters for every model used in ensembling, we can now use the whole training set for the final training."
   ]
  },
  {
   "cell_type": "markdown",
   "id": "5c3bd0b296096edc",
   "metadata": {
    "collapsed": false,
    "id": "5c3bd0b296096edc"
   },
   "source": [
    "## Google Colab\n",
    "\n",
    "The following two cells will only be necessary in Google Colab. To avoid problems with imports, they are included in the notebook."
   ]
  },
  {
   "cell_type": "code",
   "execution_count": 1,
   "outputs": [],
   "source": [
    "import sys\n",
    "\n",
    "IN_COLAB = 'google.colab' in sys.modules\n",
    "\n",
    "if IN_COLAB:\n",
    "    # noinspection PyUnresolvedReferences\n",
    "    from google.colab import drive\n",
    "\n",
    "    drive.mount('/content/drive')"
   ],
   "metadata": {
    "collapsed": false,
    "ExecuteTime": {
     "end_time": "2023-12-14T08:06:41.134612Z",
     "start_time": "2023-12-14T08:06:41.005102Z"
    }
   },
   "id": "6b9c7561c0988e12"
  },
  {
   "cell_type": "code",
   "execution_count": 2,
   "outputs": [],
   "source": [
    "import os\n",
    "import glob\n",
    "\n",
    "# let's keep this cell at the beginning for every notebook\n",
    "# for more convenient training in Google Colab\n",
    "def get_root_path(filename: str) -> str:\n",
    "    \"\"\"Get root path based on notebook's name.\"\"\"\n",
    "    filepath = glob.glob(os.getcwd() + '/**/' + filename, recursive=True)[0]\n",
    "    return os.path.dirname(os.path.dirname(filepath))\n",
    "\n",
    "ROOT_PATH = get_root_path('final_training.ipynb')\n",
    "sys.path.append(ROOT_PATH)\n",
    "\n",
    "# go to the drive directory\n",
    "os.chdir(ROOT_PATH) if IN_COLAB else None"
   ],
   "metadata": {
    "collapsed": false,
    "ExecuteTime": {
     "end_time": "2023-12-14T08:06:41.135411Z",
     "start_time": "2023-12-14T08:06:41.012126Z"
    }
   },
   "id": "6ca28bc5245f155c"
  },
  {
   "cell_type": "markdown",
   "source": [
    "## Imports"
   ],
   "metadata": {
    "collapsed": false
   },
   "id": "d624e0026c589fad"
  },
  {
   "cell_type": "code",
   "execution_count": 3,
   "outputs": [],
   "source": [
    "import os\n",
    "import cv2\n",
    "\n",
    "import albumentations as A\n",
    "import segmentation_models_pytorch as smp\n",
    "from torch.utils.data import DataLoader\n",
    "import torch\n",
    "import json\n",
    "\n",
    "from scripts.preprocessing import RoadDataset, split_data, get_preprocessing\n",
    "from segmentation_models_pytorch.encoders import get_preprocessing_fn\n",
    "from scripts.training import setup_seed, train_model"
   ],
   "metadata": {
    "collapsed": false,
    "ExecuteTime": {
     "end_time": "2023-12-14T08:06:48.561904Z",
     "start_time": "2023-12-14T08:06:41.019848Z"
    }
   },
   "id": "661a28fbc323f84c"
  },
  {
   "cell_type": "code",
   "execution_count": 4,
   "outputs": [],
   "source": [
    "# hacky way for avoid problems with SSL when downloading some of the models\n",
    "import ssl\n",
    "ssl._create_default_https_context = ssl._create_unverified_context"
   ],
   "metadata": {
    "collapsed": false,
    "ExecuteTime": {
     "end_time": "2023-12-14T08:06:48.569938Z",
     "start_time": "2023-12-14T08:06:48.562694Z"
    }
   },
   "id": "fa5d6575c4861306"
  },
  {
   "cell_type": "code",
   "execution_count": 5,
   "outputs": [],
   "source": [
    "SEED = 16\n",
    "setup_seed(16)"
   ],
   "metadata": {
    "collapsed": false,
    "ExecuteTime": {
     "end_time": "2023-12-14T08:06:48.578164Z",
     "start_time": "2023-12-14T08:06:48.568023Z"
    }
   },
   "id": "4db7d71f1c441221"
  },
  {
   "cell_type": "markdown",
   "id": "cc8cd208897a9308",
   "metadata": {
    "collapsed": false,
    "id": "cc8cd208897a9308"
   },
   "source": [
    "## Data\n",
    "\n",
    "Specify the data directory and transformations. Notice that the data must first be downloaded using bash script (see README)."
   ]
  },
  {
   "cell_type": "code",
   "execution_count": 6,
   "id": "1c4f4dda06504ef5",
   "metadata": {
    "executionInfo": {
     "elapsed": 443,
     "status": "ok",
     "timestamp": 1700508609231,
     "user": {
      "displayName": "Jan Kokla",
      "userId": "12594254134589162600"
     },
     "user_tz": -60
    },
    "id": "1c4f4dda06504ef5",
    "ExecuteTime": {
     "end_time": "2023-12-14T08:06:48.578534Z",
     "start_time": "2023-12-14T08:06:48.575099Z"
    }
   },
   "outputs": [],
   "source": [
    "# specify train directory\n",
    "train_directory = os.path.join(ROOT_PATH, 'data', 'raw', 'train')"
   ]
  },
  {
   "cell_type": "code",
   "execution_count": 7,
   "outputs": [],
   "source": [
    "# define transformations\n",
    "train_tf = A.Compose([\n",
    "    A.Resize(height=608, width=608, always_apply=True),\n",
    "    A.Rotate(p=0.5, limit=180, border_mode=cv2.BORDER_CONSTANT, rotate_method=\"ellipse\"),\n",
    "    A.RandomBrightnessContrast(p=0.5)\n",
    "])\n",
    "\n",
    "valid_tf = A.Compose([A.Resize(height=608, width=608, always_apply=True)])"
   ],
   "metadata": {
    "collapsed": false,
    "ExecuteTime": {
     "end_time": "2023-12-14T08:06:48.608250Z",
     "start_time": "2023-12-14T08:06:48.580734Z"
    }
   },
   "id": "b8db531ec43bc422"
  },
  {
   "cell_type": "code",
   "execution_count": 8,
   "outputs": [],
   "source": [
    "preprocess_input = get_preprocessing_fn('inceptionv4', pretrained='imagenet')"
   ],
   "metadata": {
    "collapsed": false,
    "ExecuteTime": {
     "end_time": "2023-12-14T08:06:48.608665Z",
     "start_time": "2023-12-14T08:06:48.586164Z"
    }
   },
   "id": "c313514538e029f"
  },
  {
   "cell_type": "code",
   "execution_count": 9,
   "outputs": [],
   "source": [
    "# keep only training data (validation proportion=0)\n",
    "image_path_train, _, mask_path_train, _ = split_data(train_directory, 0)\n",
    "train_dataset = RoadDataset(image_path_train, mask_path_train, train_tf, get_preprocessing(preprocess_input))"
   ],
   "metadata": {
    "collapsed": false,
    "ExecuteTime": {
     "end_time": "2023-12-14T08:06:50.104796Z",
     "start_time": "2023-12-14T08:06:48.591320Z"
    }
   },
   "id": "fcca102343c889cc"
  },
  {
   "cell_type": "markdown",
   "source": [
    "## Hyperparameters\n",
    "\n",
    "As"
   ],
   "metadata": {
    "collapsed": false
   },
   "id": "22430d9a319db8e4"
  },
  {
   "cell_type": "code",
   "execution_count": 10,
   "outputs": [],
   "source": [
    "ENCODER = 'inceptionv4'\n",
    "DECODER = 'UnetPlusPlus'"
   ],
   "metadata": {
    "collapsed": false,
    "ExecuteTime": {
     "end_time": "2023-12-14T08:06:50.115486Z",
     "start_time": "2023-12-14T08:06:50.107050Z"
    }
   },
   "id": "42517c0efc0c67fa"
  },
  {
   "cell_type": "code",
   "execution_count": 11,
   "outputs": [],
   "source": [
    "config_path = os.path.join(ROOT_PATH, 'data', 'results', 'hyperopt', 'configs.json')\n",
    "with open(config_path, 'r') as file:\n",
    "  data = json.load(file)\n",
    "  \n",
    "model = \"+\".join([ENCODER, DECODER])\n",
    "config = data[model]"
   ],
   "metadata": {
    "collapsed": false,
    "ExecuteTime": {
     "end_time": "2023-12-14T08:06:50.116869Z",
     "start_time": "2023-12-14T08:06:50.112257Z"
    }
   },
   "id": "aa8e5029c07b0516"
  },
  {
   "cell_type": "markdown",
   "source": [
    "## Training"
   ],
   "metadata": {
    "collapsed": false
   },
   "id": "f6c64f50d3c97d4e"
  },
  {
   "cell_type": "code",
   "execution_count": null,
   "outputs": [],
   "source": [
    "# Create training and validation loaders by providing current K-Fold train/validation indices to Sampler\n",
    "loader = DataLoader(train_dataset.set_tf(train_tf), config['batch_size'])\n",
    "\n",
    "# Initialize model\n",
    "model = smp.create_model(DECODER, encoder_name=ENCODER, classes=2)\n",
    "model.encoder.training=False\n",
    "\n",
    "optimizer = torch.optim.Adam(model.parameters(), config['lr'])\n",
    "scheduler = torch.optim.lr_scheduler.CosineAnnealingLR(\n",
    "    optimizer,\n",
    "    T_max=(len(loader.dataset) * int(config['num_epochs'])) // loader.batch_size,\n",
    ")\n",
    "\n",
    "criteria_dict = {\n",
    "        'dice_loss': smp.losses.DiceLoss(smp.losses.BINARY_MODE, from_logits=True),\n",
    "        'focal_loss': smp.losses.FocalLoss(smp.losses.BINARY_MODE)\n",
    "    }\n",
    "criterion = criteria_dict[config[\"criterion\"]]"
   ],
   "metadata": {
    "collapsed": false
   },
   "id": "44f182fc1a824760"
  },
  {
   "cell_type": "code",
   "execution_count": null,
   "outputs": [],
   "source": [
    "_ = train_model(\n",
    "    model, (loader, None), criterion, optimizer, scheduler, int(config['num_epochs'])\n",
    ")"
   ],
   "metadata": {
    "collapsed": false
   },
   "id": "82be04516937c9ca"
  },
  {
   "cell_type": "markdown",
   "source": [
    "## Save State Dict"
   ],
   "metadata": {
    "collapsed": false
   },
   "id": "a9e76d3284d9ba77"
  },
  {
   "cell_type": "code",
   "execution_count": null,
   "outputs": [],
   "source": [
    "state_dict_path = os.path.join(ROOT_PATH, 'data', 'results', 'final_models', f'{ENCODER}+{DECODER}.pth')\n",
    "model_name = \"+\".join([ENCODER, DECODER])\n",
    "\n",
    "torch.save({'state_dict': model.state_dict()}, state_dict_path)"
   ],
   "metadata": {
    "collapsed": false,
    "ExecuteTime": {
     "end_time": "2023-12-14T08:07:34.793996Z",
     "start_time": "2023-12-14T08:07:34.790507Z"
    }
   },
   "id": "bfda552773366b25"
  },
  {
   "cell_type": "code",
   "execution_count": null,
   "outputs": [],
   "source": [],
   "metadata": {
    "collapsed": false,
    "ExecuteTime": {
     "end_time": "2023-12-14T08:07:34.796275Z",
     "start_time": "2023-12-14T08:07:34.795388Z"
    }
   },
   "id": "eda4518173c982e"
  }
 ],
 "metadata": {
  "accelerator": "GPU",
  "colab": {
   "gpuType": "T4",
   "provenance": [],
   "toc_visible": true
  },
  "kernelspec": {
   "display_name": "Python 3 (ipykernel)",
   "language": "python",
   "name": "python3"
  },
  "language_info": {
   "codemirror_mode": {
    "name": "ipython",
    "version": 3
   },
   "file_extension": ".py",
   "mimetype": "text/x-python",
   "name": "python",
   "nbconvert_exporter": "python",
   "pygments_lexer": "ipython3",
   "version": "3.10.12"
  }
 },
 "nbformat": 4,
 "nbformat_minor": 5
}
