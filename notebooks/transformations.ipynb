{
 "cells": [
  {
   "cell_type": "markdown",
   "source": [
    "# Transformations\n",
    "\n",
    "The aim of this notebook is to test different setups with transformations using cross-validation and measure top f1 score over all epochs and folds."
   ],
   "metadata": {
    "collapsed": false,
    "id": "44e77324caeb7103"
   },
   "id": "44e77324caeb7103"
  },
  {
   "cell_type": "markdown",
   "source": [
    "## Imports"
   ],
   "metadata": {
    "collapsed": false,
    "id": "5c3bd0b296096edc"
   },
   "id": "5c3bd0b296096edc"
  },
  {
   "cell_type": "code",
   "execution_count": 1,
   "outputs": [],
   "source": [
    "from scripts.colab import get_root_path\n",
    "ROOT_PATH = get_root_path()"
   ],
   "metadata": {
    "collapsed": false,
    "ExecuteTime": {
     "end_time": "2023-11-21T13:41:16.674062Z",
     "start_time": "2023-11-21T13:41:16.664681Z"
    }
   },
   "id": "28ecdaa1b7cf8d36"
  },
  {
   "cell_type": "code",
   "execution_count": 2,
   "metadata": {
    "id": "661a28fbc323f84c",
    "executionInfo": {
     "status": "ok",
     "timestamp": 1700508603161,
     "user_tz": -60,
     "elapsed": 16594,
     "user": {
      "displayName": "Jan Kokla",
      "userId": "12594254134589162600"
     }
    },
    "ExecuteTime": {
     "end_time": "2023-11-21T13:41:35.374540Z",
     "start_time": "2023-11-21T13:41:18.892610Z"
    }
   },
   "outputs": [],
   "source": [
    "import os\n",
    "import cv2\n",
    "import torch\n",
    "import albumentations as A\n",
    "import pandas as pd\n",
    "import numpy as np\n",
    "import segmentation_models_pytorch as smp\n",
    "\n",
    "from sklearn.model_selection import KFold\n",
    "from scripts.preprocessing import RoadDataset, split_data\n",
    "from scripts.training import train_model\n",
    "from torch.utils.data import DataLoader, SubsetRandomSampler"
   ],
   "id": "661a28fbc323f84c"
  },
  {
   "cell_type": "markdown",
   "source": [
    "## Data"
   ],
   "metadata": {
    "collapsed": false,
    "id": "cc8cd208897a9308"
   },
   "id": "cc8cd208897a9308"
  },
  {
   "cell_type": "code",
   "execution_count": 3,
   "metadata": {
    "id": "1c4f4dda06504ef5",
    "executionInfo": {
     "status": "ok",
     "timestamp": 1700508609231,
     "user_tz": -60,
     "elapsed": 443,
     "user": {
      "displayName": "Jan Kokla",
      "userId": "12594254134589162600"
     }
    },
    "ExecuteTime": {
     "end_time": "2023-11-21T13:42:00.347553Z",
     "start_time": "2023-11-21T13:42:00.340119Z"
    }
   },
   "outputs": [],
   "source": [
    "# specify train directory\n",
    "train_directory = os.path.join(ROOT_PATH, 'data', 'raw', 'train')"
   ],
   "id": "1c4f4dda06504ef5"
  },
  {
   "cell_type": "code",
   "execution_count": 4,
   "outputs": [],
   "source": [
    "# image paths so that all the images are used for train dataset (no test set for cv due to small training set)\n",
    "image_path_train, _, mask_path_train, _ = split_data(train_directory, test_size=0)\n",
    "\n",
    "# create train Dataset without transformations for now\n",
    "train_dataset = RoadDataset(image_path_train, mask_path_train)"
   ],
   "metadata": {
    "id": "e5dfbbf47dcd0846",
    "executionInfo": {
     "status": "ok",
     "timestamp": 1700508678052,
     "user_tz": -60,
     "elapsed": 66794,
     "user": {
      "displayName": "Jan Kokla",
      "userId": "12594254134589162600"
     }
    },
    "ExecuteTime": {
     "end_time": "2023-11-21T13:42:02.660254Z",
     "start_time": "2023-11-21T13:42:00.905201Z"
    }
   },
   "id": "e5dfbbf47dcd0846"
  },
  {
   "cell_type": "markdown",
   "source": [
    "## Transformations\n",
    "\n",
    "Define transformations we'll use in evaluating the performance of the model."
   ],
   "metadata": {
    "collapsed": false,
    "id": "51e794b627f2d1ed"
   },
   "id": "51e794b627f2d1ed"
  },
  {
   "cell_type": "code",
   "execution_count": 7,
   "outputs": [],
   "source": [
    "base_tf = [A.Resize(height=608, width=608, always_apply=True)]\n",
    "\n",
    "tf_flip = [A.HorizontalFlip(p=0.5), A.VerticalFlip(p=0.5)]\n",
    "tf_rotate = A.Rotate(p=0.5, limit=180, border_mode=cv2.BORDER_CONSTANT, rotate_method=\"ellipse\")\n",
    "tf_brightness = A.RandomBrightnessContrast(p=0.5)\n",
    "tf_snow = A.RandomSnow(p=0.1)\n",
    "\n",
    "added_tfs = np.array([tf_flip, tf_rotate, tf_brightness, tf_snow], dtype=object)"
   ],
   "metadata": {
    "ExecuteTime": {
     "end_time": "2023-11-20T14:34:18.141147Z",
     "start_time": "2023-11-20T14:34:18.136084Z"
    },
    "id": "b8db531ec43bc422",
    "executionInfo": {
     "status": "ok",
     "timestamp": 1700508685005,
     "user_tz": -60,
     "elapsed": 330,
     "user": {
      "displayName": "Jan Kokla",
      "userId": "12594254134589162600"
     }
    }
   },
   "id": "b8db531ec43bc422"
  },
  {
   "cell_type": "code",
   "execution_count": 8,
   "outputs": [],
   "source": [
    "# initiate the setups for transformations\n",
    "col_names = ['base', 'flip', 'rotate', 'brightness', 'snow']\n",
    "masks = [\n",
    "    [False, False, False, False],\n",
    "    # [True, False, False, False],\n",
    "    # [True, True, False, False],\n",
    "    # [True, True, True, False],\n",
    "    [True, True, True, True],\n",
    "]"
   ],
   "metadata": {
    "ExecuteTime": {
     "end_time": "2023-11-20T15:03:06.732156Z",
     "start_time": "2023-11-20T15:03:06.718043Z"
    },
    "id": "87806847173ab4ed",
    "executionInfo": {
     "status": "ok",
     "timestamp": 1700508686557,
     "user_tz": -60,
     "elapsed": 301,
     "user": {
      "displayName": "Jan Kokla",
      "userId": "12594254134589162600"
     }
    }
   },
   "id": "87806847173ab4ed"
  },
  {
   "cell_type": "markdown",
   "source": [
    "## Hyperparameters\n",
    "\n",
    "Since our aim is to see, how different transformations influence the training, we fix the model, epochs and batch sizes."
   ],
   "metadata": {
    "collapsed": false,
    "id": "86ca6d59a354e03a"
   },
   "id": "86ca6d59a354e03a"
  },
  {
   "cell_type": "code",
   "execution_count": 9,
   "outputs": [],
   "source": [
    "ENCODER = 'resnet50'\n",
    "ENCODER_WEIGHTS = 'imagenet'\n",
    "\n",
    "SEED = 16\n",
    "BATCH_SIZE = 4\n",
    "K_FOLD = 3\n",
    "N_CPU = os.cpu_count()\n",
    "N_EPOCHS = 20\n",
    "\n",
    "LOADER_PARAMS = {\n",
    "    'batch_size': BATCH_SIZE,\n",
    "    'num_workers': N_CPU,\n",
    "    'persistent_workers': True\n",
    "}"
   ],
   "metadata": {
    "ExecuteTime": {
     "end_time": "2023-11-20T14:43:26.476711Z",
     "start_time": "2023-11-20T14:43:26.471907Z"
    },
    "id": "a6bb08833d345ec0",
    "executionInfo": {
     "status": "ok",
     "timestamp": 1700508695367,
     "user_tz": -60,
     "elapsed": 761,
     "user": {
      "displayName": "Jan Kokla",
      "userId": "12594254134589162600"
     }
    }
   },
   "id": "a6bb08833d345ec0"
  },
  {
   "cell_type": "markdown",
   "source": [
    "## Cross-Validation"
   ],
   "metadata": {
    "collapsed": false,
    "id": "64a4294fcf3a7200"
   },
   "id": "64a4294fcf3a7200"
  },
  {
   "cell_type": "code",
   "execution_count": null,
   "id": "initial_id",
   "metadata": {
    "collapsed": true,
    "colab": {
     "base_uri": "https://localhost:8080/"
    },
    "id": "initial_id",
    "executionInfo": {
     "status": "ok",
     "timestamp": 1700509405450,
     "user_tz": -60,
     "elapsed": 705616,
     "user": {
      "displayName": "Jan Kokla",
      "userId": "12594254134589162600"
     }
    },
    "outputId": "0051ace9-0448-4556-f4af-58d3f1cf7df9"
   },
   "outputs": [],
   "source": [
    "metric_dict = {}\n",
    "\n",
    "for setup in masks:\n",
    "\n",
    "    print(f'setup: {str(setup)}')\n",
    "\n",
    "    # get the picked tfs as list\n",
    "    tfs = added_tfs[np.array(setup)]\n",
    "    tf_selection = pd.Series(tfs).explode().tolist()\n",
    "\n",
    "    k_fold = KFold(n_splits=K_FOLD, shuffle=True, random_state=SEED)\n",
    "\n",
    "    # Record K-fold results in a (K_FOLD, num_epoch) matrix\n",
    "    training_f1_matrix = []\n",
    "    validation_f1_matrix = []\n",
    "\n",
    "    train_tf = A.Compose(base_tf + tf_selection)\n",
    "    valid_tf = A.Compose(base_tf)\n",
    "\n",
    "    # Get training and validation indices\n",
    "    for fold, (train_idx, val_idx) in enumerate(k_fold.split(train_dataset)):\n",
    "\n",
    "        print(f'fold: {fold}')\n",
    "\n",
    "        # Create training and validation loaders by providing current K-Fold train/validation indices to Sampler\n",
    "        train_loader = DataLoader(train_dataset.set_tf(train_tf), sampler=SubsetRandomSampler(train_idx), **LOADER_PARAMS)\n",
    "        valid_loader = DataLoader(train_dataset.set_tf(valid_tf), sampler=SubsetRandomSampler(val_idx), **LOADER_PARAMS)\n",
    "\n",
    "        # Initialize model\n",
    "        model_ = smp.create_model(\"FPN\", encoder_name=ENCODER, encoder_weights=ENCODER_WEIGHTS)\n",
    "        criterion_ = smp.losses.DiceLoss(smp.losses.BINARY_MODE, from_logits=True)\n",
    "        optimizer_ = torch.optim.Adam(model_.parameters(), lr=0.0005)\n",
    "        scheduler_ = torch.optim.lr_scheduler.CosineAnnealingLR(\n",
    "            optimizer_,\n",
    "            T_max=(len(train_loader.dataset) * N_EPOCHS) // train_loader.batch_size,\n",
    "        )\n",
    "\n",
    "        # Train model\n",
    "        train_losses, valid_losses, train_f1s, valid_f1s = train_model(\n",
    "            model_, (train_loader, valid_loader), criterion_, optimizer_, scheduler_, N_EPOCHS\n",
    "        )\n",
    "\n",
    "        # Save epoch results\n",
    "        training_f1_matrix.append(np.array(train_f1s))\n",
    "        validation_f1_matrix.append(np.array(valid_f1s))\n",
    "\n",
    "    metric_dict[str(setup)] = validation_f1_matrix"
   ]
  },
  {
   "cell_type": "markdown",
   "source": [
    "## Metrics"
   ],
   "metadata": {
    "collapsed": false,
    "id": "fd70cdcdc704f9da"
   },
   "id": "fd70cdcdc704f9da"
  },
  {
   "cell_type": "code",
   "execution_count": 11,
   "outputs": [],
   "source": [
    "f1s = []\n",
    "std_devs = []\n",
    "\n",
    "for matrix in metric_dict.values():\n",
    "    matrix = np.array(matrix)\n",
    "    mean_per_epoch = matrix.mean(axis=0)\n",
    "\n",
    "    best_epoch = mean_per_epoch.argmax()\n",
    "    best_f1 = mean_per_epoch.max()\n",
    "\n",
    "    f1s.append(mean_per_epoch.max())\n",
    "    std_devs.append(matrix[:, best_epoch].std())"
   ],
   "metadata": {
    "ExecuteTime": {
     "end_time": "2023-11-20T15:01:00.212194Z",
     "start_time": "2023-11-20T15:01:00.195692Z"
    },
    "id": "cdfec4d7529b8b3c",
    "executionInfo": {
     "status": "ok",
     "timestamp": 1700509432539,
     "user_tz": -60,
     "elapsed": 262,
     "user": {
      "displayName": "Jan Kokla",
      "userId": "12594254134589162600"
     }
    }
   },
   "id": "cdfec4d7529b8b3c"
  },
  {
   "cell_type": "code",
   "execution_count": 12,
   "metadata": {
    "ExecuteTime": {
     "end_time": "2023-11-20T15:03:50.825694Z",
     "start_time": "2023-11-20T15:03:50.812024Z"
    },
    "id": "e8eae8e5b749d4c6",
    "executionInfo": {
     "status": "ok",
     "timestamp": 1700509433650,
     "user_tz": -60,
     "elapsed": 2,
     "user": {
      "displayName": "Jan Kokla",
      "userId": "12594254134589162600"
     }
    }
   },
   "outputs": [],
   "source": [
    "final_df = pd.DataFrame(index=metric_dict.keys(), columns=['top-f1', 'std'], data=np.array([f1s, std_devs]).T)"
   ],
   "id": "e8eae8e5b749d4c6"
  },
  {
   "cell_type": "code",
   "execution_count": 13,
   "metadata": {
    "ExecuteTime": {
     "end_time": "2023-11-20T15:03:58.334395Z",
     "start_time": "2023-11-20T15:03:58.326395Z"
    },
    "colab": {
     "base_uri": "https://localhost:8080/",
     "height": 112
    },
    "id": "1bdebb6ca8c9f9c0",
    "executionInfo": {
     "status": "ok",
     "timestamp": 1700509435720,
     "user_tz": -60,
     "elapsed": 315,
     "user": {
      "displayName": "Jan Kokla",
      "userId": "12594254134589162600"
     }
    },
    "outputId": "27dcd217-9c52-41fe-825f-a5e5c20e0ddd"
   },
   "outputs": [
    {
     "output_type": "execute_result",
     "data": {
      "text/plain": [
       "                                top-f1       std\n",
       "[False, False, False, False]  0.815348  0.018222\n",
       "[True, True, True, True]      0.808037  0.016056"
      ],
      "text/html": [
       "\n",
       "  <div id=\"df-5d10746a-ae13-4e8c-8243-a51d6b45e271\" class=\"colab-df-container\">\n",
       "    <div>\n",
       "<style scoped>\n",
       "    .dataframe tbody tr th:only-of-type {\n",
       "        vertical-align: middle;\n",
       "    }\n",
       "\n",
       "    .dataframe tbody tr th {\n",
       "        vertical-align: top;\n",
       "    }\n",
       "\n",
       "    .dataframe thead th {\n",
       "        text-align: right;\n",
       "    }\n",
       "</style>\n",
       "<table border=\"1\" class=\"dataframe\">\n",
       "  <thead>\n",
       "    <tr style=\"text-align: right;\">\n",
       "      <th></th>\n",
       "      <th>top-f1</th>\n",
       "      <th>std</th>\n",
       "    </tr>\n",
       "  </thead>\n",
       "  <tbody>\n",
       "    <tr>\n",
       "      <th>[False, False, False, False]</th>\n",
       "      <td>0.815348</td>\n",
       "      <td>0.018222</td>\n",
       "    </tr>\n",
       "    <tr>\n",
       "      <th>[True, True, True, True]</th>\n",
       "      <td>0.808037</td>\n",
       "      <td>0.016056</td>\n",
       "    </tr>\n",
       "  </tbody>\n",
       "</table>\n",
       "</div>\n",
       "    <div class=\"colab-df-buttons\">\n",
       "\n",
       "  <div class=\"colab-df-container\">\n",
       "    <button class=\"colab-df-convert\" onclick=\"convertToInteractive('df-5d10746a-ae13-4e8c-8243-a51d6b45e271')\"\n",
       "            title=\"Convert this dataframe to an interactive table.\"\n",
       "            style=\"display:none;\">\n",
       "\n",
       "  <svg xmlns=\"http://www.w3.org/2000/svg\" height=\"24px\" viewBox=\"0 -960 960 960\">\n",
       "    <path d=\"M120-120v-720h720v720H120Zm60-500h600v-160H180v160Zm220 220h160v-160H400v160Zm0 220h160v-160H400v160ZM180-400h160v-160H180v160Zm440 0h160v-160H620v160ZM180-180h160v-160H180v160Zm440 0h160v-160H620v160Z\"/>\n",
       "  </svg>\n",
       "    </button>\n",
       "\n",
       "  <style>\n",
       "    .colab-df-container {\n",
       "      display:flex;\n",
       "      gap: 12px;\n",
       "    }\n",
       "\n",
       "    .colab-df-convert {\n",
       "      background-color: #E8F0FE;\n",
       "      border: none;\n",
       "      border-radius: 50%;\n",
       "      cursor: pointer;\n",
       "      display: none;\n",
       "      fill: #1967D2;\n",
       "      height: 32px;\n",
       "      padding: 0 0 0 0;\n",
       "      width: 32px;\n",
       "    }\n",
       "\n",
       "    .colab-df-convert:hover {\n",
       "      background-color: #E2EBFA;\n",
       "      box-shadow: 0px 1px 2px rgba(60, 64, 67, 0.3), 0px 1px 3px 1px rgba(60, 64, 67, 0.15);\n",
       "      fill: #174EA6;\n",
       "    }\n",
       "\n",
       "    .colab-df-buttons div {\n",
       "      margin-bottom: 4px;\n",
       "    }\n",
       "\n",
       "    [theme=dark] .colab-df-convert {\n",
       "      background-color: #3B4455;\n",
       "      fill: #D2E3FC;\n",
       "    }\n",
       "\n",
       "    [theme=dark] .colab-df-convert:hover {\n",
       "      background-color: #434B5C;\n",
       "      box-shadow: 0px 1px 3px 1px rgba(0, 0, 0, 0.15);\n",
       "      filter: drop-shadow(0px 1px 2px rgba(0, 0, 0, 0.3));\n",
       "      fill: #FFFFFF;\n",
       "    }\n",
       "  </style>\n",
       "\n",
       "    <script>\n",
       "      const buttonEl =\n",
       "        document.querySelector('#df-5d10746a-ae13-4e8c-8243-a51d6b45e271 button.colab-df-convert');\n",
       "      buttonEl.style.display =\n",
       "        google.colab.kernel.accessAllowed ? 'block' : 'none';\n",
       "\n",
       "      async function convertToInteractive(key) {\n",
       "        const element = document.querySelector('#df-5d10746a-ae13-4e8c-8243-a51d6b45e271');\n",
       "        const dataTable =\n",
       "          await google.colab.kernel.invokeFunction('convertToInteractive',\n",
       "                                                    [key], {});\n",
       "        if (!dataTable) return;\n",
       "\n",
       "        const docLinkHtml = 'Like what you see? Visit the ' +\n",
       "          '<a target=\"_blank\" href=https://colab.research.google.com/notebooks/data_table.ipynb>data table notebook</a>'\n",
       "          + ' to learn more about interactive tables.';\n",
       "        element.innerHTML = '';\n",
       "        dataTable['output_type'] = 'display_data';\n",
       "        await google.colab.output.renderOutput(dataTable, element);\n",
       "        const docLink = document.createElement('div');\n",
       "        docLink.innerHTML = docLinkHtml;\n",
       "        element.appendChild(docLink);\n",
       "      }\n",
       "    </script>\n",
       "  </div>\n",
       "\n",
       "\n",
       "<div id=\"df-e8dbc4be-cfc1-4cec-b97e-af3e3f4ded6f\">\n",
       "  <button class=\"colab-df-quickchart\" onclick=\"quickchart('df-e8dbc4be-cfc1-4cec-b97e-af3e3f4ded6f')\"\n",
       "            title=\"Suggest charts\"\n",
       "            style=\"display:none;\">\n",
       "\n",
       "<svg xmlns=\"http://www.w3.org/2000/svg\" height=\"24px\"viewBox=\"0 0 24 24\"\n",
       "     width=\"24px\">\n",
       "    <g>\n",
       "        <path d=\"M19 3H5c-1.1 0-2 .9-2 2v14c0 1.1.9 2 2 2h14c1.1 0 2-.9 2-2V5c0-1.1-.9-2-2-2zM9 17H7v-7h2v7zm4 0h-2V7h2v10zm4 0h-2v-4h2v4z\"/>\n",
       "    </g>\n",
       "</svg>\n",
       "  </button>\n",
       "\n",
       "<style>\n",
       "  .colab-df-quickchart {\n",
       "      --bg-color: #E8F0FE;\n",
       "      --fill-color: #1967D2;\n",
       "      --hover-bg-color: #E2EBFA;\n",
       "      --hover-fill-color: #174EA6;\n",
       "      --disabled-fill-color: #AAA;\n",
       "      --disabled-bg-color: #DDD;\n",
       "  }\n",
       "\n",
       "  [theme=dark] .colab-df-quickchart {\n",
       "      --bg-color: #3B4455;\n",
       "      --fill-color: #D2E3FC;\n",
       "      --hover-bg-color: #434B5C;\n",
       "      --hover-fill-color: #FFFFFF;\n",
       "      --disabled-bg-color: #3B4455;\n",
       "      --disabled-fill-color: #666;\n",
       "  }\n",
       "\n",
       "  .colab-df-quickchart {\n",
       "    background-color: var(--bg-color);\n",
       "    border: none;\n",
       "    border-radius: 50%;\n",
       "    cursor: pointer;\n",
       "    display: none;\n",
       "    fill: var(--fill-color);\n",
       "    height: 32px;\n",
       "    padding: 0;\n",
       "    width: 32px;\n",
       "  }\n",
       "\n",
       "  .colab-df-quickchart:hover {\n",
       "    background-color: var(--hover-bg-color);\n",
       "    box-shadow: 0 1px 2px rgba(60, 64, 67, 0.3), 0 1px 3px 1px rgba(60, 64, 67, 0.15);\n",
       "    fill: var(--button-hover-fill-color);\n",
       "  }\n",
       "\n",
       "  .colab-df-quickchart-complete:disabled,\n",
       "  .colab-df-quickchart-complete:disabled:hover {\n",
       "    background-color: var(--disabled-bg-color);\n",
       "    fill: var(--disabled-fill-color);\n",
       "    box-shadow: none;\n",
       "  }\n",
       "\n",
       "  .colab-df-spinner {\n",
       "    border: 2px solid var(--fill-color);\n",
       "    border-color: transparent;\n",
       "    border-bottom-color: var(--fill-color);\n",
       "    animation:\n",
       "      spin 1s steps(1) infinite;\n",
       "  }\n",
       "\n",
       "  @keyframes spin {\n",
       "    0% {\n",
       "      border-color: transparent;\n",
       "      border-bottom-color: var(--fill-color);\n",
       "      border-left-color: var(--fill-color);\n",
       "    }\n",
       "    20% {\n",
       "      border-color: transparent;\n",
       "      border-left-color: var(--fill-color);\n",
       "      border-top-color: var(--fill-color);\n",
       "    }\n",
       "    30% {\n",
       "      border-color: transparent;\n",
       "      border-left-color: var(--fill-color);\n",
       "      border-top-color: var(--fill-color);\n",
       "      border-right-color: var(--fill-color);\n",
       "    }\n",
       "    40% {\n",
       "      border-color: transparent;\n",
       "      border-right-color: var(--fill-color);\n",
       "      border-top-color: var(--fill-color);\n",
       "    }\n",
       "    60% {\n",
       "      border-color: transparent;\n",
       "      border-right-color: var(--fill-color);\n",
       "    }\n",
       "    80% {\n",
       "      border-color: transparent;\n",
       "      border-right-color: var(--fill-color);\n",
       "      border-bottom-color: var(--fill-color);\n",
       "    }\n",
       "    90% {\n",
       "      border-color: transparent;\n",
       "      border-bottom-color: var(--fill-color);\n",
       "    }\n",
       "  }\n",
       "</style>\n",
       "\n",
       "  <script>\n",
       "    async function quickchart(key) {\n",
       "      const quickchartButtonEl =\n",
       "        document.querySelector('#' + key + ' button');\n",
       "      quickchartButtonEl.disabled = true;  // To prevent multiple clicks.\n",
       "      quickchartButtonEl.classList.add('colab-df-spinner');\n",
       "      try {\n",
       "        const charts = await google.colab.kernel.invokeFunction(\n",
       "            'suggestCharts', [key], {});\n",
       "      } catch (error) {\n",
       "        console.error('Error during call to suggestCharts:', error);\n",
       "      }\n",
       "      quickchartButtonEl.classList.remove('colab-df-spinner');\n",
       "      quickchartButtonEl.classList.add('colab-df-quickchart-complete');\n",
       "    }\n",
       "    (() => {\n",
       "      let quickchartButtonEl =\n",
       "        document.querySelector('#df-e8dbc4be-cfc1-4cec-b97e-af3e3f4ded6f button');\n",
       "      quickchartButtonEl.style.display =\n",
       "        google.colab.kernel.accessAllowed ? 'block' : 'none';\n",
       "    })();\n",
       "  </script>\n",
       "</div>\n",
       "    </div>\n",
       "  </div>\n"
      ]
     },
     "metadata": {},
     "execution_count": 13
    }
   ],
   "source": [
    "final_df"
   ],
   "id": "1bdebb6ca8c9f9c0"
  },
  {
   "cell_type": "code",
   "source": [],
   "metadata": {
    "id": "HQkAhvruq7ls"
   },
   "id": "HQkAhvruq7ls",
   "execution_count": null,
   "outputs": []
  }
 ],
 "metadata": {
  "kernelspec": {
   "name": "python3",
   "language": "python",
   "display_name": "Python 3 (ipykernel)"
  },
  "language_info": {
   "codemirror_mode": {
    "name": "ipython",
    "version": 3
   },
   "file_extension": ".py",
   "mimetype": "text/x-python",
   "name": "python",
   "nbconvert_exporter": "python",
   "pygments_lexer": "ipython3",
   "version": "3.10.12"
  },
  "colab": {
   "provenance": [],
   "toc_visible": true,
   "gpuType": "T4"
  },
  "accelerator": "GPU"
 },
 "nbformat": 4,
 "nbformat_minor": 5
}
