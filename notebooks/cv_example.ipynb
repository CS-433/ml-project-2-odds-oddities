{
 "cells": [
  {
   "cell_type": "code",
   "execution_count": null,
   "id": "initial_id",
   "metadata": {
    "collapsed": true
   },
   "outputs": [],
   "source": [
    "# TODO: need to work with this (cross-validation)\n",
    "k_fold = KFold(n_splits=K_FOLD, shuffle=True, random_state=SEED)\n",
    "\n",
    "training_f1_matrix = None\n",
    "\n",
    "\n",
    "for fold, (train_idx, val_idx) in enumerate(k_fold.split(train_dataset)):\n",
    "    \n",
    "    model_ = smp.create_model(\"FPN\", encoder_name=ENCODER, encoder_weights=ENCODER_WEIGHTS)\n",
    "    criterion_ = smp.losses.DiceLoss(smp.losses.BINARY_MODE, from_logits=True)\n",
    "    optimizer_ = torch.optim.Adam(model_.parameters(), lr=0.0005)\n",
    "    \n",
    "    train_loader = DataLoader(train_dataset, sampler=SubsetRandomSampler(train_idx), **LOADER_PARAMS)\n",
    "    valid_loader = DataLoader(train_dataset, sampler=SubsetRandomSampler(val_idx), **LOADER_PARAMS)\n",
    "    \n",
    "    train_losses, valid_losses, train_f1s, valid_f1s = train_model(\n",
    "        model_, criterion_, optimizer_, (train_loader, valid_loader), N_EPOCHS\n",
    "    )"
   ]
  }
 ],
 "metadata": {
  "kernelspec": {
   "display_name": "Python 3",
   "language": "python",
   "name": "python3"
  },
  "language_info": {
   "codemirror_mode": {
    "name": "ipython",
    "version": 2
   },
   "file_extension": ".py",
   "mimetype": "text/x-python",
   "name": "python",
   "nbconvert_exporter": "python",
   "pygments_lexer": "ipython2",
   "version": "2.7.6"
  }
 },
 "nbformat": 4,
 "nbformat_minor": 5
}
