{
 "cells": [
  {
   "cell_type": "code",
   "execution_count": 1,
   "metadata": {},
   "outputs": [],
   "source": [
    "import sys\n",
    "\n",
    "sys.path.append(\"../\")"
   ]
  },
  {
   "cell_type": "code",
   "execution_count": 2,
   "metadata": {},
   "outputs": [],
   "source": [
    "import os\n",
    "import torch\n",
    "import numpy as np\n",
    "import segmentation_models_pytorch as smp\n",
    "\n",
    "from scripts.plotting import show_images\n",
    "from scripts.preprocessing import RoadDataset, split_data\n",
    "from torch.utils.data import DataLoader\n",
    "from torchvision.transforms import v2\n",
    "\n",
    "import matplotlib\n",
    "import matplotlib.pyplot as plt\n",
    "\n",
    "import albumentations as A"
   ]
  },
  {
   "cell_type": "code",
   "execution_count": 3,
   "metadata": {},
   "outputs": [],
   "source": [
    "ROOT_PATH = os.path.normpath(os.getcwd() + os.sep + os.pardir)\n",
    "train_directory = os.path.join(ROOT_PATH, 'data', 'raw', 'training')\n",
    "image_path_train, image_path_test, mask_path_train, mask_path_test = split_data(train_directory, 0.2)"
   ]
  },
  {
   "cell_type": "code",
   "execution_count": 8,
   "metadata": {},
   "outputs": [],
   "source": [
    "transform = A.Compose([\n",
    "    #A.RandomCrop(width=256, height=256),\n",
    "    #A.HorizontalFlip(p=0.5),\n",
    "    A.RandomBrightnessContrast(p=0.5),\n",
    "])\n",
    "\n",
    "# Get train and val dataset instances\n",
    "train_dataset = RoadDataset(image_path_train, mask_path_train, transform)\n",
    "valid_dataset = RoadDataset(image_path_test, mask_path_test, transform)\n",
    "\n",
    "n_cpu = os.cpu_count()\n",
    "\n",
    "# Get train and val data loaders\n",
    "train_loader = DataLoader(train_dataset, batch_size=4, shuffle=True, num_workers=n_cpu, persistent_workers=True)\n",
    "valid_loader = DataLoader(valid_dataset, batch_size=4, shuffle=False, num_workers=n_cpu, persistent_workers=True)"
   ]
  },
  {
   "cell_type": "code",
   "execution_count": 9,
   "metadata": {},
   "outputs": [
    {
     "ename": "ValueError",
     "evalue": "Height and Width of image, mask or masks should be equal. You can disable shapes check by setting a parameter is_check_shapes=False of Compose class (do it only if you are sure about your data consistency).",
     "output_type": "error",
     "traceback": [
      "\u001b[0;31m---------------------------------------------------------------------------\u001b[0m",
      "\u001b[0;31mValueError\u001b[0m                                Traceback (most recent call last)",
      "\u001b[1;32m/home/siimm/repod/ml-project-2-odds-oddities/notebooks/siim_playground.ipynb Cell 5\u001b[0m line \u001b[0;36m2\n\u001b[1;32m      <a href='vscode-notebook-cell:/home/siimm/repod/ml-project-2-odds-oddities/notebooks/siim_playground.ipynb#W4sZmlsZQ%3D%3D?line=0'>1</a>\u001b[0m \u001b[39mfor\u001b[39;00m i \u001b[39min\u001b[39;00m \u001b[39mrange\u001b[39m(\u001b[39m5\u001b[39m):\n\u001b[0;32m----> <a href='vscode-notebook-cell:/home/siimm/repod/ml-project-2-odds-oddities/notebooks/siim_playground.ipynb#W4sZmlsZQ%3D%3D?line=1'>2</a>\u001b[0m     img, mask \u001b[39m=\u001b[39m train_dataset[i]\n\u001b[1;32m      <a href='vscode-notebook-cell:/home/siimm/repod/ml-project-2-odds-oddities/notebooks/siim_playground.ipynb#W4sZmlsZQ%3D%3D?line=2'>3</a>\u001b[0m     show_images(axis\u001b[39m=\u001b[39m\u001b[39mFalse\u001b[39;00m, satellite\u001b[39m=\u001b[39mimg\u001b[39m.\u001b[39mtranspose(\u001b[39m1\u001b[39m, \u001b[39m2\u001b[39m, \u001b[39m0\u001b[39m), ground_truth\u001b[39m=\u001b[39mmask\u001b[39m.\u001b[39msqueeze())\n",
      "File \u001b[0;32m~/repod/ml-project-2-odds-oddities/notebooks/../scripts/preprocessing.py:45\u001b[0m, in \u001b[0;36mRoadDataset.__getitem__\u001b[0;34m(self, i)\u001b[0m\n\u001b[1;32m     41\u001b[0m mask \u001b[39m=\u001b[39m np\u001b[39m.\u001b[39mexpand_dims(mask, \u001b[39m0\u001b[39m)\n\u001b[1;32m     43\u001b[0m \u001b[39mif\u001b[39;00m \u001b[39mself\u001b[39m\u001b[39m.\u001b[39mtransform:\n\u001b[1;32m     44\u001b[0m     \u001b[39m# Apply same transformation to image and mask\u001b[39;00m\n\u001b[0;32m---> 45\u001b[0m     transformed \u001b[39m=\u001b[39m \u001b[39mself\u001b[39;49m\u001b[39m.\u001b[39;49mtransform(image\u001b[39m=\u001b[39;49mimage, mask\u001b[39m=\u001b[39;49mmask)\n\u001b[1;32m     46\u001b[0m     \u001b[39mreturn\u001b[39;00m transformed[\u001b[39m'\u001b[39m\u001b[39mimage\u001b[39m\u001b[39m'\u001b[39m], transformed[\u001b[39m'\u001b[39m\u001b[39mmask\u001b[39m\u001b[39m'\u001b[39m]\n\u001b[1;32m     48\u001b[0m \u001b[39mreturn\u001b[39;00m image, mask\n",
      "File \u001b[0;32m~/repod/ml-project-2-odds-oddities/.venv/lib/python3.10/site-packages/albumentations/core/composition.py:195\u001b[0m, in \u001b[0;36mCompose.__call__\u001b[0;34m(self, force_apply, *args, **data)\u001b[0m\n\u001b[1;32m    193\u001b[0m     \u001b[39mraise\u001b[39;00m \u001b[39mKeyError\u001b[39;00m(\u001b[39m\"\u001b[39m\u001b[39mYou have to pass data to augmentations as named arguments, for example: aug(image=image)\u001b[39m\u001b[39m\"\u001b[39m)\n\u001b[1;32m    194\u001b[0m \u001b[39mif\u001b[39;00m \u001b[39mself\u001b[39m\u001b[39m.\u001b[39mis_check_args:\n\u001b[0;32m--> 195\u001b[0m     \u001b[39mself\u001b[39;49m\u001b[39m.\u001b[39;49m_check_args(\u001b[39m*\u001b[39;49m\u001b[39m*\u001b[39;49mdata)\n\u001b[1;32m    196\u001b[0m \u001b[39massert\u001b[39;00m \u001b[39misinstance\u001b[39m(force_apply, (\u001b[39mbool\u001b[39m, \u001b[39mint\u001b[39m)), \u001b[39m\"\u001b[39m\u001b[39mforce_apply must have bool or int type\u001b[39m\u001b[39m\"\u001b[39m\n\u001b[1;32m    197\u001b[0m need_to_run \u001b[39m=\u001b[39m force_apply \u001b[39mor\u001b[39;00m random\u001b[39m.\u001b[39mrandom() \u001b[39m<\u001b[39m \u001b[39mself\u001b[39m\u001b[39m.\u001b[39mp\n",
      "File \u001b[0;32m~/repod/ml-project-2-odds-oddities/.venv/lib/python3.10/site-packages/albumentations/core/composition.py:286\u001b[0m, in \u001b[0;36mCompose._check_args\u001b[0;34m(self, **kwargs)\u001b[0m\n\u001b[1;32m    283\u001b[0m         \u001b[39mraise\u001b[39;00m \u001b[39mValueError\u001b[39;00m(\u001b[39m\"\u001b[39m\u001b[39mbbox_params must be specified for bbox transformations\u001b[39m\u001b[39m\"\u001b[39m)\n\u001b[1;32m    285\u001b[0m \u001b[39mif\u001b[39;00m \u001b[39mself\u001b[39m\u001b[39m.\u001b[39mis_check_shapes \u001b[39mand\u001b[39;00m shapes \u001b[39mand\u001b[39;00m shapes\u001b[39m.\u001b[39mcount(shapes[\u001b[39m0\u001b[39m]) \u001b[39m!=\u001b[39m \u001b[39mlen\u001b[39m(shapes):\n\u001b[0;32m--> 286\u001b[0m     \u001b[39mraise\u001b[39;00m \u001b[39mValueError\u001b[39;00m(\n\u001b[1;32m    287\u001b[0m         \u001b[39m\"\u001b[39m\u001b[39mHeight and Width of image, mask or masks should be equal. You can disable shapes check \u001b[39m\u001b[39m\"\u001b[39m\n\u001b[1;32m    288\u001b[0m         \u001b[39m\"\u001b[39m\u001b[39mby setting a parameter is_check_shapes=False of Compose class (do it only if you are sure \u001b[39m\u001b[39m\"\u001b[39m\n\u001b[1;32m    289\u001b[0m         \u001b[39m\"\u001b[39m\u001b[39mabout your data consistency).\u001b[39m\u001b[39m\"\u001b[39m\n\u001b[1;32m    290\u001b[0m     )\n",
      "\u001b[0;31mValueError\u001b[0m: Height and Width of image, mask or masks should be equal. You can disable shapes check by setting a parameter is_check_shapes=False of Compose class (do it only if you are sure about your data consistency)."
     ]
    }
   ],
   "source": [
    "for i in range(5):\n",
    "    img, mask = train_dataset[i]\n",
    "    show_images(axis=False, satellite=img.transpose(1, 2, 0), ground_truth=mask.squeeze())"
   ]
  },
  {
   "cell_type": "code",
   "execution_count": 10,
   "metadata": {},
   "outputs": [
    {
     "name": "stderr",
     "output_type": "stream",
     "text": [
      "[ WARN:0@337.508] global loadsave.cpp:248 findDecoder imread_('/data/training/images/satImage_001.png'): can't open/read file: check file path/integrity\n"
     ]
    },
    {
     "ename": "error",
     "evalue": "OpenCV(4.8.1) /io/opencv/modules/imgproc/src/color.cpp:182: error: (-215:Assertion failed) !_src.empty() in function 'cvtColor'\n",
     "output_type": "error",
     "traceback": [
      "\u001b[0;31m---------------------------------------------------------------------------\u001b[0m",
      "\u001b[0;31merror\u001b[0m                                     Traceback (most recent call last)",
      "\u001b[1;32m/home/siimm/repod/ml-project-2-odds-oddities/notebooks/siim_playground.ipynb Cell 6\u001b[0m line \u001b[0;36m4\n\u001b[1;32m      <a href='vscode-notebook-cell:/home/siimm/repod/ml-project-2-odds-oddities/notebooks/siim_playground.ipynb#W5sZmlsZQ%3D%3D?line=0'>1</a>\u001b[0m \u001b[39mimport\u001b[39;00m \u001b[39mcv2\u001b[39;00m\n\u001b[1;32m      <a href='vscode-notebook-cell:/home/siimm/repod/ml-project-2-odds-oddities/notebooks/siim_playground.ipynb#W5sZmlsZQ%3D%3D?line=2'>3</a>\u001b[0m image \u001b[39m=\u001b[39m cv2\u001b[39m.\u001b[39mimread(\u001b[39m\"\u001b[39m\u001b[39m/data/training/images/satImage_001.png\u001b[39m\u001b[39m\"\u001b[39m)\n\u001b[0;32m----> <a href='vscode-notebook-cell:/home/siimm/repod/ml-project-2-odds-oddities/notebooks/siim_playground.ipynb#W5sZmlsZQ%3D%3D?line=3'>4</a>\u001b[0m image \u001b[39m=\u001b[39m cv2\u001b[39m.\u001b[39;49mcvtColor(image, cv2\u001b[39m.\u001b[39;49mCOLOR_BGR2RGB)\n\u001b[1;32m      <a href='vscode-notebook-cell:/home/siimm/repod/ml-project-2-odds-oddities/notebooks/siim_playground.ipynb#W5sZmlsZQ%3D%3D?line=5'>6</a>\u001b[0m mask \u001b[39m=\u001b[39m cv2\u001b[39m.\u001b[39mimread(\u001b[39m\"\u001b[39m\u001b[39m/data/training/groundtruth/satImage_001.png\u001b[39m\u001b[39m\"\u001b[39m)\n\u001b[1;32m      <a href='vscode-notebook-cell:/home/siimm/repod/ml-project-2-odds-oddities/notebooks/siim_playground.ipynb#W5sZmlsZQ%3D%3D?line=8'>9</a>\u001b[0m transform \u001b[39m=\u001b[39m A\u001b[39m.\u001b[39mCompose([\n\u001b[1;32m     <a href='vscode-notebook-cell:/home/siimm/repod/ml-project-2-odds-oddities/notebooks/siim_playground.ipynb#W5sZmlsZQ%3D%3D?line=9'>10</a>\u001b[0m     \u001b[39m#A.RandomCrop(width=256, height=256),\u001b[39;00m\n\u001b[1;32m     <a href='vscode-notebook-cell:/home/siimm/repod/ml-project-2-odds-oddities/notebooks/siim_playground.ipynb#W5sZmlsZQ%3D%3D?line=10'>11</a>\u001b[0m     \u001b[39m#A.HorizontalFlip(p=0.5),\u001b[39;00m\n\u001b[1;32m     <a href='vscode-notebook-cell:/home/siimm/repod/ml-project-2-odds-oddities/notebooks/siim_playground.ipynb#W5sZmlsZQ%3D%3D?line=11'>12</a>\u001b[0m     A\u001b[39m.\u001b[39mRandomBrightnessContrast(p\u001b[39m=\u001b[39m\u001b[39m0.5\u001b[39m),\n\u001b[1;32m     <a href='vscode-notebook-cell:/home/siimm/repod/ml-project-2-odds-oddities/notebooks/siim_playground.ipynb#W5sZmlsZQ%3D%3D?line=12'>13</a>\u001b[0m ])\n",
      "\u001b[0;31merror\u001b[0m: OpenCV(4.8.1) /io/opencv/modules/imgproc/src/color.cpp:182: error: (-215:Assertion failed) !_src.empty() in function 'cvtColor'\n"
     ]
    }
   ],
   "source": [
    "import cv2\n",
    "\n",
    "image = cv2.imread(\"data/training/images/satImage_001.png\")\n",
    "image = cv2.cvtColor(image, cv2.COLOR_BGR2RGB)\n",
    "\n",
    "mask = cv2.imread(\"data/training/groundtruth/satImage_001.png\")\n",
    "\n",
    "\n",
    "transform = A.Compose([\n",
    "    #A.RandomCrop(width=256, height=256),\n",
    "    #A.HorizontalFlip(p=0.5),\n",
    "    A.RandomBrightnessContrast(p=0.5),\n",
    "])\n",
    "\n",
    "transformed = transform(image=image, mask=mask)\n",
    "transformed_image = transformed['image']\n",
    "transformed_mask = transformed['mask']\n",
    "\n",
    "show_images(axis=False, satellite=transformed_image.transpose(1, 2, 0), ground_truth=transformed_mask.squeeze())"
   ]
  }
 ],
 "metadata": {
  "kernelspec": {
   "display_name": ".venv",
   "language": "python",
   "name": "python3"
  },
  "language_info": {
   "codemirror_mode": {
    "name": "ipython",
    "version": 3
   },
   "file_extension": ".py",
   "mimetype": "text/x-python",
   "name": "python",
   "nbconvert_exporter": "python",
   "pygments_lexer": "ipython3",
   "version": "3.10.12"
  }
 },
 "nbformat": 4,
 "nbformat_minor": 2
}
