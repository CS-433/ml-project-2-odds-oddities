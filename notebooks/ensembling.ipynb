{
 "cells": [
  {
   "cell_type": "markdown",
   "id": "44e77324caeb7103",
   "metadata": {
    "collapsed": false,
    "id": "44e77324caeb7103"
   },
   "source": [
    "# Ensembling\n",
    "\n",
    "The aim of this notebook is to test whether ensembling the neural networks will give better result than simply using one or another. For this purpose 3 encoder-decoder architectures were chosen keeping in mind that the best results are usually produced by diverse range of architectures:\n",
    "\n",
    "- [Inception](https://arxiv.org/abs/1409.4842) & [Unet++](https://arxiv.org/pdf/1807.10165.pdf)\n",
    "- [SegFormer](https://arxiv.org/pdf/2105.15203.pdf) & [Unet](https://arxiv.org/abs/1505.04597)\n",
    "- [EfficientNet](https://arxiv.org/abs/1905.11946) & [Unet++](https://arxiv.org/pdf/1807.10165.pdf)"
   ]
  },
  {
   "cell_type": "markdown",
   "id": "5c3bd0b296096edc",
   "metadata": {
    "collapsed": false,
    "id": "5c3bd0b296096edc"
   },
   "source": [
    "## Google Colab\n",
    "\n",
    "The following two cells will only be necessary in Google Colab. To avoid problems with imports, they are included in the notebook."
   ]
  },
  {
   "cell_type": "code",
   "execution_count": 2,
   "id": "6b9c7561c0988e12",
   "metadata": {
    "collapsed": false,
    "ExecuteTime": {
     "end_time": "2023-12-12T09:09:34.533290Z",
     "start_time": "2023-12-12T09:09:34.528131Z"
    }
   },
   "outputs": [],
   "source": [
    "import sys\n",
    "\n",
    "from scripts.inference import Ensembler\n",
    "from scripts.plotting import plot_cv_per_epoch\n",
    "\n",
    "IN_COLAB = 'google.colab' in sys.modules\n",
    "\n",
    "if IN_COLAB:\n",
    "    # noinspection PyUnresolvedReferences\n",
    "    from google.colab import drive\n",
    "\n",
    "    drive.mount('/content/drive')"
   ]
  },
  {
   "cell_type": "code",
   "execution_count": 3,
   "id": "6ca28bc5245f155c",
   "metadata": {
    "collapsed": false,
    "ExecuteTime": {
     "end_time": "2023-12-12T09:09:35.133139Z",
     "start_time": "2023-12-12T09:09:35.127364Z"
    }
   },
   "outputs": [],
   "source": [
    "import os\n",
    "import glob\n",
    "\n",
    "# let's keep this cell at the beginning for every notebook\n",
    "# for more convenient training in Google Colab\n",
    "def get_root_path(filename: str) -> str:\n",
    "    \"\"\"Get root path based on notebook's name.\"\"\"\n",
    "    filepath = glob.glob(os.getcwd() + '/**/' + filename, recursive=True)[0]\n",
    "    return os.path.dirname(os.path.dirname(filepath))\n",
    "\n",
    "ROOT_PATH = get_root_path('ensembling.ipynb')\n",
    "sys.path.append(ROOT_PATH)\n",
    "\n",
    "# go to the drive directory\n",
    "os.chdir(ROOT_PATH) if IN_COLAB else None"
   ]
  },
  {
   "cell_type": "markdown",
   "id": "d624e0026c589fad",
   "metadata": {
    "collapsed": false
   },
   "source": [
    "## Imports"
   ]
  },
  {
   "cell_type": "code",
   "execution_count": 49,
   "id": "661a28fbc323f84c",
   "metadata": {
    "collapsed": false,
    "ExecuteTime": {
     "end_time": "2023-12-12T09:24:57.199636Z",
     "start_time": "2023-12-12T09:24:57.185713Z"
    }
   },
   "outputs": [],
   "source": [
    "import os\n",
    "import cv2\n",
    "import torch\n",
    "\n",
    "import numpy as np\n",
    "import albumentations as A\n",
    "import segmentation_models_pytorch as smp\n",
    "\n",
    "from sklearn.model_selection import KFold\n",
    "from scripts.evaluation import EvaluationMonitor\n",
    "from scripts.preprocessing import RoadDataset, split_data\n",
    "from scripts.training import setup_seed, valid_epoch, train_epoch\n",
    "from torch.utils.data import DataLoader, SubsetRandomSampler\n",
    "from torch.optim.lr_scheduler import CosineAnnealingLR"
   ]
  },
  {
   "cell_type": "code",
   "execution_count": 5,
   "id": "fa5d6575c4861306",
   "metadata": {
    "collapsed": false,
    "ExecuteTime": {
     "end_time": "2023-12-12T09:09:38.340285Z",
     "start_time": "2023-12-12T09:09:38.334021Z"
    }
   },
   "outputs": [],
   "source": [
    "# hacky way for avoid problems with SSL when downloading some of the models\n",
    "import ssl\n",
    "ssl._create_default_https_context = ssl._create_unverified_context"
   ]
  },
  {
   "cell_type": "code",
   "execution_count": 6,
   "id": "4db7d71f1c441221",
   "metadata": {
    "collapsed": false,
    "ExecuteTime": {
     "end_time": "2023-12-12T09:09:38.342207Z",
     "start_time": "2023-12-12T09:09:38.337993Z"
    }
   },
   "outputs": [],
   "source": [
    "# setup seed for every possible way (numpy, Python, random, torch)\n",
    "SEED = 16\n",
    "setup_seed(SEED)"
   ]
  },
  {
   "cell_type": "markdown",
   "id": "cc8cd208897a9308",
   "metadata": {
    "collapsed": false,
    "id": "cc8cd208897a9308"
   },
   "source": [
    "## Data\n",
    "\n",
    "Specify the data directory and transformations. Notice that the data must first be downloaded using bash script (see README)."
   ]
  },
  {
   "cell_type": "code",
   "execution_count": 6,
   "id": "1c4f4dda06504ef5",
   "metadata": {
    "ExecuteTime": {
     "end_time": "2023-12-11T17:29:59.509876Z",
     "start_time": "2023-12-11T17:29:59.503261Z"
    },
    "executionInfo": {
     "elapsed": 443,
     "status": "ok",
     "timestamp": 1700508609231,
     "user": {
      "displayName": "Jan Kokla",
      "userId": "12594254134589162600"
     },
     "user_tz": -60
    },
    "id": "1c4f4dda06504ef5"
   },
   "outputs": [],
   "source": [
    "# specify train directory\n",
    "train_directory = os.path.join(ROOT_PATH, 'data', 'raw', 'train')"
   ]
  },
  {
   "cell_type": "code",
   "execution_count": 7,
   "id": "e5dfbbf47dcd0846",
   "metadata": {
    "ExecuteTime": {
     "end_time": "2023-12-11T17:30:00.755670Z",
     "start_time": "2023-12-11T17:29:59.510629Z"
    },
    "executionInfo": {
     "elapsed": 66794,
     "status": "ok",
     "timestamp": 1700508678052,
     "user": {
      "displayName": "Jan Kokla",
      "userId": "12594254134589162600"
     },
     "user_tz": -60
    },
    "id": "e5dfbbf47dcd0846"
   },
   "outputs": [],
   "source": [
    "# image paths so that all the images are used for train dataset (no test set for cv due to small training set)\n",
    "image_path_train, _, mask_path_train, _ = split_data(train_directory, test_size=0)\n",
    "\n",
    "# create train Dataset without transformations for now\n",
    "train_dataset = RoadDataset(image_path_train, mask_path_train)"
   ]
  },
  {
   "cell_type": "code",
   "execution_count": 8,
   "id": "b8db531ec43bc422",
   "metadata": {
    "ExecuteTime": {
     "end_time": "2023-12-11T17:30:00.764183Z",
     "start_time": "2023-12-11T17:30:00.756334Z"
    },
    "executionInfo": {
     "elapsed": 330,
     "status": "ok",
     "timestamp": 1700508685005,
     "user": {
      "displayName": "Jan Kokla",
      "userId": "12594254134589162600"
     },
     "user_tz": -60
    },
    "id": "b8db531ec43bc422"
   },
   "outputs": [],
   "source": [
    "# define transformations\n",
    "train_tf = A.Compose([\n",
    "    A.Resize(height=608, width=608, always_apply=True),\n",
    "    A.Rotate(p=0.5, limit=180, border_mode=cv2.BORDER_CONSTANT, rotate_method=\"ellipse\"),\n",
    "    A.RandomBrightnessContrast(p=0.5)\n",
    "])\n",
    "\n",
    "valid_tf = A.Compose([A.Resize(height=608, width=608, always_apply=True)])"
   ]
  },
  {
   "cell_type": "markdown",
   "id": "86ca6d59a354e03a",
   "metadata": {
    "collapsed": false,
    "id": "86ca6d59a354e03a"
   },
   "source": [
    "## Hyperparameters\n",
    "\n",
    "Specify hyperparameters for the experiments. As the aim of this notebook is to see if ensembling shows better results than using models alone, we can confine with 50 epochs. We will simply compare ensembling with separate models epoch-by-epoch. "
   ]
  },
  {
   "cell_type": "code",
   "execution_count": 9,
   "id": "a6bb08833d345ec0",
   "metadata": {
    "ExecuteTime": {
     "end_time": "2023-12-11T17:30:00.772768Z",
     "start_time": "2023-12-11T17:30:00.762793Z"
    },
    "executionInfo": {
     "elapsed": 761,
     "status": "ok",
     "timestamp": 1700508695367,
     "user": {
      "displayName": "Jan Kokla",
      "userId": "12594254134589162600"
     },
     "user_tz": -60
    },
    "id": "a6bb08833d345ec0"
   },
   "outputs": [],
   "source": [
    "ENCODER_WEIGHTS = 'imagenet'\n",
    "BATCH_SIZE = 4\n",
    "K_FOLD = 3\n",
    "N_CPU = os.cpu_count()\n",
    "N_EPOCHS = 50\n",
    "DEVICE = 'cuda' if torch.cuda.is_available() else 'cpu'"
   ]
  },
  {
   "cell_type": "markdown",
   "id": "51e794b627f2d1ed",
   "metadata": {
    "collapsed": false
   },
   "source": [
    "## Encode-Decoder Combinations\n",
    "\n",
    "As mentioned before, we picked diverse range of models that include one with quite limited number of parameters (EfficientNet), one with the best performance in the earlier benchmarks (Inception) and one with Transformer architecture (SegFold)."
   ]
  },
  {
   "cell_type": "code",
   "execution_count": 10,
   "id": "87806847173ab4ed",
   "metadata": {
    "ExecuteTime": {
     "end_time": "2023-12-11T17:30:00.773136Z",
     "start_time": "2023-12-11T17:30:00.767937Z"
    },
    "collapsed": false
   },
   "outputs": [],
   "source": [
    "encoder_decoder = [\n",
    "    ('inceptionv4', 'UnetPlusPlus'),\n",
    "    ('mit_b2', 'Unet'),\n",
    "    ('efficientnet-b4', 'UnetPlusPlus')\n",
    "]"
   ]
  },
  {
   "cell_type": "markdown",
   "id": "64a4294fcf3a7200",
   "metadata": {
    "collapsed": false,
    "id": "64a4294fcf3a7200"
   },
   "source": [
    "## Cross-Validation\n",
    "\n",
    "Cross-validation will this time be a little different since we want to use the same images with the same transformations for all models. Thus, the encapsulation follows the logic fold -> epoch -> model. "
   ]
  },
  {
   "cell_type": "code",
   "execution_count": 10,
   "id": "4147156d1bd303a8",
   "metadata": {
    "collapsed": false,
    "ExecuteTime": {
     "end_time": "2023-12-12T09:10:09.006970Z",
     "start_time": "2023-12-12T09:10:08.997542Z"
    }
   },
   "outputs": [],
   "source": [
    "# specify the object to save the training and validation results\n",
    "eval_monitor = EvaluationMonitor(os.path.join(ROOT_PATH, 'data', 'results', 'ensembling'))"
   ]
  },
  {
   "cell_type": "code",
   "execution_count": null,
   "id": "initial_id",
   "metadata": {
    "collapsed": false
   },
   "outputs": [],
   "source": [
    "k_fold = KFold(n_splits=K_FOLD, shuffle=True, random_state=SEED)\n",
    "\n",
    "# Get training and validation indices\n",
    "for fold, (train_idx, val_idx) in enumerate(k_fold.split(train_dataset)):\n",
    "\n",
    "    # Create training and validation loaders by providing current K-Fold train/validation indices to Sampler\n",
    "    train_loader = DataLoader(\n",
    "        train_dataset.set_tf(train_tf), sampler=SubsetRandomSampler(train_idx), batch_size=BATCH_SIZE\n",
    "    )\n",
    "\n",
    "    valid_loader = DataLoader(\n",
    "        train_dataset.set_tf(valid_tf), sampler=SubsetRandomSampler(val_idx), batch_size=BATCH_SIZE\n",
    "    )\n",
    "    \n",
    "    # specify models, scheduler, criterion and optimizer\n",
    "    models = [\n",
    "        smp.create_model(\n",
    "            decoder, encoder_name=encoder, encoder_weights=ENCODER_WEIGHTS\n",
    "        ).to(DEVICE) for encoder, decoder in encoder_decoder\n",
    "    ]\n",
    "\n",
    "    optimizers = [torch.optim.Adam(model_.parameters(), lr=0.0005) for model_ in models]\n",
    "    t_max = (len(train_loader.dataset) * N_EPOCHS) // train_loader.batch_size\n",
    "    schedulers = [CosineAnnealingLR(optimizer_, T_max=t_max, ) for optimizer_ in optimizers]\n",
    "    criterion_ = smp.losses.DiceLoss(smp.losses.BINARY_MODE, from_logits=True)\n",
    "\n",
    "    zipped_values = [encoder_decoder, models, optimizers, schedulers]\n",
    "\n",
    "    for i in range(N_EPOCHS):\n",
    "\n",
    "        ensembler = Ensembler()\n",
    "\n",
    "        # since we want to have the same transformations for every model\n",
    "        train_data = [(image, mask) for image, mask in train_loader]\n",
    "        valid_data = [(image, mask) for image, mask in valid_loader]\n",
    "\n",
    "        for (enc, dec), model_, opt_, sched_ in zip(*zipped_values):\n",
    "            ensembler.set_model(enc, dec)\n",
    "\n",
    "            _, train_f1 = train_epoch(\n",
    "                model_, train_data, criterion_, opt_, sched_, i + 1, ensembler=ensembler\n",
    "            )\n",
    "            _, valid_f1 = valid_epoch(\n",
    "                model_, valid_data, criterion_, i + 1, ensembler=ensembler\n",
    "            )\n",
    "\n",
    "            eval_monitor.update_metrics_by_fold(\n",
    "                setup='+'.join([enc, dec]),\n",
    "                fold=fold,\n",
    "                training_f1=train_f1,\n",
    "                validation_f1=valid_f1\n",
    "            )\n",
    "\n",
    "        # log the results of meta learner\n",
    "        eval_monitor.update_metrics_by_fold(\n",
    "            setup='ensembling',\n",
    "            fold=fold,\n",
    "            training_f1=ensembler.get_f1('training'),\n",
    "            validation_f1=ensembler.get_f1('validation')\n",
    "        )\n",
    "\n",
    "    eval_monitor.update_jsons()"
   ]
  },
  {
   "cell_type": "markdown",
   "id": "fd70cdcdc704f9da",
   "metadata": {
    "collapsed": false
   },
   "source": [
    "## Ensembling\n",
    "\n",
    "CV was run on colab, the results saved to JSON, and now we can compare the results."
   ]
  },
  {
   "cell_type": "code",
   "execution_count": 52,
   "id": "8eea3e5a5af45f76",
   "metadata": {
    "collapsed": false,
    "ExecuteTime": {
     "end_time": "2023-12-12T09:25:17.328541Z",
     "start_time": "2023-12-12T09:25:17.111040Z"
    }
   },
   "outputs": [
    {
     "data": {
      "text/plain": "<Figure size 640x480 with 0 Axes>"
     },
     "metadata": {},
     "output_type": "display_data"
    },
    {
     "data": {
      "text/plain": "<Figure size 640x440 with 1 Axes>",
      "image/png": "[encoded data removed]"
     },
     "metadata": {},
     "output_type": "display_data"
    }
   ],
   "source": [
    "cv_val = eval_monitor.data['validation_f1']\n",
    "\n",
    "cv_data = {\n",
    "    r'Inception \\& Unet++': np.array(cv_val[('inceptionv4', 'UnetPlusPlus')]),\n",
    "    r'EfficientNet \\& Unet++': np.array(cv_val[('efficientnet-b4', 'UnetPlusPlus')]),\n",
    "    r'Segformer \\& Unet': np.array(cv_val[('mit_b2', 'Unet')]),\n",
    "    r'ensembling': np.array(cv_val[('ensembling',)])\n",
    "}\n",
    "\n",
    "plot_cv_per_epoch(\n",
    "    y_label=r'$mean f1$',\n",
    "    x_label=r'$epochs$',\n",
    "    title='',\n",
    "    is_std=False,\n",
    "    **cv_data\n",
    ")"
   ]
  },
  {
   "cell_type": "code",
   "execution_count": null,
   "id": "3a8cda2f3f30957a",
   "metadata": {
    "collapsed": false
   },
   "outputs": [],
   "source": []
  }
 ],
 "metadata": {
  "accelerator": "GPU",
  "colab": {
   "gpuType": "T4",
   "provenance": [],
   "toc_visible": true
  },
  "kernelspec": {
   "display_name": "Python 3 (ipykernel)",
   "language": "python",
   "name": "python3"
  },
  "language_info": {
   "codemirror_mode": {
    "name": "ipython",
    "version": 3
   },
   "file_extension": ".py",
   "mimetype": "text/x-python",
   "name": "python",
   "nbconvert_exporter": "python",
   "pygments_lexer": "ipython3",
   "version": "3.9.18"
  }
 },
 "nbformat": 4,
 "nbformat_minor": 5
}
