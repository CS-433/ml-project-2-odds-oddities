{
 "cells": [
  {
   "cell_type": "markdown",
   "id": "44e77324caeb7103",
   "metadata": {
    "collapsed": false,
    "id": "44e77324caeb7103"
   },
   "source": [
    "# Hyperparameter Optimization\n",
    "\n",
    "The aim of this notebook is to tune the hyperparameters for the 3 models that were chosen to be included in the ensembling: \n",
    "- [Inception](https://arxiv.org/abs/1409.4842) & [Unet++](https://arxiv.org/pdf/1807.10165.pdf)\n",
    "- [SegFormer](https://arxiv.org/pdf/2105.15203.pdf) & [Unet](https://arxiv.org/abs/1505.04597)\n",
    "- [EfficientNet](https://arxiv.org/abs/1905.11946) & [Unet++](https://arxiv.org/pdf/1807.10165.pdf)\n",
    "\n",
    "[Flaml](https://arxiv.org/pdf/1911.04706.pdf) is used for that purpose as it offers a convenient API and [efficient optimization algorithm](https://arxiv.org/pdf/2005.01571.pdf)."
   ]
  },
  {
   "cell_type": "markdown",
   "id": "5c3bd0b296096edc",
   "metadata": {
    "collapsed": false,
    "id": "5c3bd0b296096edc"
   },
   "source": [
    "## Google Colab\n",
    "\n",
    "The following two cells will only be necessary in Google Colab. To avoid problems with imports, they are included in the notebook."
   ]
  },
  {
   "cell_type": "code",
   "execution_count": 1,
   "outputs": [],
   "source": [
    "import json\n",
    "import sys\n",
    "\n",
    "IN_COLAB = 'google.colab' in sys.modules\n",
    "\n",
    "if IN_COLAB:\n",
    "    # noinspection PyUnresolvedReferences\n",
    "    from google.colab import drive\n",
    "    drive.mount('/content/drive')"
   ],
   "metadata": {
    "collapsed": false,
    "ExecuteTime": {
     "end_time": "2023-12-12T08:27:26.350682Z",
     "start_time": "2023-12-12T08:27:26.150907Z"
    }
   },
   "id": "6b9c7561c0988e12"
  },
  {
   "cell_type": "code",
   "execution_count": 2,
   "outputs": [],
   "source": [
    "import os\n",
    "import glob\n",
    "\n",
    "# let's keep this cell at the beginning for every notebook\n",
    "# for more convenient training in Google Colab\n",
    "def get_root_path(filename: str) -> str: \n",
    "    \"\"\"Get root path based on notebook's name.\"\"\"\n",
    "    filepath = glob.glob(os.getcwd() + '/**/' + filename, recursive = True)[0]\n",
    "    return os.path.dirname(os.path.dirname(filepath))\n",
    "\n",
    "ROOT_PATH = get_root_path('hyperopt.ipynb')\n",
    "sys.path.append(ROOT_PATH)\n",
    "\n",
    "# go to the drive directory\n",
    "os.chdir(ROOT_PATH) if IN_COLAB else None"
   ],
   "metadata": {
    "collapsed": false,
    "ExecuteTime": {
     "end_time": "2023-12-12T08:27:26.351213Z",
     "start_time": "2023-12-12T08:27:26.161663Z"
    }
   },
   "id": "6ca28bc5245f155c"
  },
  {
   "cell_type": "markdown",
   "source": [
    "## Imports"
   ],
   "metadata": {
    "collapsed": false
   },
   "id": "d624e0026c589fad"
  },
  {
   "cell_type": "code",
   "execution_count": 3,
   "outputs": [],
   "source": [
    "import os\n",
    "import cv2\n",
    "\n",
    "import albumentations as A\n",
    "import flaml\n",
    "\n",
    "from ray import tune\n",
    "from scripts.preprocessing import RoadDataset, split_data\n",
    "from scripts.training import setup_seed, tune_hyperparams"
   ],
   "metadata": {
    "collapsed": false,
    "ExecuteTime": {
     "end_time": "2023-12-12T08:28:01.598036Z",
     "start_time": "2023-12-12T08:27:26.173319Z"
    }
   },
   "id": "661a28fbc323f84c"
  },
  {
   "cell_type": "code",
   "execution_count": 4,
   "outputs": [],
   "source": [
    "# hacky way for avoid problems with SSL when downloading some of the models\n",
    "import ssl\n",
    "ssl._create_default_https_context = ssl._create_unverified_context"
   ],
   "metadata": {
    "collapsed": false,
    "ExecuteTime": {
     "end_time": "2023-12-12T08:28:01.607937Z",
     "start_time": "2023-12-12T08:28:01.600306Z"
    }
   },
   "id": "fa5d6575c4861306"
  },
  {
   "cell_type": "code",
   "execution_count": 5,
   "outputs": [],
   "source": [
    "# setup seed for every possible way (numpy, Python, random, torch)\n",
    "SEED = 16\n",
    "setup_seed(SEED)"
   ],
   "metadata": {
    "collapsed": false,
    "ExecuteTime": {
     "end_time": "2023-12-12T08:28:01.619806Z",
     "start_time": "2023-12-12T08:28:01.607354Z"
    }
   },
   "id": "4db7d71f1c441221"
  },
  {
   "cell_type": "markdown",
   "id": "cc8cd208897a9308",
   "metadata": {
    "collapsed": false,
    "id": "cc8cd208897a9308"
   },
   "source": [
    "## Data\n",
    "\n",
    "Specify the data directory and transformations. Notice that the data must first be downloaded using bash script (see README)."
   ]
  },
  {
   "cell_type": "code",
   "execution_count": 6,
   "id": "1c4f4dda06504ef5",
   "metadata": {
    "executionInfo": {
     "elapsed": 443,
     "status": "ok",
     "timestamp": 1700508609231,
     "user": {
      "displayName": "Jan Kokla",
      "userId": "12594254134589162600"
     },
     "user_tz": -60
    },
    "id": "1c4f4dda06504ef5",
    "ExecuteTime": {
     "end_time": "2023-12-12T08:28:01.629540Z",
     "start_time": "2023-12-12T08:28:01.616217Z"
    }
   },
   "outputs": [],
   "source": [
    "# specify train directory\n",
    "train_directory = os.path.join(ROOT_PATH, 'data', 'raw', 'train')"
   ]
  },
  {
   "cell_type": "code",
   "execution_count": 7,
   "id": "b8db531ec43bc422",
   "metadata": {
    "executionInfo": {
     "elapsed": 330,
     "status": "ok",
     "timestamp": 1700508685005,
     "user": {
      "displayName": "Jan Kokla",
      "userId": "12594254134589162600"
     },
     "user_tz": -60
    },
    "id": "b8db531ec43bc422",
    "ExecuteTime": {
     "end_time": "2023-12-12T08:28:01.631272Z",
     "start_time": "2023-12-12T08:28:01.619620Z"
    }
   },
   "outputs": [],
   "source": [
    "# define transformations\n",
    "train_tf = A.Compose([\n",
    "    A.Resize(height=608, width=608, always_apply=True),\n",
    "    A.Rotate(p=0.5, limit=180, border_mode=cv2.BORDER_CONSTANT, rotate_method=\"ellipse\"),\n",
    "    A.RandomBrightnessContrast(p=0.5)\n",
    "])\n",
    "\n",
    "valid_tf = A.Compose([A.Resize(height=608, width=608, always_apply=True)])"
   ]
  },
  {
   "cell_type": "code",
   "execution_count": 8,
   "outputs": [],
   "source": [
    "# split the image paths into train and validation\n",
    "image_path_train, image_path_val, mask_path_train, mask_path_val = split_data(train_directory, 0.2)\n",
    "\n",
    "# get train and val dataset instances\n",
    "train_dataset = RoadDataset(image_path_train, mask_path_train, train_tf)\n",
    "val_dataset = RoadDataset(image_path_val, mask_path_val, valid_tf)\n",
    "\n",
    "# put them into a tuple for the following optimization function\n",
    "ds = (train_dataset, val_dataset)"
   ],
   "metadata": {
    "collapsed": false,
    "ExecuteTime": {
     "end_time": "2023-12-12T08:28:03.016772Z",
     "start_time": "2023-12-12T08:28:01.630183Z"
    }
   },
   "id": "fcca102343c889cc"
  },
  {
   "cell_type": "markdown",
   "source": [
    "## Hyperparameters\n",
    "\n",
    "First, specify the encoder-decoder pair that you want to optimize, and then you can specify optimization parameters. For the parameters, we optimize:\n",
    "\n",
    "- learning rate (\"lr\")\n",
    "- epochs (\"num_epochs\")\n",
    "- batch_size (\"batch_size\")\n",
    "- loss function: either DiceLoss or FocalLoss (\"criterion\")"
   ],
   "metadata": {
    "collapsed": false
   },
   "id": "22430d9a319db8e4"
  },
  {
   "cell_type": "code",
   "execution_count": 14,
   "outputs": [],
   "source": [
    "# specify the encoder-decoder pair\n",
    "ENCODER = 'efficientnet-b4'\n",
    "DECODER = 'UnetPlusPlus'"
   ],
   "metadata": {
    "collapsed": false,
    "ExecuteTime": {
     "end_time": "2023-12-12T08:32:06.472430Z",
     "start_time": "2023-12-12T08:32:06.466056Z"
    }
   },
   "id": "42517c0efc0c67fa"
  },
  {
   "cell_type": "code",
   "execution_count": 15,
   "outputs": [],
   "source": [
    "# optimization parameters\n",
    "max_num_epoch = 150\n",
    "time_budget_s = 9000  # 2.5 hours \n",
    "num_samples = -1  # as long as the time budget allows\n",
    "\n",
    "config = {\n",
    "    \"lr\": tune.loguniform(1e-4, 1e-1),\n",
    "    \"num_epochs\": tune.loguniform(1, max_num_epoch),\n",
    "    \"batch_size\": tune.randint(1, 9),\n",
    "    \"criterion\": tune.choice([\"dice_loss\", \"focal_loss\"])\n",
    "}"
   ],
   "metadata": {
    "collapsed": false,
    "ExecuteTime": {
     "end_time": "2023-12-12T08:32:07.642434Z",
     "start_time": "2023-12-12T08:32:07.634932Z"
    }
   },
   "id": "ee431218f9de36df"
  },
  {
   "cell_type": "markdown",
   "source": [
    "## Tuning\n",
    "\n",
    "Now we can use Flaml with Ray and Optuna to optimize the hyperparameters."
   ],
   "metadata": {
    "collapsed": false
   },
   "id": "f6c64f50d3c97d4e"
  },
  {
   "cell_type": "code",
   "execution_count": null,
   "outputs": [],
   "source": [
    "result = flaml.tune.run(\n",
    "    tune.with_parameters(tune_hyperparams, encoder=ENCODER, decoder=DECODER, datasets=ds), \n",
    "    config=config,\n",
    "    metric=\"f1\",\n",
    "    mode=\"max\",\n",
    "    low_cost_partial_config={\"num_epochs\": 30},\n",
    "    resources_per_trial={'gpu': 1},\n",
    "    max_resource=max_num_epoch,\n",
    "    local_dir='logs/',\n",
    "    time_budget_s=time_budget_s,\n",
    "    num_samples=num_samples,\n",
    "    use_ray=True\n",
    ")"
   ],
   "metadata": {
    "collapsed": false
   },
   "id": "eda3357f79cb4ab3"
  },
  {
   "cell_type": "markdown",
   "source": [
    "## Save Best Config\n",
    "\n",
    "Best config will be saved to JSON."
   ],
   "metadata": {
    "collapsed": false
   },
   "id": "a9e76d3284d9ba77"
  },
  {
   "cell_type": "code",
   "execution_count": 25,
   "outputs": [],
   "source": [
    "best_config = result.get_best_trial(\"f1\", \"max\", \"all\").config.copy()\n",
    "best_config"
   ],
   "metadata": {
    "collapsed": false,
    "ExecuteTime": {
     "end_time": "2023-12-11T11:58:36.573690Z",
     "start_time": "2023-12-11T11:58:36.562619Z"
    }
   },
   "id": "9d8ab04fd5865c59"
  },
  {
   "cell_type": "code",
   "execution_count": 27,
   "outputs": [],
   "source": [
    "# specify config path and read it in\n",
    "config_path = os.path.join(ROOT_PATH, 'data', 'results', 'hyperopt', 'configs.json')\n",
    "with open(config_path, 'r') as file:\n",
    "  data = json.load(file)\n",
    "\n",
    "# as JSON allows only strings as keys -> generate encoder-decoder string\n",
    "model = \"+\".join([ENCODER, DECODER])\n",
    "data[model] = best_config"
   ],
   "metadata": {
    "collapsed": false,
    "ExecuteTime": {
     "end_time": "2023-12-11T11:58:42.730855Z",
     "start_time": "2023-12-11T11:58:42.723461Z"
    }
   },
   "id": "7b21b779a09ca6df"
  },
  {
   "cell_type": "code",
   "execution_count": 20,
   "outputs": [
    {
     "data": {
      "text/plain": "{'resnet18+unet': {'num_epochs': 1.0,\n  'lr': 0.00019601811957324142,\n  'batch_size': 1}}"
     },
     "execution_count": 20,
     "metadata": {},
     "output_type": "execute_result"
    }
   ],
   "source": [
    "data"
   ],
   "metadata": {
    "collapsed": false,
    "ExecuteTime": {
     "end_time": "2023-12-11T11:58:00.787881Z",
     "start_time": "2023-12-11T11:58:00.778614Z"
    }
   },
   "id": "1835ee90db5b5bc7"
  },
  {
   "cell_type": "code",
   "execution_count": 29,
   "outputs": [],
   "source": [
    "# save the updated JSON\n",
    "with open(config_path, 'w') as file:\n",
    "  json.dump(data, file)"
   ],
   "metadata": {
    "collapsed": false,
    "ExecuteTime": {
     "end_time": "2023-12-11T11:59:11.810880Z",
     "start_time": "2023-12-11T11:59:11.801537Z"
    }
   },
   "id": "d06e33612c68c6f8"
  },
  {
   "cell_type": "code",
   "execution_count": null,
   "outputs": [],
   "source": [],
   "metadata": {
    "collapsed": false
   },
   "id": "5acca28c36e7f04d"
  }
 ],
 "metadata": {
  "accelerator": "GPU",
  "colab": {
   "gpuType": "T4",
   "provenance": [],
   "toc_visible": true
  },
  "kernelspec": {
   "display_name": "Python 3 (ipykernel)",
   "language": "python",
   "name": "python3"
  },
  "language_info": {
   "codemirror_mode": {
    "name": "ipython",
    "version": 3
   },
   "file_extension": ".py",
   "mimetype": "text/x-python",
   "name": "python",
   "nbconvert_exporter": "python",
   "pygments_lexer": "ipython3",
   "version": "3.10.12"
  }
 },
 "nbformat": 4,
 "nbformat_minor": 5
}
