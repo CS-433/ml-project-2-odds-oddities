{
 "cells": [
  {
   "cell_type": "markdown",
   "id": "44e77324caeb7103",
   "metadata": {
    "collapsed": false,
    "id": "44e77324caeb7103"
   },
   "source": [
    "# Decoders\n",
    "\n",
    "The aim of this notebook is to test different architectures with fixed encoder (resnet34). The following architectures will be tested:\n",
    "\n",
    "- [Unet](https://arxiv.org/abs/1505.04597)\n",
    "- [Unet++](https://arxiv.org/pdf/1807.10165.pdf)\n",
    "- [MAnet](https://ieeexplore.ieee.org/abstract/document/9201310)\n",
    "- [PSPNet](https://arxiv.org/abs/1612.01105)\n",
    "- [DeepLabV3](https://arxiv.org/abs/1706.05587)\n",
    "- [DeepLabV3+](https://arxiv.org/abs/1802.02611)"
   ]
  },
  {
   "cell_type": "markdown",
   "id": "5c3bd0b296096edc",
   "metadata": {
    "collapsed": false,
    "id": "5c3bd0b296096edc"
   },
   "source": [
    "## Google Colab\n",
    "\n",
    "The following two cells will be necessary in Google Colab. To avoid problems with imports, they are included in the notebook."
   ]
  },
  {
   "cell_type": "code",
   "execution_count": 35,
   "outputs": [],
   "source": [
    "import sys\n",
    "\n",
    "IN_COLAB = 'google.colab' in sys.modules\n",
    "\n",
    "if IN_COLAB:\n",
    "    # noinspection PyUnresolvedReferences\n",
    "    from google.colab import drive\n",
    "    drive.mount('/content/drive')"
   ],
   "metadata": {
    "collapsed": false,
    "ExecuteTime": {
     "end_time": "2023-12-19T11:21:44.685671Z",
     "start_time": "2023-12-19T11:21:44.629659Z"
    }
   },
   "id": "6b9c7561c0988e12"
  },
  {
   "cell_type": "code",
   "execution_count": 36,
   "outputs": [],
   "source": [
    "import os\n",
    "import glob\n",
    "\n",
    "# let's keep this cell at the beginning for every notebook\n",
    "# for more convenient training in Google Colab\n",
    "def get_root_path(filename: str) -> str: \n",
    "    \"\"\"Get root path based on notebook's name.\"\"\"\n",
    "    filepath = glob.glob(os.getcwd() + '/**/' + filename, recursive = True)[0]\n",
    "    return os.path.dirname(os.path.dirname(filepath))\n",
    "\n",
    "ROOT_PATH = get_root_path('decoders.ipynb')\n",
    "sys.path.append(ROOT_PATH)\n",
    "\n",
    "# go to the drive directory\n",
    "os.chdir(ROOT_PATH) if IN_COLAB else None"
   ],
   "metadata": {
    "collapsed": false,
    "ExecuteTime": {
     "end_time": "2023-12-19T11:21:44.723081Z",
     "start_time": "2023-12-19T11:21:44.638127Z"
    }
   },
   "id": "6ca28bc5245f155c"
  },
  {
   "cell_type": "markdown",
   "source": [
    "## Imports"
   ],
   "metadata": {
    "collapsed": false
   },
   "id": "d624e0026c589fad"
  },
  {
   "cell_type": "code",
   "execution_count": 37,
   "outputs": [],
   "source": [
    "import os\n",
    "import cv2\n",
    "import torch\n",
    "\n",
    "import albumentations as A\n",
    "import matplotlib.pyplot as plt\n",
    "import segmentation_models_pytorch as smp\n",
    "\n",
    "from distutils.spawn import find_executable\n",
    "from sklearn.model_selection import KFold\n",
    "from scripts.evaluation import EvaluationMonitor, get_best_f1_per_setup\n",
    "from segmentation_models_pytorch.encoders import get_preprocessing_fn\n",
    "from scripts.preprocessing import RoadDataset, split_data, get_preprocessing\n",
    "from scripts.training import train_model, setup_seed\n",
    "from torch.utils.data import DataLoader, SubsetRandomSampler"
   ],
   "metadata": {
    "collapsed": false,
    "ExecuteTime": {
     "end_time": "2023-12-19T11:21:44.739982Z",
     "start_time": "2023-12-19T11:21:44.647988Z"
    }
   },
   "id": "661a28fbc323f84c"
  },
  {
   "cell_type": "code",
   "execution_count": 38,
   "outputs": [],
   "source": [
    "SEED = 16\n",
    "setup_seed(SEED)"
   ],
   "metadata": {
    "collapsed": false,
    "ExecuteTime": {
     "end_time": "2023-12-19T11:21:44.740863Z",
     "start_time": "2023-12-19T11:21:44.652849Z"
    }
   },
   "id": "50075d6221d3bdee"
  },
  {
   "cell_type": "markdown",
   "id": "cc8cd208897a9308",
   "metadata": {
    "collapsed": false,
    "id": "cc8cd208897a9308"
   },
   "source": [
    "## Data"
   ]
  },
  {
   "cell_type": "code",
   "execution_count": 39,
   "id": "1c4f4dda06504ef5",
   "metadata": {
    "executionInfo": {
     "elapsed": 443,
     "status": "ok",
     "timestamp": 1700508609231,
     "user": {
      "displayName": "Jan Kokla",
      "userId": "12594254134589162600"
     },
     "user_tz": -60
    },
    "id": "1c4f4dda06504ef5",
    "ExecuteTime": {
     "end_time": "2023-12-19T11:21:44.743157Z",
     "start_time": "2023-12-19T11:21:44.659779Z"
    }
   },
   "outputs": [],
   "source": [
    "# specify train directory\n",
    "train_directory = os.path.join(ROOT_PATH, 'data', 'raw', 'train')"
   ]
  },
  {
   "cell_type": "code",
   "execution_count": 40,
   "outputs": [],
   "source": [
    "# get encoder-specific transformations\n",
    "preprocess_input = get_preprocessing_fn('resnet34', pretrained='imagenet')"
   ],
   "metadata": {
    "collapsed": false,
    "ExecuteTime": {
     "end_time": "2023-12-19T11:21:44.744035Z",
     "start_time": "2023-12-19T11:21:44.662595Z"
    }
   },
   "id": "5c3a66dca4bc4100"
  },
  {
   "cell_type": "code",
   "execution_count": 41,
   "id": "e5dfbbf47dcd0846",
   "metadata": {
    "executionInfo": {
     "elapsed": 66794,
     "status": "ok",
     "timestamp": 1700508678052,
     "user": {
      "displayName": "Jan Kokla",
      "userId": "12594254134589162600"
     },
     "user_tz": -60
    },
    "id": "e5dfbbf47dcd0846",
    "ExecuteTime": {
     "end_time": "2023-12-19T11:21:46.199176Z",
     "start_time": "2023-12-19T11:21:44.668966Z"
    }
   },
   "outputs": [],
   "source": [
    "# image paths so that all the images are used for train dataset\n",
    "image_path_train, _, mask_path_train, _ = split_data(train_directory, test_size=0)\n",
    "\n",
    "# create train Dataset without transformations for now\n",
    "train_dataset = RoadDataset(image_path_train, mask_path_train, get_preprocessing(preprocess_input))"
   ]
  },
  {
   "cell_type": "code",
   "execution_count": 42,
   "id": "b8db531ec43bc422",
   "metadata": {
    "executionInfo": {
     "elapsed": 330,
     "status": "ok",
     "timestamp": 1700508685005,
     "user": {
      "displayName": "Jan Kokla",
      "userId": "12594254134589162600"
     },
     "user_tz": -60
    },
    "id": "b8db531ec43bc422",
    "ExecuteTime": {
     "end_time": "2023-12-19T11:21:46.207513Z",
     "start_time": "2023-12-19T11:21:46.197619Z"
    }
   },
   "outputs": [],
   "source": [
    "# define transformations\n",
    "train_tf = A.Compose([\n",
    "    A.Resize(height=608, width=608, always_apply=True),\n",
    "    A.Rotate(p=0.5, limit=180, border_mode=cv2.BORDER_CONSTANT, rotate_method=\"ellipse\"),\n",
    "    A.RandomBrightnessContrast(p=0.5)\n",
    "])\n",
    "\n",
    "valid_tf = A.Compose([A.Resize(height=608, width=608, always_apply=True)])"
   ]
  },
  {
   "cell_type": "markdown",
   "source": [
    "## Models\n",
    "\n",
    "Define models, that we're going to use and create monitor object for later evaluation.\n",
    "('Unet', 'UnetPlusPlus', 'MAnet', 'PSPNet', 'DeepLabV3', 'DeepLabV3Plus')"
   ],
   "metadata": {
    "collapsed": false
   },
   "id": "51e794b627f2d1ed"
  },
  {
   "cell_type": "markdown",
   "source": [],
   "metadata": {
    "collapsed": false
   },
   "id": "6166fb69af48c699"
  },
  {
   "cell_type": "code",
   "execution_count": 43,
   "id": "87806847173ab4ed",
   "metadata": {
    "executionInfo": {
     "elapsed": 301,
     "status": "ok",
     "timestamp": 1700508686557,
     "user": {
      "displayName": "Jan Kokla",
      "userId": "12594254134589162600"
     },
     "user_tz": -60
    },
    "id": "87806847173ab4ed",
    "ExecuteTime": {
     "end_time": "2023-12-19T11:21:46.225654Z",
     "start_time": "2023-12-19T11:21:46.208657Z"
    }
   },
   "outputs": [],
   "source": [
    "# specify the root path for evaluation json-s\n",
    "evaluation_dir = os.path.join(ROOT_PATH, 'data', 'results', 'decoder')\n",
    "monitor = EvaluationMonitor(evaluation_dir)\n",
    "models = monitor.get_not_updated_models()"
   ]
  },
  {
   "cell_type": "markdown",
   "id": "86ca6d59a354e03a",
   "metadata": {
    "collapsed": false,
    "id": "86ca6d59a354e03a"
   },
   "source": [
    "## Hyperparameters\n",
    "\n",
    "Since our aim is to see, how different architectures influence the training, we fix the model, epochs and batch sizes."
   ]
  },
  {
   "cell_type": "code",
   "execution_count": 44,
   "id": "a6bb08833d345ec0",
   "metadata": {
    "executionInfo": {
     "elapsed": 761,
     "status": "ok",
     "timestamp": 1700508695367,
     "user": {
      "displayName": "Jan Kokla",
      "userId": "12594254134589162600"
     },
     "user_tz": -60
    },
    "id": "a6bb08833d345ec0",
    "ExecuteTime": {
     "end_time": "2023-12-19T11:21:46.238496Z",
     "start_time": "2023-12-19T11:21:46.224624Z"
    }
   },
   "outputs": [],
   "source": [
    "ENCODER = 'resnet34'\n",
    "ENCODER_WEIGHTS = 'imagenet'\n",
    "\n",
    "BATCH_SIZE = 4\n",
    "K_FOLD = 5\n",
    "N_CPU = os.cpu_count()\n",
    "N_EPOCHS = 50"
   ]
  },
  {
   "cell_type": "markdown",
   "id": "64a4294fcf3a7200",
   "metadata": {
    "collapsed": false,
    "id": "64a4294fcf3a7200"
   },
   "source": [
    "## Cross-Validation"
   ]
  },
  {
   "cell_type": "code",
   "execution_count": 45,
   "id": "initial_id",
   "metadata": {
    "colab": {
     "base_uri": "https://localhost:8080/"
    },
    "collapsed": true,
    "executionInfo": {
     "elapsed": 705616,
     "status": "ok",
     "timestamp": 1700509405450,
     "user": {
      "displayName": "Jan Kokla",
      "userId": "12594254134589162600"
     },
     "user_tz": -60
    },
    "id": "initial_id",
    "outputId": "0051ace9-0448-4556-f4af-58d3f1cf7df9",
    "ExecuteTime": {
     "end_time": "2023-12-19T11:21:46.250124Z",
     "start_time": "2023-12-19T11:21:46.240616Z"
    }
   },
   "outputs": [],
   "source": [
    "for model_name in models:\n",
    "\n",
    "    print(f'model: {str(model_name)}')\n",
    "\n",
    "    k_fold = KFold(n_splits=K_FOLD, shuffle=True, random_state=SEED)\n",
    "\n",
    "    # Record K-fold results in a (K_FOLD, num_epoch) matrix\n",
    "    training_loss_matrix = []\n",
    "    validation_loss_matrix = []\n",
    "    training_f1_matrix = []\n",
    "    validation_f1_matrix = []\n",
    "\n",
    "    # Get training and validation indices\n",
    "    for fold, (train_idx, val_idx) in enumerate(k_fold.split(train_dataset)):\n",
    "\n",
    "        print(f'fold: {fold}')\n",
    "\n",
    "        # Create training and validation loaders by providing current K-Fold train/validation indices to Sampler\n",
    "        train_loader = DataLoader(\n",
    "            train_dataset.set_tf(train_tf), \n",
    "            sampler=SubsetRandomSampler(train_idx), \n",
    "            batch_size=BATCH_SIZE\n",
    "        )\n",
    "        valid_loader = DataLoader(\n",
    "            train_dataset.set_tf(valid_tf), \n",
    "            sampler=SubsetRandomSampler(val_idx), \n",
    "            batch_size=BATCH_SIZE\n",
    "        )\n",
    "\n",
    "        # Initialize model and fix encoder\n",
    "        model_ = smp.create_model(\n",
    "            model_name, encoder_name=ENCODER, encoder_weights=ENCODER_WEIGHTS, classes=1\n",
    "        )\n",
    "        model_.encoder.training=False\n",
    "        \n",
    "        criterion_ = smp.losses.FocalLoss(smp.losses.BINARY_MODE, alpha=0.35)\n",
    "        optimizer_ = torch.optim.Adam(model_.parameters(), lr=0.0005)\n",
    "        scheduler_ = torch.optim.lr_scheduler.CosineAnnealingLR(\n",
    "            optimizer_,\n",
    "            T_max=(len(train_loader.dataset) * N_EPOCHS) // train_loader.batch_size,\n",
    "        )\n",
    "\n",
    "        # Train model\n",
    "        train_losses, valid_losses, train_f1s, valid_f1s = train_model(\n",
    "            model_, (train_loader, valid_loader), criterion_, optimizer_, scheduler_, N_EPOCHS\n",
    "        )\n",
    "\n",
    "        # Save epoch results\n",
    "        training_loss_matrix.append(train_f1s)\n",
    "        validation_loss_matrix.append(train_f1s)\n",
    "        training_f1_matrix.append(train_f1s)\n",
    "        validation_f1_matrix.append(valid_f1s)\n",
    "    \n",
    "    monitor.update_metrics(\n",
    "        model_name,\n",
    "        training_f1=training_f1_matrix,\n",
    "        training_loss=training_loss_matrix,\n",
    "        validation_f1=validation_f1_matrix,\n",
    "        validation_loss=validation_loss_matrix\n",
    "    )\n",
    "    monitor.update_jsons()"
   ]
  },
  {
   "cell_type": "markdown",
   "source": [
    "## Metrics\n",
    "\n",
    "CV was run on colab, the results saved to JSON, and now we can start analysing them."
   ],
   "metadata": {
    "collapsed": false
   },
   "id": "fd70cdcdc704f9da"
  },
  {
   "cell_type": "code",
   "execution_count": 46,
   "outputs": [
    {
     "data": {
      "text/plain": "                 top_f1   std_dev\nUnet           0.857770  0.018616\nUnetPlusPlus   0.858632  0.023208\nMAnet          0.846017  0.032416\nPSPNet         0.826700  0.036219\nDeepLabV3      0.860264  0.017905\nDeepLabV3Plus  0.857683  0.020758",
      "text/html": "<div>\n<style scoped>\n    .dataframe tbody tr th:only-of-type {\n        vertical-align: middle;\n    }\n\n    .dataframe tbody tr th {\n        vertical-align: top;\n    }\n\n    .dataframe thead th {\n        text-align: right;\n    }\n</style>\n<table border=\"1\" class=\"dataframe\">\n  <thead>\n    <tr style=\"text-align: right;\">\n      <th></th>\n      <th>top_f1</th>\n      <th>std_dev</th>\n    </tr>\n  </thead>\n  <tbody>\n    <tr>\n      <th>Unet</th>\n      <td>0.857770</td>\n      <td>0.018616</td>\n    </tr>\n    <tr>\n      <th>UnetPlusPlus</th>\n      <td>0.858632</td>\n      <td>0.023208</td>\n    </tr>\n    <tr>\n      <th>MAnet</th>\n      <td>0.846017</td>\n      <td>0.032416</td>\n    </tr>\n    <tr>\n      <th>PSPNet</th>\n      <td>0.826700</td>\n      <td>0.036219</td>\n    </tr>\n    <tr>\n      <th>DeepLabV3</th>\n      <td>0.860264</td>\n      <td>0.017905</td>\n    </tr>\n    <tr>\n      <th>DeepLabV3Plus</th>\n      <td>0.857683</td>\n      <td>0.020758</td>\n    </tr>\n  </tbody>\n</table>\n</div>"
     },
     "execution_count": 46,
     "metadata": {},
     "output_type": "execute_result"
    }
   ],
   "source": [
    "stats_df = get_best_f1_per_setup(monitor.data['validation_f1'])\n",
    "stats_df"
   ],
   "metadata": {
    "collapsed": false,
    "ExecuteTime": {
     "end_time": "2023-12-19T11:21:46.267216Z",
     "start_time": "2023-12-19T11:21:46.252260Z"
    }
   },
   "id": "84eb8d232f1ab774"
  },
  {
   "cell_type": "code",
   "execution_count": 49,
   "outputs": [
    {
     "data": {
      "text/plain": "<Figure size 640x400 with 1 Axes>",
      "image/png": "[encoded data removed]"
     },
     "metadata": {},
     "output_type": "display_data"
    }
   ],
   "source": [
    "fig, ax = plt.subplots(figsize=(6.4, 4.))\n",
    "\n",
    "plt.rc('text', usetex=bool(find_executable('latex')))\n",
    "stats_df.rename(index={'UnetPlusPlus': 'Unet++', 'DeepLabV3Plus': 'DeepLabV3+'}, inplace=True)\n",
    "\n",
    "plt.errorbar(\n",
    "    stats_df.index.tolist(), stats_df.top_f1, stats_df.std_dev, \n",
    "    linestyle='None', marker='o', color='black'\n",
    ")\n",
    "plt.grid(color=\"#d3d3d3\", linestyle=\"--\", linewidth=0.5)\n",
    "plt.ylabel('F1', fontsize=16, labelpad=10)\n",
    "\n",
    "_ = plt.xticks(fontsize=16, rotation='55')\n",
    "_ = plt.yticks(fontsize=16)\n",
    "\n",
    "plt.tight_layout()"
   ],
   "metadata": {
    "collapsed": false,
    "ExecuteTime": {
     "end_time": "2023-12-19T11:22:19.277738Z",
     "start_time": "2023-12-19T11:22:17.876099Z"
    }
   },
   "id": "12a068f26ec70240"
  },
  {
   "cell_type": "code",
   "execution_count": 47,
   "outputs": [],
   "source": [],
   "metadata": {
    "collapsed": false,
    "ExecuteTime": {
     "end_time": "2023-12-19T11:21:48.336715Z",
     "start_time": "2023-12-19T11:21:48.327946Z"
    }
   },
   "id": "ae22b5f98a889be5"
  }
 ],
 "metadata": {
  "accelerator": "GPU",
  "colab": {
   "gpuType": "T4",
   "provenance": [],
   "toc_visible": true
  },
  "kernelspec": {
   "display_name": "Python 3 (ipykernel)",
   "language": "python",
   "name": "python3"
  },
  "language_info": {
   "codemirror_mode": {
    "name": "ipython",
    "version": 3
   },
   "file_extension": ".py",
   "mimetype": "text/x-python",
   "name": "python",
   "nbconvert_exporter": "python",
   "pygments_lexer": "ipython3",
   "version": "3.10.12"
  }
 },
 "nbformat": 4,
 "nbformat_minor": 5
}
