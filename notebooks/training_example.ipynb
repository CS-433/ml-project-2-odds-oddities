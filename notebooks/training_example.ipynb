{
 "cells": [
  {
   "cell_type": "code",
   "execution_count": 1,
   "outputs": [],
   "source": [
    "import sys\n",
    "sys.path.append('../')"
   ],
   "metadata": {
    "collapsed": false,
    "ExecuteTime": {
     "end_time": "2023-11-14T14:51:43.373995Z",
     "start_time": "2023-11-14T14:51:43.367439Z"
    }
   },
   "id": "874a0d8c7bb6a5d7"
  },
  {
   "cell_type": "code",
   "execution_count": 2,
   "outputs": [],
   "source": [
    "import os\n",
    "import torch\n",
    "import segmentation_models_pytorch as smp\n",
    "\n",
    "from scripts.evaluation import get_test_f1\n",
    "from scripts.plotting import plot_metric_per_epoch, plot_n_predictions\n",
    "from scripts.preprocessing import RoadDataset, split_data\n",
    "from scripts.training import train_model\n",
    "from torch.utils.data import DataLoader"
   ],
   "metadata": {
    "collapsed": false,
    "ExecuteTime": {
     "end_time": "2023-11-14T14:51:49.076546Z",
     "start_time": "2023-11-14T14:51:43.375441Z"
    }
   },
   "id": "initial_id"
  },
  {
   "cell_type": "code",
   "execution_count": 3,
   "id": "da584377c48b4e83",
   "metadata": {
    "ExecuteTime": {
     "end_time": "2023-11-14T14:51:49.082888Z",
     "start_time": "2023-11-14T14:51:49.077593Z"
    }
   },
   "outputs": [],
   "source": [
    "ROOT_PATH = os.path.normpath(os.getcwd() + os.sep + os.pardir)\n",
    "train_directory = os.path.join(ROOT_PATH, 'data', 'raw', 'training')"
   ]
  },
  {
   "cell_type": "code",
   "execution_count": 4,
   "id": "324777f1513f1924",
   "metadata": {
    "ExecuteTime": {
     "end_time": "2023-11-14T14:51:50.555895Z",
     "start_time": "2023-11-14T14:51:49.081667Z"
    }
   },
   "outputs": [],
   "source": [
    "image_path_train, image_path_test, mask_path_train, mask_path_test = split_data(train_directory, 0.1)\n",
    "# Get train and val dataset instances\n",
    "train_dataset = RoadDataset(image_path_train, mask_path_train)\n",
    "test_dataset = RoadDataset(image_path_test, mask_path_test)"
   ]
  },
  {
   "cell_type": "code",
   "execution_count": 5,
   "id": "f298cbd45aba4eb1",
   "metadata": {
    "ExecuteTime": {
     "end_time": "2023-11-14T14:51:50.562649Z",
     "start_time": "2023-11-14T14:51:50.559469Z"
    }
   },
   "outputs": [],
   "source": [
    "ENCODER = 'resnet50'\n",
    "ENCODER_WEIGHTS = 'imagenet'\n",
    "ACTIVATION = 'sigmoid'\n",
    "\n",
    "SEED = 13\n",
    "BATCH_SIZE = 4\n",
    "K_FOLD = 2\n",
    "N_CPU = os.cpu_count()\n",
    "N_EPOCHS = 8\n",
    "\n",
    "LOADER_PARAMS = {\n",
    "    'batch_size': BATCH_SIZE, \n",
    "    'num_workers': N_CPU, \n",
    "    'persistent_workers': True\n",
    "}"
   ]
  },
  {
   "cell_type": "code",
   "execution_count": 6,
   "outputs": [],
   "source": [
    "model_ = smp.create_model(\"FPN\", encoder_name=ENCODER, encoder_weights=ENCODER_WEIGHTS)\n",
    "criterion_ = smp.losses.DiceLoss(smp.losses.BINARY_MODE, from_logits=True)\n",
    "optimizer_ = torch.optim.Adam(model_.parameters(), lr=0.0005)\n",
    "\n",
    "train_set, val_set = torch.utils.data.random_split(train_dataset, lengths=[0.9, 0.1])\n",
    "\n",
    "train_loader = DataLoader(train_dataset, **LOADER_PARAMS)\n",
    "valid_loader = DataLoader(train_dataset, **LOADER_PARAMS)"
   ],
   "metadata": {
    "collapsed": false,
    "ExecuteTime": {
     "end_time": "2023-11-14T14:51:51.128789Z",
     "start_time": "2023-11-14T14:51:50.564747Z"
    }
   },
   "id": "add0d7e2688e433a"
  },
  {
   "cell_type": "code",
   "execution_count": null,
   "outputs": [
    {
     "name": "stdout",
     "output_type": "stream",
     "text": [
      "0 Loss: 0.3571 Acc: 0.6252\n",
      "1 Loss: 0.2364 Acc: 0.7474\n",
      "2 Loss: 0.1921 Acc: 0.7872\n",
      "3 Loss: 0.1747 Acc: 0.8093\n",
      "4 Loss: 0.1571 Acc: 0.8216\n"
     ]
    }
   ],
   "source": [
    "train_losses, valid_losses, train_f1s, valid_f1s = train_model(\n",
    "    model_, (train_loader, valid_loader), criterion_, optimizer_, N_EPOCHS\n",
    ")"
   ],
   "metadata": {
    "collapsed": false,
    "is_executing": true,
    "ExecuteTime": {
     "start_time": "2023-11-14T14:51:51.131102Z"
    }
   },
   "id": "b7009a3760fcddd0"
  },
  {
   "cell_type": "code",
   "execution_count": null,
   "outputs": [],
   "source": [
    "plot_metric_per_epoch(train_losses, valid_losses, 'DiceLoss')"
   ],
   "metadata": {
    "collapsed": false,
    "is_executing": true
   },
   "id": "1c7b4495c87c2a97"
  },
  {
   "cell_type": "code",
   "execution_count": null,
   "outputs": [],
   "source": [
    "plot_metric_per_epoch(train_f1s, valid_f1s, 'f1')"
   ],
   "metadata": {
    "collapsed": false,
    "is_executing": true
   },
   "id": "7f342c702436c6d3"
  },
  {
   "cell_type": "code",
   "execution_count": null,
   "outputs": [],
   "source": [
    "test_loader = DataLoader(test_dataset, batch_size=1, shuffle=True)\n",
    "plot_n_predictions(model_, test_loader)"
   ],
   "metadata": {
    "collapsed": false,
    "is_executing": true
   },
   "id": "b25e965933ded198"
  },
  {
   "cell_type": "code",
   "execution_count": null,
   "outputs": [],
   "source": [
    "'f1 score for the test dataset {:.3f}.'.format(get_test_f1(model_, test_loader))"
   ],
   "metadata": {
    "collapsed": false,
    "is_executing": true
   },
   "id": "e8becf2f99251ca2"
  }
 ],
 "metadata": {
  "kernelspec": {
   "display_name": "Python 3 (ipykernel)",
   "language": "python",
   "name": "python3"
  },
  "language_info": {
   "codemirror_mode": {
    "name": "ipython",
    "version": 3
   },
   "file_extension": ".py",
   "mimetype": "text/x-python",
   "name": "python",
   "nbconvert_exporter": "python",
   "pygments_lexer": "ipython3",
   "version": "3.9.18"
  }
 },
 "nbformat": 4,
 "nbformat_minor": 5
}
