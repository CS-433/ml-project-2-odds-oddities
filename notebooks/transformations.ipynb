{
 "cells": [
  {
   "cell_type": "markdown",
   "id": "44e77324caeb7103",
   "metadata": {
    "collapsed": false,
    "id": "44e77324caeb7103"
   },
   "source": [
    "# Transformations\n",
    "\n",
    "The aim of this notebook is to test different setups with transformations using cross-validation and measure top f1 score over all epochs and folds."
   ]
  },
  {
   "cell_type": "markdown",
   "id": "5c3bd0b296096edc",
   "metadata": {
    "collapsed": false,
    "id": "5c3bd0b296096edc"
   },
   "source": [
    "## Imports"
   ]
  },
  {
   "cell_type": "code",
   "execution_count": 1,
   "id": "661a28fbc323f84c",
   "metadata": {
    "executionInfo": {
     "elapsed": 16594,
     "status": "ok",
     "timestamp": 1700508603161,
     "user": {
      "displayName": "Jan Kokla",
      "userId": "12594254134589162600"
     },
     "user_tz": -60
    },
    "id": "661a28fbc323f84c",
    "ExecuteTime": {
     "end_time": "2023-11-21T18:35:40.321353115Z",
     "start_time": "2023-11-21T18:35:38.148494155Z"
    }
   },
   "outputs": [],
   "source": [
    "import os\n",
    "import cv2\n",
    "import torch\n",
    "import albumentations as A\n",
    "import pandas as pd\n",
    "import numpy as np\n",
    "import segmentation_models_pytorch as smp\n",
    "\n",
    "from sklearn.model_selection import KFold\n",
    "from scripts.preprocessing import RoadDataset, split_data\n",
    "from scripts.training import train_model\n",
    "from torch.utils.data import DataLoader, SubsetRandomSampler"
   ]
  },
  {
   "cell_type": "code",
   "execution_count": 2,
   "outputs": [],
   "source": [
    "# Google Colab development\n",
    "\n",
    "#from scripts.colab import get_root_path\n",
    "#ROOT_PATH = get_root_path()"
   ],
   "metadata": {
    "collapsed": false,
    "ExecuteTime": {
     "end_time": "2023-11-21T18:35:40.321601229Z",
     "start_time": "2023-11-21T18:35:40.317721136Z"
    }
   },
   "id": "28ecdaa1b7cf8d36"
  },
  {
   "cell_type": "code",
   "execution_count": 3,
   "outputs": [],
   "source": [
    "# Local development\n",
    "\n",
    "ROOT_PATH = os.path.normpath(os.getcwd() + os.sep + os.pardir)"
   ],
   "metadata": {
    "collapsed": false,
    "ExecuteTime": {
     "end_time": "2023-11-21T18:35:40.328435330Z",
     "start_time": "2023-11-21T18:35:40.321003729Z"
    }
   },
   "id": "5e890f2cee093e5c"
  },
  {
   "cell_type": "markdown",
   "id": "cc8cd208897a9308",
   "metadata": {
    "collapsed": false,
    "id": "cc8cd208897a9308"
   },
   "source": [
    "## Data"
   ]
  },
  {
   "cell_type": "code",
   "execution_count": 4,
   "id": "1c4f4dda06504ef5",
   "metadata": {
    "executionInfo": {
     "elapsed": 443,
     "status": "ok",
     "timestamp": 1700508609231,
     "user": {
      "displayName": "Jan Kokla",
      "userId": "12594254134589162600"
     },
     "user_tz": -60
    },
    "id": "1c4f4dda06504ef5",
    "ExecuteTime": {
     "end_time": "2023-11-21T18:35:40.334446425Z",
     "start_time": "2023-11-21T18:35:40.328052226Z"
    }
   },
   "outputs": [],
   "source": [
    "# specify train directory\n",
    "train_directory = os.path.join(ROOT_PATH, 'data', 'raw', 'train')"
   ]
  },
  {
   "cell_type": "code",
   "execution_count": 5,
   "id": "e5dfbbf47dcd0846",
   "metadata": {
    "executionInfo": {
     "elapsed": 66794,
     "status": "ok",
     "timestamp": 1700508678052,
     "user": {
      "displayName": "Jan Kokla",
      "userId": "12594254134589162600"
     },
     "user_tz": -60
    },
    "id": "e5dfbbf47dcd0846",
    "ExecuteTime": {
     "end_time": "2023-11-21T18:35:40.852173516Z",
     "start_time": "2023-11-21T18:35:40.330281005Z"
    }
   },
   "outputs": [],
   "source": [
    "# image paths so that all the images are used for train dataset (no test set for cv due to small training set)\n",
    "image_path_train, _, mask_path_train, _ = split_data(train_directory, test_size=0)\n",
    "\n",
    "# create train Dataset without transformations for now\n",
    "train_dataset = RoadDataset(image_path_train, mask_path_train)"
   ]
  },
  {
   "cell_type": "markdown",
   "id": "51e794b627f2d1ed",
   "metadata": {
    "collapsed": false,
    "id": "51e794b627f2d1ed"
   },
   "source": [
    "## Transformations\n",
    "\n",
    "Define transformations we'll use in evaluating the performance of the model."
   ]
  },
  {
   "cell_type": "code",
   "execution_count": 6,
   "id": "b8db531ec43bc422",
   "metadata": {
    "executionInfo": {
     "elapsed": 330,
     "status": "ok",
     "timestamp": 1700508685005,
     "user": {
      "displayName": "Jan Kokla",
      "userId": "12594254134589162600"
     },
     "user_tz": -60
    },
    "id": "b8db531ec43bc422",
    "ExecuteTime": {
     "end_time": "2023-11-21T18:35:40.858564355Z",
     "start_time": "2023-11-21T18:35:40.832514490Z"
    }
   },
   "outputs": [],
   "source": [
    "base_tf = [A.Resize(height=608, width=608, always_apply=True)]\n",
    "\n",
    "tf_flip = [A.HorizontalFlip(p=0.5), A.VerticalFlip(p=0.5)]\n",
    "tf_rotate = A.Rotate(p=0.5, limit=180, border_mode=cv2.BORDER_CONSTANT, rotate_method=\"ellipse\")\n",
    "tf_brightness = A.RandomBrightnessContrast(p=0.5)\n",
    "tf_snow = A.RandomShadow(p=0.5,num_shadows_lower=1, num_shadows_upper=4)\n",
    "\n",
    "added_tfs = np.array([tf_flip, tf_rotate, tf_brightness, tf_snow], dtype=object)"
   ]
  },
  {
   "cell_type": "code",
   "execution_count": 7,
   "id": "87806847173ab4ed",
   "metadata": {
    "executionInfo": {
     "elapsed": 301,
     "status": "ok",
     "timestamp": 1700508686557,
     "user": {
      "displayName": "Jan Kokla",
      "userId": "12594254134589162600"
     },
     "user_tz": -60
    },
    "id": "87806847173ab4ed",
    "ExecuteTime": {
     "end_time": "2023-11-21T18:35:40.858721454Z",
     "start_time": "2023-11-21T18:35:40.835250741Z"
    }
   },
   "outputs": [],
   "source": [
    "# initiate the setups for transformations\n",
    "col_names = ['flip', 'rotate', 'brightness', 'shadow']\n",
    "masks = [\n",
    "    [False, False, False, False],\n",
    "    [True, False, False, False],\n",
    "    [False, True, False, False],\n",
    "    [False, False, True, False],\n",
    "    [False, False, False, True],\n",
    "    [True, True, False, False],\n",
    "    [False, True, True, False],\n",
    "    [False, False, True, True],\n",
    "    [True, False, False, True],\n",
    "    [False, True, False, True],\n",
    "    [True, False, True, False],\n",
    "]"
   ]
  },
  {
   "cell_type": "markdown",
   "id": "86ca6d59a354e03a",
   "metadata": {
    "collapsed": false,
    "id": "86ca6d59a354e03a"
   },
   "source": [
    "## Hyperparameters\n",
    "\n",
    "Since our aim is to see, how different transformations influence the training, we fix the model, epochs and batch sizes."
   ]
  },
  {
   "cell_type": "code",
   "execution_count": 8,
   "id": "a6bb08833d345ec0",
   "metadata": {
    "executionInfo": {
     "elapsed": 761,
     "status": "ok",
     "timestamp": 1700508695367,
     "user": {
      "displayName": "Jan Kokla",
      "userId": "12594254134589162600"
     },
     "user_tz": -60
    },
    "id": "a6bb08833d345ec0",
    "ExecuteTime": {
     "end_time": "2023-11-21T18:35:40.859071498Z",
     "start_time": "2023-11-21T18:35:40.842328495Z"
    }
   },
   "outputs": [],
   "source": [
    "ENCODER = 'resnet50'\n",
    "ENCODER_WEIGHTS = 'imagenet'\n",
    "\n",
    "SEED = 16\n",
    "BATCH_SIZE = 4\n",
    "K_FOLD = 3\n",
    "N_CPU = os.cpu_count()\n",
    "N_EPOCHS = 20\n",
    "\n",
    "LOADER_PARAMS = {\n",
    "    'batch_size': BATCH_SIZE,\n",
    "    'num_workers': N_CPU,\n",
    "    'persistent_workers': True\n",
    "}"
   ]
  },
  {
   "cell_type": "markdown",
   "id": "64a4294fcf3a7200",
   "metadata": {
    "collapsed": false,
    "id": "64a4294fcf3a7200"
   },
   "source": [
    "## Cross-Validation"
   ]
  },
  {
   "cell_type": "code",
   "execution_count": 9,
   "id": "initial_id",
   "metadata": {
    "colab": {
     "base_uri": "https://localhost:8080/"
    },
    "collapsed": true,
    "executionInfo": {
     "elapsed": 705616,
     "status": "ok",
     "timestamp": 1700509405450,
     "user": {
      "displayName": "Jan Kokla",
      "userId": "12594254134589162600"
     },
     "user_tz": -60
    },
    "id": "initial_id",
    "outputId": "0051ace9-0448-4556-f4af-58d3f1cf7df9",
    "ExecuteTime": {
     "end_time": "2023-11-21T19:29:20.745052027Z",
     "start_time": "2023-11-21T18:35:40.846087386Z"
    }
   },
   "outputs": [
    {
     "name": "stdout",
     "output_type": "stream",
     "text": [
      "setup: [False, False, False, False]\n",
      "fold: 0\n"
     ]
    },
    {
     "name": "stderr",
     "output_type": "stream",
     "text": [
      "Epoch:   1. Train.      Loss: 0.556 | f1: 0.438: 100%|██████████| 17/17 [00:05<00:00,  2.87it/s]\n",
      "Epoch:   1. Validation. Loss: 0.467 | f1: 0.518: 100%|██████████| 9/9 [00:01<00:00,  5.97it/s]\n",
      "Epoch:   2. Train.      Loss: 0.328 | f1: 0.666: 100%|██████████| 17/17 [00:03<00:00,  4.67it/s]\n",
      "Epoch:   2. Validation. Loss: 0.407 | f1: 0.578: 100%|██████████| 9/9 [00:00<00:00, 13.62it/s]\n",
      "Epoch:   3. Train.      Loss: 0.243 | f1: 0.745: 100%|██████████| 17/17 [00:03<00:00,  4.38it/s]\n",
      "Epoch:   3. Validation. Loss: 0.276 | f1: 0.693: 100%|██████████| 9/9 [00:00<00:00, 12.85it/s]\n",
      "Epoch:   4. Train.      Loss: 0.194 | f1: 0.799: 100%|██████████| 17/17 [00:04<00:00,  4.08it/s]\n",
      "Epoch:   4. Validation. Loss: 0.316 | f1: 0.631: 100%|██████████| 9/9 [00:00<00:00, 13.04it/s]\n",
      "Epoch:   5. Train.      Loss: 0.180 | f1: 0.812: 100%|██████████| 17/17 [00:04<00:00,  3.98it/s]\n",
      "Epoch:   5. Validation. Loss: 0.193 | f1: 0.770: 100%|██████████| 9/9 [00:00<00:00, 11.09it/s]\n",
      "Epoch:   6. Train.      Loss: 0.148 | f1: 0.844: 100%|██████████| 17/17 [00:04<00:00,  3.52it/s]\n",
      "Epoch:   6. Validation. Loss: 0.191 | f1: 0.756: 100%|██████████| 9/9 [00:00<00:00, 11.93it/s]\n",
      "Epoch:   7. Train.      Loss: 0.132 | f1: 0.865: 100%|██████████| 17/17 [00:05<00:00,  3.37it/s]\n",
      "Epoch:   7. Validation. Loss: 0.211 | f1: 0.727: 100%|██████████| 9/9 [00:00<00:00, 11.52it/s]\n",
      "Epoch:   8. Train.      Loss: 0.125 | f1: 0.869: 100%|██████████| 17/17 [00:05<00:00,  3.12it/s]\n",
      "Epoch:   8. Validation. Loss: 0.159 | f1: 0.798: 100%|██████████| 9/9 [00:00<00:00, 10.23it/s]\n",
      "Epoch:   9. Train.      Loss: 0.112 | f1: 0.886: 100%|██████████| 17/17 [00:05<00:00,  3.11it/s]\n",
      "Epoch:   9. Validation. Loss: 0.161 | f1: 0.793: 100%|██████████| 9/9 [00:00<00:00, 10.51it/s]\n",
      "Epoch:  10. Train.      Loss: 0.100 | f1: 0.896: 100%|██████████| 17/17 [00:04<00:00,  3.46it/s]\n",
      "Epoch:  10. Validation. Loss: 0.165 | f1: 0.800: 100%|██████████| 9/9 [00:00<00:00, 11.74it/s]\n",
      "Epoch:  11. Train.      Loss: 0.094 | f1: 0.901: 100%|██████████| 17/17 [00:04<00:00,  3.87it/s]\n",
      "Epoch:  11. Validation. Loss: 0.171 | f1: 0.765: 100%|██████████| 9/9 [00:00<00:00, 13.01it/s]\n",
      "Epoch:  12. Train.      Loss: 0.089 | f1: 0.909: 100%|██████████| 17/17 [00:04<00:00,  3.94it/s]\n",
      "Epoch:  12. Validation. Loss: 0.158 | f1: 0.802: 100%|██████████| 9/9 [00:00<00:00, 12.15it/s]\n",
      "Epoch:  13. Train.      Loss: 0.076 | f1: 0.923: 100%|██████████| 17/17 [00:04<00:00,  4.07it/s]\n",
      "Epoch:  13. Validation. Loss: 0.179 | f1: 0.779: 100%|██████████| 9/9 [00:00<00:00, 12.63it/s]\n",
      "Epoch:  14. Train.      Loss: 0.070 | f1: 0.922: 100%|██████████| 17/17 [00:04<00:00,  4.10it/s]\n",
      "Epoch:  14. Validation. Loss: 0.144 | f1: 0.798: 100%|██████████| 9/9 [00:00<00:00, 12.67it/s]\n",
      "Epoch:  15. Train.      Loss: 0.069 | f1: 0.932: 100%|██████████| 17/17 [00:04<00:00,  4.11it/s]\n",
      "Epoch:  15. Validation. Loss: 0.162 | f1: 0.772: 100%|██████████| 9/9 [00:00<00:00, 13.19it/s]\n",
      "Epoch:  16. Train.      Loss: 0.063 | f1: 0.936: 100%|██████████| 17/17 [00:04<00:00,  4.14it/s]\n",
      "Epoch:  16. Validation. Loss: 0.146 | f1: 0.820: 100%|██████████| 9/9 [00:00<00:00, 12.54it/s]\n",
      "Epoch:  17. Train.      Loss: 0.059 | f1: 0.938: 100%|██████████| 17/17 [00:04<00:00,  4.19it/s]\n",
      "Epoch:  17. Validation. Loss: 0.148 | f1: 0.811: 100%|██████████| 9/9 [00:00<00:00, 12.89it/s]\n",
      "Epoch:  18. Train.      Loss: 0.059 | f1: 0.942: 100%|██████████| 17/17 [00:04<00:00,  4.15it/s]\n",
      "Epoch:  18. Validation. Loss: 0.162 | f1: 0.800: 100%|██████████| 9/9 [00:00<00:00, 12.37it/s]\n",
      "Epoch:  19. Train.      Loss: 0.054 | f1: 0.944: 100%|██████████| 17/17 [00:04<00:00,  4.04it/s]\n",
      "Epoch:  19. Validation. Loss: 0.149 | f1: 0.809: 100%|██████████| 9/9 [00:00<00:00, 12.51it/s]\n",
      "Epoch:  20. Train.      Loss: 0.048 | f1: 0.950: 100%|██████████| 17/17 [00:04<00:00,  4.15it/s]\n",
      "Epoch:  20. Validation. Loss: 0.152 | f1: 0.803: 100%|██████████| 9/9 [00:00<00:00, 12.81it/s]\n"
     ]
    },
    {
     "name": "stdout",
     "output_type": "stream",
     "text": [
      "fold: 1\n"
     ]
    },
    {
     "name": "stderr",
     "output_type": "stream",
     "text": [
      "Epoch:   1. Train.      Loss: 0.430 | f1: 0.556: 100%|██████████| 17/17 [00:04<00:00,  3.49it/s]\n",
      "Epoch:   1. Validation. Loss: 0.437 | f1: 0.542: 100%|██████████| 9/9 [00:01<00:00,  5.54it/s]\n",
      "Epoch:   2. Train.      Loss: 0.280 | f1: 0.702: 100%|██████████| 17/17 [00:04<00:00,  4.17it/s]\n",
      "Epoch:   2. Validation. Loss: 0.405 | f1: 0.592: 100%|██████████| 9/9 [00:00<00:00, 13.57it/s]\n",
      "Epoch:   3. Train.      Loss: 0.195 | f1: 0.788: 100%|██████████| 17/17 [00:04<00:00,  4.05it/s]\n",
      "Epoch:   3. Validation. Loss: 0.223 | f1: 0.733: 100%|██████████| 9/9 [00:00<00:00, 13.79it/s]\n",
      "Epoch:   4. Train.      Loss: 0.177 | f1: 0.800: 100%|██████████| 17/17 [00:04<00:00,  4.17it/s]\n",
      "Epoch:   4. Validation. Loss: 0.221 | f1: 0.760: 100%|██████████| 9/9 [00:00<00:00, 12.70it/s]\n",
      "Epoch:   5. Train.      Loss: 0.147 | f1: 0.842: 100%|██████████| 17/17 [00:04<00:00,  4.13it/s]\n",
      "Epoch:   5. Validation. Loss: 0.181 | f1: 0.790: 100%|██████████| 9/9 [00:00<00:00, 12.97it/s]\n",
      "Epoch:   6. Train.      Loss: 0.125 | f1: 0.860: 100%|██████████| 17/17 [00:04<00:00,  4.02it/s]\n",
      "Epoch:   6. Validation. Loss: 0.178 | f1: 0.791: 100%|██████████| 9/9 [00:00<00:00, 12.76it/s]\n",
      "Epoch:   7. Train.      Loss: 0.112 | f1: 0.872: 100%|██████████| 17/17 [00:04<00:00,  4.12it/s]\n",
      "Epoch:   7. Validation. Loss: 0.166 | f1: 0.790: 100%|██████████| 9/9 [00:00<00:00, 13.40it/s]\n",
      "Epoch:   8. Train.      Loss: 0.119 | f1: 0.868: 100%|██████████| 17/17 [00:04<00:00,  3.98it/s]\n",
      "Epoch:   8. Validation. Loss: 0.169 | f1: 0.774: 100%|██████████| 9/9 [00:00<00:00, 13.75it/s]\n",
      "Epoch:   9. Train.      Loss: 0.101 | f1: 0.893: 100%|██████████| 17/17 [00:04<00:00,  4.07it/s]\n",
      "Epoch:   9. Validation. Loss: 0.190 | f1: 0.792: 100%|██████████| 9/9 [00:00<00:00, 13.58it/s]\n",
      "Epoch:  10. Train.      Loss: 0.094 | f1: 0.900: 100%|██████████| 17/17 [00:04<00:00,  4.16it/s]\n",
      "Epoch:  10. Validation. Loss: 0.165 | f1: 0.791: 100%|██████████| 9/9 [00:00<00:00, 13.12it/s]\n",
      "Epoch:  11. Train.      Loss: 0.084 | f1: 0.913: 100%|██████████| 17/17 [00:04<00:00,  4.16it/s]\n",
      "Epoch:  11. Validation. Loss: 0.167 | f1: 0.790: 100%|██████████| 9/9 [00:00<00:00, 13.24it/s]\n",
      "Epoch:  12. Train.      Loss: 0.083 | f1: 0.904: 100%|██████████| 17/17 [00:04<00:00,  4.14it/s]\n",
      "Epoch:  12. Validation. Loss: 0.163 | f1: 0.796: 100%|██████████| 9/9 [00:00<00:00, 13.06it/s]\n",
      "Epoch:  13. Train.      Loss: 0.065 | f1: 0.923: 100%|██████████| 17/17 [00:04<00:00,  3.99it/s]\n",
      "Epoch:  13. Validation. Loss: 0.152 | f1: 0.810: 100%|██████████| 9/9 [00:00<00:00, 13.15it/s]\n",
      "Epoch:  14. Train.      Loss: 0.056 | f1: 0.940: 100%|██████████| 17/17 [00:04<00:00,  4.05it/s]\n",
      "Epoch:  14. Validation. Loss: 0.159 | f1: 0.802: 100%|██████████| 9/9 [00:00<00:00, 13.17it/s]\n",
      "Epoch:  15. Train.      Loss: 0.053 | f1: 0.946: 100%|██████████| 17/17 [00:04<00:00,  4.03it/s]\n",
      "Epoch:  15. Validation. Loss: 0.156 | f1: 0.814: 100%|██████████| 9/9 [00:00<00:00, 12.97it/s]\n",
      "Epoch:  16. Train.      Loss: 0.051 | f1: 0.949: 100%|██████████| 17/17 [00:04<00:00,  4.14it/s]\n",
      "Epoch:  16. Validation. Loss: 0.165 | f1: 0.816: 100%|██████████| 9/9 [00:00<00:00, 13.11it/s]\n",
      "Epoch:  17. Train.      Loss: 0.047 | f1: 0.951: 100%|██████████| 17/17 [00:04<00:00,  4.07it/s]\n",
      "Epoch:  17. Validation. Loss: 0.231 | f1: 0.751: 100%|██████████| 9/9 [00:00<00:00, 12.68it/s]\n",
      "Epoch:  18. Train.      Loss: 0.048 | f1: 0.946: 100%|██████████| 17/17 [00:04<00:00,  4.11it/s]\n",
      "Epoch:  18. Validation. Loss: 0.148 | f1: 0.813: 100%|██████████| 9/9 [00:00<00:00, 13.72it/s]\n",
      "Epoch:  19. Train.      Loss: 0.043 | f1: 0.955: 100%|██████████| 17/17 [00:04<00:00,  4.03it/s]\n",
      "Epoch:  19. Validation. Loss: 0.158 | f1: 0.807: 100%|██████████| 9/9 [00:00<00:00, 13.00it/s]\n",
      "Epoch:  20. Train.      Loss: 0.041 | f1: 0.959: 100%|██████████| 17/17 [00:04<00:00,  4.01it/s]\n",
      "Epoch:  20. Validation. Loss: 0.162 | f1: 0.801: 100%|██████████| 9/9 [00:00<00:00, 13.51it/s]\n"
     ]
    },
    {
     "name": "stdout",
     "output_type": "stream",
     "text": [
      "fold: 2\n"
     ]
    },
    {
     "name": "stderr",
     "output_type": "stream",
     "text": [
      "Epoch:   1. Train.      Loss: 0.687 | f1: 0.304: 100%|██████████| 17/17 [00:04<00:00,  3.42it/s]\n",
      "Epoch:   1. Validation. Loss: 0.659 | f1: 0.338: 100%|██████████| 9/9 [00:01<00:00,  5.94it/s]\n",
      "Epoch:   2. Train.      Loss: 0.665 | f1: 0.330: 100%|██████████| 17/17 [00:04<00:00,  4.16it/s]\n",
      "Epoch:   2. Validation. Loss: 0.657 | f1: 0.352: 100%|██████████| 9/9 [00:00<00:00, 13.92it/s]\n",
      "Epoch:   3. Train.      Loss: 0.435 | f1: 0.550: 100%|██████████| 17/17 [00:04<00:00,  4.18it/s]\n",
      "Epoch:   3. Validation. Loss: 0.473 | f1: 0.526: 100%|██████████| 9/9 [00:00<00:00, 14.22it/s]\n",
      "Epoch:   4. Train.      Loss: 0.302 | f1: 0.686: 100%|██████████| 17/17 [00:04<00:00,  4.22it/s]\n",
      "Epoch:   4. Validation. Loss: 0.480 | f1: 0.517: 100%|██████████| 9/9 [00:00<00:00, 13.45it/s]\n",
      "Epoch:   5. Train.      Loss: 0.273 | f1: 0.699: 100%|██████████| 17/17 [00:04<00:00,  4.13it/s]\n",
      "Epoch:   5. Validation. Loss: 0.275 | f1: 0.722: 100%|██████████| 9/9 [00:00<00:00, 13.61it/s]\n",
      "Epoch:   6. Train.      Loss: 0.203 | f1: 0.777: 100%|██████████| 17/17 [00:04<00:00,  4.19it/s]\n",
      "Epoch:   6. Validation. Loss: 0.407 | f1: 0.600: 100%|██████████| 9/9 [00:00<00:00, 13.49it/s]\n",
      "Epoch:   7. Train.      Loss: 0.176 | f1: 0.799: 100%|██████████| 17/17 [00:04<00:00,  4.23it/s]\n",
      "Epoch:   7. Validation. Loss: 0.229 | f1: 0.756: 100%|██████████| 9/9 [00:00<00:00, 13.61it/s]\n",
      "Epoch:   8. Train.      Loss: 0.134 | f1: 0.842: 100%|██████████| 17/17 [00:03<00:00,  4.29it/s]\n",
      "Epoch:   8. Validation. Loss: 0.209 | f1: 0.791: 100%|██████████| 9/9 [00:00<00:00, 12.97it/s]\n",
      "Epoch:   9. Train.      Loss: 0.117 | f1: 0.857: 100%|██████████| 17/17 [00:04<00:00,  4.25it/s]\n",
      "Epoch:   9. Validation. Loss: 0.193 | f1: 0.803: 100%|██████████| 9/9 [00:00<00:00, 13.59it/s]\n",
      "Epoch:  10. Train.      Loss: 0.099 | f1: 0.874: 100%|██████████| 17/17 [00:04<00:00,  4.19it/s]\n",
      "Epoch:  10. Validation. Loss: 0.183 | f1: 0.797: 100%|██████████| 9/9 [00:00<00:00, 13.91it/s]\n",
      "Epoch:  11. Train.      Loss: 0.098 | f1: 0.880: 100%|██████████| 17/17 [00:04<00:00,  4.17it/s]\n",
      "Epoch:  11. Validation. Loss: 0.184 | f1: 0.818: 100%|██████████| 9/9 [00:00<00:00, 13.95it/s]\n",
      "Epoch:  12. Train.      Loss: 0.085 | f1: 0.897: 100%|██████████| 17/17 [00:04<00:00,  4.17it/s]\n",
      "Epoch:  12. Validation. Loss: 0.224 | f1: 0.756: 100%|██████████| 9/9 [00:00<00:00, 14.23it/s]\n",
      "Epoch:  13. Train.      Loss: 0.080 | f1: 0.896: 100%|██████████| 17/17 [00:04<00:00,  4.23it/s]\n",
      "Epoch:  13. Validation. Loss: 0.168 | f1: 0.825: 100%|██████████| 9/9 [00:00<00:00, 13.39it/s]\n",
      "Epoch:  14. Train.      Loss: 0.075 | f1: 0.912: 100%|██████████| 17/17 [00:04<00:00,  4.22it/s]\n",
      "Epoch:  14. Validation. Loss: 0.200 | f1: 0.797: 100%|██████████| 9/9 [00:00<00:00, 13.61it/s]\n",
      "Epoch:  15. Train.      Loss: 0.068 | f1: 0.926: 100%|██████████| 17/17 [00:04<00:00,  4.20it/s]\n",
      "Epoch:  15. Validation. Loss: 0.163 | f1: 0.830: 100%|██████████| 9/9 [00:00<00:00, 13.58it/s]\n",
      "Epoch:  16. Train.      Loss: 0.062 | f1: 0.917: 100%|██████████| 17/17 [00:04<00:00,  4.18it/s]\n",
      "Epoch:  16. Validation. Loss: 0.169 | f1: 0.827: 100%|██████████| 9/9 [00:00<00:00, 13.98it/s]\n",
      "Epoch:  17. Train.      Loss: 0.057 | f1: 0.926: 100%|██████████| 17/17 [00:03<00:00,  4.25it/s]\n",
      "Epoch:  17. Validation. Loss: 0.197 | f1: 0.801: 100%|██████████| 9/9 [00:00<00:00, 13.34it/s]\n",
      "Epoch:  18. Train.      Loss: 0.055 | f1: 0.935: 100%|██████████| 17/17 [00:04<00:00,  4.18it/s]\n",
      "Epoch:  18. Validation. Loss: 0.189 | f1: 0.803: 100%|██████████| 9/9 [00:00<00:00, 13.52it/s]\n",
      "Epoch:  19. Train.      Loss: 0.050 | f1: 0.937: 100%|██████████| 17/17 [00:04<00:00,  4.17it/s]\n",
      "Epoch:  19. Validation. Loss: 0.159 | f1: 0.836: 100%|██████████| 9/9 [00:00<00:00, 13.68it/s]\n",
      "Epoch:  20. Train.      Loss: 0.048 | f1: 0.942: 100%|██████████| 17/17 [00:04<00:00,  4.14it/s]\n",
      "Epoch:  20. Validation. Loss: 0.162 | f1: 0.833: 100%|██████████| 9/9 [00:00<00:00, 13.23it/s]\n"
     ]
    },
    {
     "name": "stdout",
     "output_type": "stream",
     "text": [
      "setup: [True, False, False, False]\n",
      "fold: 0\n"
     ]
    },
    {
     "name": "stderr",
     "output_type": "stream",
     "text": [
      "Epoch:   1. Train.      Loss: 0.547 | f1: 0.447: 100%|██████████| 17/17 [00:04<00:00,  3.55it/s]\n",
      "Epoch:   1. Validation. Loss: 0.557 | f1: 0.439: 100%|██████████| 9/9 [00:01<00:00,  5.95it/s]\n",
      "Epoch:   2. Train.      Loss: 0.350 | f1: 0.637: 100%|██████████| 17/17 [00:03<00:00,  4.30it/s]\n",
      "Epoch:   2. Validation. Loss: 0.384 | f1: 0.605: 100%|██████████| 9/9 [00:00<00:00, 13.59it/s]\n",
      "Epoch:   3. Train.      Loss: 0.269 | f1: 0.714: 100%|██████████| 17/17 [00:03<00:00,  4.25it/s]\n",
      "Epoch:   3. Validation. Loss: 0.302 | f1: 0.663: 100%|██████████| 9/9 [00:00<00:00, 13.16it/s]\n",
      "Epoch:   4. Train.      Loss: 0.257 | f1: 0.731: 100%|██████████| 17/17 [00:04<00:00,  4.23it/s]\n",
      "Epoch:   4. Validation. Loss: 0.277 | f1: 0.701: 100%|██████████| 9/9 [00:00<00:00, 12.72it/s]\n",
      "Epoch:   5. Train.      Loss: 0.230 | f1: 0.760: 100%|██████████| 17/17 [00:04<00:00,  4.18it/s]\n",
      "Epoch:   5. Validation. Loss: 0.296 | f1: 0.651: 100%|██████████| 9/9 [00:00<00:00, 13.66it/s]\n",
      "Epoch:   6. Train.      Loss: 0.196 | f1: 0.792: 100%|██████████| 17/17 [00:04<00:00,  4.23it/s]\n",
      "Epoch:   6. Validation. Loss: 0.248 | f1: 0.701: 100%|██████████| 9/9 [00:00<00:00, 13.39it/s]\n",
      "Epoch:   7. Train.      Loss: 0.181 | f1: 0.807: 100%|██████████| 17/17 [00:04<00:00,  4.20it/s]\n",
      "Epoch:   7. Validation. Loss: 0.226 | f1: 0.723: 100%|██████████| 9/9 [00:00<00:00, 13.84it/s]\n",
      "Epoch:   8. Train.      Loss: 0.164 | f1: 0.829: 100%|██████████| 17/17 [00:04<00:00,  4.16it/s]\n",
      "Epoch:   8. Validation. Loss: 0.209 | f1: 0.761: 100%|██████████| 9/9 [00:00<00:00, 13.28it/s]\n",
      "Epoch:   9. Train.      Loss: 0.171 | f1: 0.823: 100%|██████████| 17/17 [00:04<00:00,  4.23it/s]\n",
      "Epoch:   9. Validation. Loss: 0.200 | f1: 0.766: 100%|██████████| 9/9 [00:00<00:00, 12.94it/s]\n",
      "Epoch:  10. Train.      Loss: 0.146 | f1: 0.848: 100%|██████████| 17/17 [00:04<00:00,  4.23it/s]\n",
      "Epoch:  10. Validation. Loss: 0.192 | f1: 0.778: 100%|██████████| 9/9 [00:00<00:00, 13.17it/s]\n",
      "Epoch:  11. Train.      Loss: 0.140 | f1: 0.846: 100%|██████████| 17/17 [00:03<00:00,  4.28it/s]\n",
      "Epoch:  11. Validation. Loss: 0.189 | f1: 0.764: 100%|██████████| 9/9 [00:00<00:00, 12.58it/s]\n",
      "Epoch:  12. Train.      Loss: 0.135 | f1: 0.858: 100%|██████████| 17/17 [00:04<00:00,  4.18it/s]\n",
      "Epoch:  12. Validation. Loss: 0.179 | f1: 0.793: 100%|██████████| 9/9 [00:00<00:00, 13.41it/s]\n",
      "Epoch:  13. Train.      Loss: 0.123 | f1: 0.873: 100%|██████████| 17/17 [00:04<00:00,  4.24it/s]\n",
      "Epoch:  13. Validation. Loss: 0.161 | f1: 0.811: 100%|██████████| 9/9 [00:00<00:00, 13.04it/s]\n",
      "Epoch:  14. Train.      Loss: 0.122 | f1: 0.869: 100%|██████████| 17/17 [00:04<00:00,  4.20it/s]\n",
      "Epoch:  14. Validation. Loss: 0.171 | f1: 0.790: 100%|██████████| 9/9 [00:00<00:00, 12.80it/s]\n",
      "Epoch:  15. Train.      Loss: 0.120 | f1: 0.873: 100%|██████████| 17/17 [00:04<00:00,  4.23it/s]\n",
      "Epoch:  15. Validation. Loss: 0.211 | f1: 0.732: 100%|██████████| 9/9 [00:00<00:00, 13.25it/s]\n",
      "Epoch:  16. Train.      Loss: 0.108 | f1: 0.879: 100%|██████████| 17/17 [00:04<00:00,  4.14it/s]\n",
      "Epoch:  16. Validation. Loss: 0.196 | f1: 0.774: 100%|██████████| 9/9 [00:00<00:00, 13.45it/s]\n",
      "Epoch:  17. Train.      Loss: 0.104 | f1: 0.891: 100%|██████████| 17/17 [00:04<00:00,  4.21it/s]\n",
      "Epoch:  17. Validation. Loss: 0.175 | f1: 0.798: 100%|██████████| 9/9 [00:00<00:00, 13.46it/s]\n",
      "Epoch:  18. Train.      Loss: 0.105 | f1: 0.893: 100%|██████████| 17/17 [00:04<00:00,  4.21it/s]\n",
      "Epoch:  18. Validation. Loss: 0.167 | f1: 0.798: 100%|██████████| 9/9 [00:00<00:00, 13.26it/s]\n",
      "Epoch:  19. Train.      Loss: 0.101 | f1: 0.895: 100%|██████████| 17/17 [00:04<00:00,  4.21it/s]\n",
      "Epoch:  19. Validation. Loss: 0.175 | f1: 0.801: 100%|██████████| 9/9 [00:00<00:00, 13.13it/s]\n",
      "Epoch:  20. Train.      Loss: 0.094 | f1: 0.905: 100%|██████████| 17/17 [00:03<00:00,  4.27it/s]\n",
      "Epoch:  20. Validation. Loss: 0.154 | f1: 0.809: 100%|██████████| 9/9 [00:00<00:00, 13.33it/s]\n"
     ]
    },
    {
     "name": "stdout",
     "output_type": "stream",
     "text": [
      "fold: 1\n"
     ]
    },
    {
     "name": "stderr",
     "output_type": "stream",
     "text": [
      "Epoch:   1. Train.      Loss: 0.543 | f1: 0.447: 100%|██████████| 17/17 [00:04<00:00,  3.53it/s]\n",
      "Epoch:   1. Validation. Loss: 0.573 | f1: 0.415: 100%|██████████| 9/9 [00:01<00:00,  5.92it/s]\n",
      "Epoch:   2. Train.      Loss: 0.352 | f1: 0.638: 100%|██████████| 17/17 [00:04<00:00,  4.20it/s]\n",
      "Epoch:   2. Validation. Loss: 0.459 | f1: 0.540: 100%|██████████| 9/9 [00:00<00:00, 13.63it/s]\n",
      "Epoch:   3. Train.      Loss: 0.280 | f1: 0.699: 100%|██████████| 17/17 [00:04<00:00,  4.23it/s]\n",
      "Epoch:   3. Validation. Loss: 0.275 | f1: 0.704: 100%|██████████| 9/9 [00:00<00:00, 13.80it/s]\n",
      "Epoch:   4. Train.      Loss: 0.240 | f1: 0.741: 100%|██████████| 17/17 [00:04<00:00,  4.22it/s]\n",
      "Epoch:   4. Validation. Loss: 0.302 | f1: 0.658: 100%|██████████| 9/9 [00:00<00:00, 13.07it/s]\n",
      "Epoch:   5. Train.      Loss: 0.242 | f1: 0.742: 100%|██████████| 17/17 [00:04<00:00,  4.20it/s]\n",
      "Epoch:   5. Validation. Loss: 0.235 | f1: 0.735: 100%|██████████| 9/9 [00:00<00:00, 14.06it/s]\n",
      "Epoch:   6. Train.      Loss: 0.204 | f1: 0.776: 100%|██████████| 17/17 [00:04<00:00,  4.14it/s]\n",
      "Epoch:   6. Validation. Loss: 0.202 | f1: 0.766: 100%|██████████| 9/9 [00:00<00:00, 13.62it/s]\n",
      "Epoch:   7. Train.      Loss: 0.183 | f1: 0.805: 100%|██████████| 17/17 [00:04<00:00,  4.20it/s]\n",
      "Epoch:   7. Validation. Loss: 0.174 | f1: 0.797: 100%|██████████| 9/9 [00:00<00:00, 13.61it/s]\n",
      "Epoch:   8. Train.      Loss: 0.154 | f1: 0.832: 100%|██████████| 17/17 [00:04<00:00,  4.19it/s]\n",
      "Epoch:   8. Validation. Loss: 0.201 | f1: 0.767: 100%|██████████| 9/9 [00:00<00:00, 14.01it/s]\n",
      "Epoch:   9. Train.      Loss: 0.154 | f1: 0.841: 100%|██████████| 17/17 [00:04<00:00,  4.12it/s]\n",
      "Epoch:   9. Validation. Loss: 0.203 | f1: 0.754: 100%|██████████| 9/9 [00:00<00:00, 13.74it/s]\n",
      "Epoch:  10. Train.      Loss: 0.145 | f1: 0.849: 100%|██████████| 17/17 [00:04<00:00,  4.17it/s]\n",
      "Epoch:  10. Validation. Loss: 0.209 | f1: 0.776: 100%|██████████| 9/9 [00:00<00:00, 13.84it/s]\n",
      "Epoch:  11. Train.      Loss: 0.143 | f1: 0.848: 100%|██████████| 17/17 [00:04<00:00,  4.13it/s]\n",
      "Epoch:  11. Validation. Loss: 0.173 | f1: 0.779: 100%|██████████| 9/9 [00:00<00:00, 13.25it/s]\n",
      "Epoch:  12. Train.      Loss: 0.132 | f1: 0.862: 100%|██████████| 17/17 [00:04<00:00,  4.17it/s]\n",
      "Epoch:  12. Validation. Loss: 0.147 | f1: 0.806: 100%|██████████| 9/9 [00:00<00:00, 13.47it/s]\n",
      "Epoch:  13. Train.      Loss: 0.124 | f1: 0.856: 100%|██████████| 17/17 [00:04<00:00,  4.15it/s]\n",
      "Epoch:  13. Validation. Loss: 0.185 | f1: 0.777: 100%|██████████| 9/9 [00:00<00:00, 14.00it/s]\n",
      "Epoch:  14. Train.      Loss: 0.121 | f1: 0.873: 100%|██████████| 17/17 [00:04<00:00,  4.25it/s]\n",
      "Epoch:  14. Validation. Loss: 0.202 | f1: 0.789: 100%|██████████| 9/9 [00:00<00:00, 13.55it/s]\n",
      "Epoch:  15. Train.      Loss: 0.109 | f1: 0.887: 100%|██████████| 17/17 [00:04<00:00,  4.10it/s]\n",
      "Epoch:  15. Validation. Loss: 0.144 | f1: 0.815: 100%|██████████| 9/9 [00:00<00:00, 13.13it/s]\n",
      "Epoch:  16. Train.      Loss: 0.108 | f1: 0.882: 100%|██████████| 17/17 [00:04<00:00,  4.12it/s]\n",
      "Epoch:  16. Validation. Loss: 0.139 | f1: 0.815: 100%|██████████| 9/9 [00:00<00:00, 13.68it/s]\n",
      "Epoch:  17. Train.      Loss: 0.094 | f1: 0.901: 100%|██████████| 17/17 [00:04<00:00,  4.18it/s]\n",
      "Epoch:  17. Validation. Loss: 0.138 | f1: 0.815: 100%|██████████| 9/9 [00:00<00:00, 13.40it/s]\n",
      "Epoch:  18. Train.      Loss: 0.097 | f1: 0.901: 100%|██████████| 17/17 [00:04<00:00,  4.22it/s]\n",
      "Epoch:  18. Validation. Loss: 0.148 | f1: 0.815: 100%|██████████| 9/9 [00:00<00:00, 13.78it/s]\n",
      "Epoch:  19. Train.      Loss: 0.089 | f1: 0.903: 100%|██████████| 17/17 [00:04<00:00,  4.22it/s]\n",
      "Epoch:  19. Validation. Loss: 0.127 | f1: 0.827: 100%|██████████| 9/9 [00:00<00:00, 13.93it/s]\n",
      "Epoch:  20. Train.      Loss: 0.083 | f1: 0.914: 100%|██████████| 17/17 [00:04<00:00,  4.09it/s]\n",
      "Epoch:  20. Validation. Loss: 0.134 | f1: 0.829: 100%|██████████| 9/9 [00:00<00:00, 13.84it/s]\n"
     ]
    },
    {
     "name": "stdout",
     "output_type": "stream",
     "text": [
      "fold: 2\n"
     ]
    },
    {
     "name": "stderr",
     "output_type": "stream",
     "text": [
      "Epoch:   1. Train.      Loss: 0.563 | f1: 0.429: 100%|██████████| 17/17 [00:04<00:00,  3.47it/s]\n",
      "Epoch:   1. Validation. Loss: 0.513 | f1: 0.489: 100%|██████████| 9/9 [00:01<00:00,  5.96it/s]\n",
      "Epoch:   2. Train.      Loss: 0.348 | f1: 0.640: 100%|██████████| 17/17 [00:03<00:00,  4.30it/s]\n",
      "Epoch:   2. Validation. Loss: 0.484 | f1: 0.514: 100%|██████████| 9/9 [00:00<00:00, 13.87it/s]\n",
      "Epoch:   3. Train.      Loss: 0.275 | f1: 0.703: 100%|██████████| 17/17 [00:03<00:00,  4.26it/s]\n",
      "Epoch:   3. Validation. Loss: 0.328 | f1: 0.665: 100%|██████████| 9/9 [00:00<00:00, 13.69it/s]\n",
      "Epoch:   4. Train.      Loss: 0.250 | f1: 0.725: 100%|██████████| 17/17 [00:04<00:00,  4.23it/s]\n",
      "Epoch:   4. Validation. Loss: 0.275 | f1: 0.714: 100%|██████████| 9/9 [00:00<00:00, 13.46it/s]\n",
      "Epoch:   5. Train.      Loss: 0.219 | f1: 0.761: 100%|██████████| 17/17 [00:04<00:00,  4.10it/s]\n",
      "Epoch:   5. Validation. Loss: 0.261 | f1: 0.730: 100%|██████████| 9/9 [00:00<00:00, 13.91it/s]\n",
      "Epoch:   6. Train.      Loss: 0.213 | f1: 0.773: 100%|██████████| 17/17 [00:04<00:00,  4.15it/s]\n",
      "Epoch:   6. Validation. Loss: 0.236 | f1: 0.760: 100%|██████████| 9/9 [00:00<00:00, 14.03it/s]\n",
      "Epoch:   7. Train.      Loss: 0.188 | f1: 0.780: 100%|██████████| 17/17 [00:04<00:00,  4.16it/s]\n",
      "Epoch:   7. Validation. Loss: 0.245 | f1: 0.739: 100%|██████████| 9/9 [00:00<00:00, 14.08it/s]\n",
      "Epoch:   8. Train.      Loss: 0.169 | f1: 0.809: 100%|██████████| 17/17 [00:04<00:00,  4.15it/s]\n",
      "Epoch:   8. Validation. Loss: 0.230 | f1: 0.759: 100%|██████████| 9/9 [00:00<00:00, 13.34it/s]\n",
      "Epoch:   9. Train.      Loss: 0.175 | f1: 0.804: 100%|██████████| 17/17 [00:04<00:00,  4.14it/s]\n",
      "Epoch:   9. Validation. Loss: 0.295 | f1: 0.709: 100%|██████████| 9/9 [00:00<00:00, 13.36it/s]\n",
      "Epoch:  10. Train.      Loss: 0.177 | f1: 0.800: 100%|██████████| 17/17 [00:04<00:00,  4.19it/s]\n",
      "Epoch:  10. Validation. Loss: 0.214 | f1: 0.771: 100%|██████████| 9/9 [00:00<00:00, 13.45it/s]\n",
      "Epoch:  11. Train.      Loss: 0.150 | f1: 0.826: 100%|██████████| 17/17 [00:04<00:00,  4.17it/s]\n",
      "Epoch:  11. Validation. Loss: 0.214 | f1: 0.780: 100%|██████████| 9/9 [00:00<00:00, 13.36it/s]\n",
      "Epoch:  12. Train.      Loss: 0.143 | f1: 0.835: 100%|██████████| 17/17 [00:04<00:00,  4.14it/s]\n",
      "Epoch:  12. Validation. Loss: 0.210 | f1: 0.775: 100%|██████████| 9/9 [00:00<00:00, 14.04it/s]\n",
      "Epoch:  13. Train.      Loss: 0.134 | f1: 0.836: 100%|██████████| 17/17 [00:04<00:00,  4.21it/s]\n",
      "Epoch:  13. Validation. Loss: 0.205 | f1: 0.793: 100%|██████████| 9/9 [00:00<00:00, 13.80it/s]\n",
      "Epoch:  14. Train.      Loss: 0.117 | f1: 0.861: 100%|██████████| 17/17 [00:04<00:00,  4.16it/s]\n",
      "Epoch:  14. Validation. Loss: 0.221 | f1: 0.771: 100%|██████████| 9/9 [00:00<00:00, 14.06it/s]\n",
      "Epoch:  15. Train.      Loss: 0.102 | f1: 0.876: 100%|██████████| 17/17 [00:04<00:00,  4.17it/s]\n",
      "Epoch:  15. Validation. Loss: 0.194 | f1: 0.799: 100%|██████████| 9/9 [00:00<00:00, 12.97it/s]\n",
      "Epoch:  16. Train.      Loss: 0.101 | f1: 0.876: 100%|██████████| 17/17 [00:04<00:00,  4.18it/s]\n",
      "Epoch:  16. Validation. Loss: 0.181 | f1: 0.809: 100%|██████████| 9/9 [00:00<00:00, 13.62it/s]\n",
      "Epoch:  17. Train.      Loss: 0.098 | f1: 0.883: 100%|██████████| 17/17 [00:04<00:00,  4.13it/s]\n",
      "Epoch:  17. Validation. Loss: 0.182 | f1: 0.814: 100%|██████████| 9/9 [00:00<00:00, 13.37it/s]\n",
      "Epoch:  18. Train.      Loss: 0.094 | f1: 0.897: 100%|██████████| 17/17 [00:04<00:00,  4.17it/s]\n",
      "Epoch:  18. Validation. Loss: 0.187 | f1: 0.812: 100%|██████████| 9/9 [00:00<00:00, 13.59it/s]\n",
      "Epoch:  19. Train.      Loss: 0.085 | f1: 0.894: 100%|██████████| 17/17 [00:04<00:00,  4.12it/s]\n",
      "Epoch:  19. Validation. Loss: 0.183 | f1: 0.809: 100%|██████████| 9/9 [00:00<00:00, 13.52it/s]\n",
      "Epoch:  20. Train.      Loss: 0.087 | f1: 0.893: 100%|██████████| 17/17 [00:04<00:00,  4.19it/s]\n",
      "Epoch:  20. Validation. Loss: 0.166 | f1: 0.829: 100%|██████████| 9/9 [00:00<00:00, 13.33it/s]\n"
     ]
    },
    {
     "name": "stdout",
     "output_type": "stream",
     "text": [
      "setup: [False, True, False, False]\n",
      "fold: 0\n"
     ]
    },
    {
     "name": "stderr",
     "output_type": "stream",
     "text": [
      "Epoch:   1. Train.      Loss: 0.465 | f1: 0.525: 100%|██████████| 17/17 [00:04<00:00,  3.59it/s]\n",
      "Epoch:   1. Validation. Loss: 0.523 | f1: 0.459: 100%|██████████| 9/9 [00:01<00:00,  5.91it/s]\n",
      "Epoch:   2. Train.      Loss: 0.332 | f1: 0.658: 100%|██████████| 17/17 [00:03<00:00,  4.30it/s]\n",
      "Epoch:   2. Validation. Loss: 0.384 | f1: 0.593: 100%|██████████| 9/9 [00:00<00:00, 13.67it/s]\n",
      "Epoch:   3. Train.      Loss: 0.295 | f1: 0.689: 100%|██████████| 17/17 [00:04<00:00,  4.24it/s]\n",
      "Epoch:   3. Validation. Loss: 0.287 | f1: 0.690: 100%|██████████| 9/9 [00:00<00:00, 13.14it/s]\n",
      "Epoch:   4. Train.      Loss: 0.254 | f1: 0.728: 100%|██████████| 17/17 [00:04<00:00,  4.23it/s]\n",
      "Epoch:   4. Validation. Loss: 0.280 | f1: 0.683: 100%|██████████| 9/9 [00:00<00:00, 13.41it/s]\n",
      "Epoch:   5. Train.      Loss: 0.238 | f1: 0.744: 100%|██████████| 17/17 [00:04<00:00,  4.24it/s]\n",
      "Epoch:   5. Validation. Loss: 0.229 | f1: 0.736: 100%|██████████| 9/9 [00:00<00:00, 13.20it/s]\n",
      "Epoch:   6. Train.      Loss: 0.195 | f1: 0.791: 100%|██████████| 17/17 [00:04<00:00,  4.24it/s]\n",
      "Epoch:   6. Validation. Loss: 0.188 | f1: 0.781: 100%|██████████| 9/9 [00:00<00:00, 13.38it/s]\n",
      "Epoch:   7. Train.      Loss: 0.194 | f1: 0.794: 100%|██████████| 17/17 [00:04<00:00,  4.22it/s]\n",
      "Epoch:   7. Validation. Loss: 0.171 | f1: 0.771: 100%|██████████| 9/9 [00:00<00:00, 13.38it/s]\n",
      "Epoch:   8. Train.      Loss: 0.173 | f1: 0.813: 100%|██████████| 17/17 [00:04<00:00,  4.23it/s]\n",
      "Epoch:   8. Validation. Loss: 0.160 | f1: 0.803: 100%|██████████| 9/9 [00:00<00:00, 13.15it/s]\n",
      "Epoch:   9. Train.      Loss: 0.164 | f1: 0.824: 100%|██████████| 17/17 [00:04<00:00,  4.20it/s]\n",
      "Epoch:   9. Validation. Loss: 0.151 | f1: 0.811: 100%|██████████| 9/9 [00:00<00:00, 13.60it/s]\n",
      "Epoch:  10. Train.      Loss: 0.165 | f1: 0.822: 100%|██████████| 17/17 [00:03<00:00,  4.32it/s]\n",
      "Epoch:  10. Validation. Loss: 0.143 | f1: 0.813: 100%|██████████| 9/9 [00:00<00:00, 13.39it/s]\n",
      "Epoch:  11. Train.      Loss: 0.158 | f1: 0.831: 100%|██████████| 17/17 [00:04<00:00,  4.18it/s]\n",
      "Epoch:  11. Validation. Loss: 0.159 | f1: 0.784: 100%|██████████| 9/9 [00:00<00:00, 13.72it/s]\n",
      "Epoch:  12. Train.      Loss: 0.142 | f1: 0.847: 100%|██████████| 17/17 [00:03<00:00,  4.26it/s]\n",
      "Epoch:  12. Validation. Loss: 0.139 | f1: 0.821: 100%|██████████| 9/9 [00:00<00:00, 13.26it/s]\n",
      "Epoch:  13. Train.      Loss: 0.145 | f1: 0.845: 100%|██████████| 17/17 [00:04<00:00,  4.20it/s]\n",
      "Epoch:  13. Validation. Loss: 0.172 | f1: 0.798: 100%|██████████| 9/9 [00:00<00:00, 13.51it/s]\n",
      "Epoch:  14. Train.      Loss: 0.131 | f1: 0.857: 100%|██████████| 17/17 [00:04<00:00,  4.21it/s]\n",
      "Epoch:  14. Validation. Loss: 0.143 | f1: 0.812: 100%|██████████| 9/9 [00:00<00:00, 12.98it/s]\n",
      "Epoch:  15. Train.      Loss: 0.128 | f1: 0.866: 100%|██████████| 17/17 [00:04<00:00,  4.23it/s]\n",
      "Epoch:  15. Validation. Loss: 0.142 | f1: 0.808: 100%|██████████| 9/9 [00:00<00:00, 13.35it/s]\n",
      "Epoch:  16. Train.      Loss: 0.125 | f1: 0.864: 100%|██████████| 17/17 [00:04<00:00,  4.19it/s]\n",
      "Epoch:  16. Validation. Loss: 0.124 | f1: 0.828: 100%|██████████| 9/9 [00:00<00:00, 13.75it/s]\n",
      "Epoch:  17. Train.      Loss: 0.125 | f1: 0.857: 100%|██████████| 17/17 [00:04<00:00,  4.23it/s]\n",
      "Epoch:  17. Validation. Loss: 0.138 | f1: 0.818: 100%|██████████| 9/9 [00:00<00:00, 13.08it/s]\n",
      "Epoch:  18. Train.      Loss: 0.132 | f1: 0.860: 100%|██████████| 17/17 [00:04<00:00,  4.22it/s]\n",
      "Epoch:  18. Validation. Loss: 0.158 | f1: 0.789: 100%|██████████| 9/9 [00:00<00:00, 13.44it/s]\n",
      "Epoch:  19. Train.      Loss: 0.112 | f1: 0.878: 100%|██████████| 17/17 [00:04<00:00,  4.24it/s]\n",
      "Epoch:  19. Validation. Loss: 0.181 | f1: 0.769: 100%|██████████| 9/9 [00:00<00:00, 12.95it/s]\n",
      "Epoch:  20. Train.      Loss: 0.108 | f1: 0.880: 100%|██████████| 17/17 [00:03<00:00,  4.27it/s]\n",
      "Epoch:  20. Validation. Loss: 0.192 | f1: 0.754: 100%|██████████| 9/9 [00:00<00:00, 13.32it/s]\n"
     ]
    },
    {
     "name": "stdout",
     "output_type": "stream",
     "text": [
      "fold: 1\n"
     ]
    },
    {
     "name": "stderr",
     "output_type": "stream",
     "text": [
      "Epoch:   1. Train.      Loss: 0.507 | f1: 0.483: 100%|██████████| 17/17 [00:04<00:00,  3.55it/s]\n",
      "Epoch:   1. Validation. Loss: 0.578 | f1: 0.418: 100%|██████████| 9/9 [00:01<00:00,  5.93it/s]\n",
      "Epoch:   2. Train.      Loss: 0.318 | f1: 0.663: 100%|██████████| 17/17 [00:04<00:00,  4.19it/s]\n",
      "Epoch:   2. Validation. Loss: 0.286 | f1: 0.687: 100%|██████████| 9/9 [00:00<00:00, 13.59it/s]\n",
      "Epoch:   3. Train.      Loss: 0.248 | f1: 0.723: 100%|██████████| 17/17 [00:04<00:00,  4.21it/s]\n",
      "Epoch:   3. Validation. Loss: 0.256 | f1: 0.715: 100%|██████████| 9/9 [00:00<00:00, 13.55it/s]\n",
      "Epoch:   4. Train.      Loss: 0.237 | f1: 0.743: 100%|██████████| 17/17 [00:04<00:00,  4.22it/s]\n",
      "Epoch:   4. Validation. Loss: 0.240 | f1: 0.722: 100%|██████████| 9/9 [00:00<00:00, 13.56it/s]\n",
      "Epoch:   5. Train.      Loss: 0.216 | f1: 0.762: 100%|██████████| 17/17 [00:04<00:00,  4.18it/s]\n",
      "Epoch:   5. Validation. Loss: 0.288 | f1: 0.694: 100%|██████████| 9/9 [00:00<00:00, 13.59it/s]\n",
      "Epoch:   6. Train.      Loss: 0.233 | f1: 0.744: 100%|██████████| 17/17 [00:04<00:00,  4.19it/s]\n",
      "Epoch:   6. Validation. Loss: 0.215 | f1: 0.765: 100%|██████████| 9/9 [00:00<00:00, 13.88it/s]\n",
      "Epoch:   7. Train.      Loss: 0.206 | f1: 0.773: 100%|██████████| 17/17 [00:04<00:00,  4.19it/s]\n",
      "Epoch:   7. Validation. Loss: 0.211 | f1: 0.771: 100%|██████████| 9/9 [00:00<00:00, 13.67it/s]\n",
      "Epoch:   8. Train.      Loss: 0.190 | f1: 0.796: 100%|██████████| 17/17 [00:04<00:00,  4.21it/s]\n",
      "Epoch:   8. Validation. Loss: 0.200 | f1: 0.777: 100%|██████████| 9/9 [00:00<00:00, 13.60it/s]\n",
      "Epoch:   9. Train.      Loss: 0.182 | f1: 0.791: 100%|██████████| 17/17 [00:04<00:00,  4.15it/s]\n",
      "Epoch:   9. Validation. Loss: 0.219 | f1: 0.767: 100%|██████████| 9/9 [00:00<00:00, 13.59it/s]\n",
      "Epoch:  10. Train.      Loss: 0.161 | f1: 0.814: 100%|██████████| 17/17 [00:03<00:00,  4.26it/s]\n",
      "Epoch:  10. Validation. Loss: 0.180 | f1: 0.782: 100%|██████████| 9/9 [00:00<00:00, 13.49it/s]\n",
      "Epoch:  11. Train.      Loss: 0.169 | f1: 0.812: 100%|██████████| 17/17 [00:04<00:00,  4.19it/s]\n",
      "Epoch:  11. Validation. Loss: 0.164 | f1: 0.802: 100%|██████████| 9/9 [00:00<00:00, 13.67it/s]\n",
      "Epoch:  12. Train.      Loss: 0.152 | f1: 0.824: 100%|██████████| 17/17 [00:04<00:00,  4.17it/s]\n",
      "Epoch:  12. Validation. Loss: 0.188 | f1: 0.774: 100%|██████████| 9/9 [00:00<00:00, 13.63it/s]\n",
      "Epoch:  13. Train.      Loss: 0.141 | f1: 0.834: 100%|██████████| 17/17 [00:04<00:00,  4.15it/s]\n",
      "Epoch:  13. Validation. Loss: 0.146 | f1: 0.809: 100%|██████████| 9/9 [00:00<00:00, 13.82it/s]\n",
      "Epoch:  14. Train.      Loss: 0.128 | f1: 0.855: 100%|██████████| 17/17 [00:04<00:00,  4.15it/s]\n",
      "Epoch:  14. Validation. Loss: 0.152 | f1: 0.796: 100%|██████████| 9/9 [00:00<00:00, 13.77it/s]\n",
      "Epoch:  15. Train.      Loss: 0.123 | f1: 0.867: 100%|██████████| 17/17 [00:04<00:00,  4.15it/s]\n",
      "Epoch:  15. Validation. Loss: 0.154 | f1: 0.817: 100%|██████████| 9/9 [00:00<00:00, 13.37it/s]\n",
      "Epoch:  16. Train.      Loss: 0.123 | f1: 0.850: 100%|██████████| 17/17 [00:04<00:00,  4.16it/s]\n",
      "Epoch:  16. Validation. Loss: 0.221 | f1: 0.749: 100%|██████████| 9/9 [00:00<00:00, 13.61it/s]\n",
      "Epoch:  17. Train.      Loss: 0.112 | f1: 0.879: 100%|██████████| 17/17 [00:04<00:00,  4.18it/s]\n",
      "Epoch:  17. Validation. Loss: 0.142 | f1: 0.821: 100%|██████████| 9/9 [00:00<00:00, 13.51it/s]\n",
      "Epoch:  18. Train.      Loss: 0.110 | f1: 0.859: 100%|██████████| 17/17 [00:04<00:00,  4.19it/s]\n",
      "Epoch:  18. Validation. Loss: 0.137 | f1: 0.823: 100%|██████████| 9/9 [00:00<00:00, 13.89it/s]\n",
      "Epoch:  19. Train.      Loss: 0.116 | f1: 0.870: 100%|██████████| 17/17 [00:04<00:00,  4.21it/s]\n",
      "Epoch:  19. Validation. Loss: 0.138 | f1: 0.824: 100%|██████████| 9/9 [00:00<00:00, 13.61it/s]\n",
      "Epoch:  20. Train.      Loss: 0.108 | f1: 0.869: 100%|██████████| 17/17 [00:04<00:00,  4.19it/s]\n",
      "Epoch:  20. Validation. Loss: 0.219 | f1: 0.747: 100%|██████████| 9/9 [00:00<00:00, 13.62it/s]\n"
     ]
    },
    {
     "name": "stdout",
     "output_type": "stream",
     "text": [
      "fold: 2\n"
     ]
    },
    {
     "name": "stderr",
     "output_type": "stream",
     "text": [
      "Epoch:   1. Train.      Loss: 0.525 | f1: 0.456: 100%|██████████| 17/17 [00:04<00:00,  3.56it/s]\n",
      "Epoch:   1. Validation. Loss: 0.593 | f1: 0.395: 100%|██████████| 9/9 [00:01<00:00,  5.97it/s]\n",
      "Epoch:   2. Train.      Loss: 0.373 | f1: 0.603: 100%|██████████| 17/17 [00:03<00:00,  4.25it/s]\n",
      "Epoch:   2. Validation. Loss: 0.380 | f1: 0.612: 100%|██████████| 9/9 [00:00<00:00, 13.65it/s]\n",
      "Epoch:   3. Train.      Loss: 0.288 | f1: 0.687: 100%|██████████| 17/17 [00:04<00:00,  4.24it/s]\n",
      "Epoch:   3. Validation. Loss: 0.296 | f1: 0.696: 100%|██████████| 9/9 [00:00<00:00, 13.95it/s]\n",
      "Epoch:   4. Train.      Loss: 0.250 | f1: 0.719: 100%|██████████| 17/17 [00:04<00:00,  4.22it/s]\n",
      "Epoch:   4. Validation. Loss: 0.275 | f1: 0.721: 100%|██████████| 9/9 [00:00<00:00, 13.72it/s]\n",
      "Epoch:   5. Train.      Loss: 0.230 | f1: 0.730: 100%|██████████| 17/17 [00:04<00:00,  4.18it/s]\n",
      "Epoch:   5. Validation. Loss: 0.240 | f1: 0.746: 100%|██████████| 9/9 [00:00<00:00, 13.62it/s]\n",
      "Epoch:   6. Train.      Loss: 0.225 | f1: 0.736: 100%|██████████| 17/17 [00:04<00:00,  4.19it/s]\n",
      "Epoch:   6. Validation. Loss: 0.219 | f1: 0.770: 100%|██████████| 9/9 [00:00<00:00, 13.65it/s]\n",
      "Epoch:   7. Train.      Loss: 0.223 | f1: 0.752: 100%|██████████| 17/17 [00:04<00:00,  4.22it/s]\n",
      "Epoch:   7. Validation. Loss: 0.228 | f1: 0.768: 100%|██████████| 9/9 [00:00<00:00, 13.84it/s]\n",
      "Epoch:   8. Train.      Loss: 0.202 | f1: 0.770: 100%|██████████| 17/17 [00:04<00:00,  4.19it/s]\n",
      "Epoch:   8. Validation. Loss: 0.257 | f1: 0.734: 100%|██████████| 9/9 [00:00<00:00, 13.90it/s]\n",
      "Epoch:   9. Train.      Loss: 0.194 | f1: 0.777: 100%|██████████| 17/17 [00:04<00:00,  4.15it/s]\n",
      "Epoch:   9. Validation. Loss: 0.225 | f1: 0.762: 100%|██████████| 9/9 [00:00<00:00, 13.79it/s]\n",
      "Epoch:  10. Train.      Loss: 0.188 | f1: 0.779: 100%|██████████| 17/17 [00:04<00:00,  4.24it/s]\n",
      "Epoch:  10. Validation. Loss: 0.220 | f1: 0.781: 100%|██████████| 9/9 [00:00<00:00, 13.71it/s]\n",
      "Epoch:  11. Train.      Loss: 0.147 | f1: 0.816: 100%|██████████| 17/17 [00:03<00:00,  4.25it/s]\n",
      "Epoch:  11. Validation. Loss: 0.193 | f1: 0.797: 100%|██████████| 9/9 [00:00<00:00, 13.54it/s]\n",
      "Epoch:  12. Train.      Loss: 0.142 | f1: 0.811: 100%|██████████| 17/17 [00:04<00:00,  4.10it/s]\n",
      "Epoch:  12. Validation. Loss: 0.196 | f1: 0.802: 100%|██████████| 9/9 [00:00<00:00, 13.34it/s]\n",
      "Epoch:  13. Train.      Loss: 0.145 | f1: 0.824: 100%|██████████| 17/17 [00:04<00:00,  4.17it/s]\n",
      "Epoch:  13. Validation. Loss: 0.186 | f1: 0.804: 100%|██████████| 9/9 [00:00<00:00, 14.05it/s]\n",
      "Epoch:  14. Train.      Loss: 0.139 | f1: 0.829: 100%|██████████| 17/17 [00:03<00:00,  4.26it/s]\n",
      "Epoch:  14. Validation. Loss: 0.248 | f1: 0.737: 100%|██████████| 9/9 [00:00<00:00, 13.65it/s]\n",
      "Epoch:  15. Train.      Loss: 0.132 | f1: 0.832: 100%|██████████| 17/17 [00:04<00:00,  4.20it/s]\n",
      "Epoch:  15. Validation. Loss: 0.157 | f1: 0.833: 100%|██████████| 9/9 [00:00<00:00, 13.69it/s]\n",
      "Epoch:  16. Train.      Loss: 0.118 | f1: 0.855: 100%|██████████| 17/17 [00:04<00:00,  4.17it/s]\n",
      "Epoch:  16. Validation. Loss: 0.151 | f1: 0.843: 100%|██████████| 9/9 [00:00<00:00, 14.17it/s]\n",
      "Epoch:  17. Train.      Loss: 0.121 | f1: 0.868: 100%|██████████| 17/17 [00:04<00:00,  4.19it/s]\n",
      "Epoch:  17. Validation. Loss: 0.165 | f1: 0.828: 100%|██████████| 9/9 [00:00<00:00, 13.37it/s]\n",
      "Epoch:  18. Train.      Loss: 0.118 | f1: 0.858: 100%|██████████| 17/17 [00:03<00:00,  4.27it/s]\n",
      "Epoch:  18. Validation. Loss: 0.165 | f1: 0.825: 100%|██████████| 9/9 [00:00<00:00, 13.99it/s]\n",
      "Epoch:  19. Train.      Loss: 0.116 | f1: 0.851: 100%|██████████| 17/17 [00:04<00:00,  4.19it/s]\n",
      "Epoch:  19. Validation. Loss: 0.154 | f1: 0.836: 100%|██████████| 9/9 [00:00<00:00, 13.82it/s]\n",
      "Epoch:  20. Train.      Loss: 0.110 | f1: 0.860: 100%|██████████| 17/17 [00:04<00:00,  4.16it/s]\n",
      "Epoch:  20. Validation. Loss: 0.192 | f1: 0.811: 100%|██████████| 9/9 [00:00<00:00, 13.48it/s]\n"
     ]
    },
    {
     "name": "stdout",
     "output_type": "stream",
     "text": [
      "setup: [False, False, True, False]\n",
      "fold: 0\n"
     ]
    },
    {
     "name": "stderr",
     "output_type": "stream",
     "text": [
      "Epoch:   1. Train.      Loss: 0.514 | f1: 0.478: 100%|██████████| 17/17 [00:04<00:00,  3.58it/s]\n",
      "Epoch:   1. Validation. Loss: 0.404 | f1: 0.591: 100%|██████████| 9/9 [00:01<00:00,  5.90it/s]\n",
      "Epoch:   2. Train.      Loss: 0.298 | f1: 0.687: 100%|██████████| 17/17 [00:03<00:00,  4.37it/s]\n",
      "Epoch:   2. Validation. Loss: 0.317 | f1: 0.678: 100%|██████████| 9/9 [00:00<00:00, 13.42it/s]\n",
      "Epoch:   3. Train.      Loss: 0.228 | f1: 0.754: 100%|██████████| 17/17 [00:04<00:00,  4.24it/s]\n",
      "Epoch:   3. Validation. Loss: 0.243 | f1: 0.710: 100%|██████████| 9/9 [00:00<00:00, 13.71it/s]\n",
      "Epoch:   4. Train.      Loss: 0.187 | f1: 0.797: 100%|██████████| 17/17 [00:04<00:00,  4.24it/s]\n",
      "Epoch:   4. Validation. Loss: 0.245 | f1: 0.715: 100%|██████████| 9/9 [00:00<00:00, 13.59it/s]\n",
      "Epoch:   5. Train.      Loss: 0.172 | f1: 0.822: 100%|██████████| 17/17 [00:04<00:00,  4.24it/s]\n",
      "Epoch:   5. Validation. Loss: 0.220 | f1: 0.752: 100%|██████████| 9/9 [00:00<00:00, 13.32it/s]\n",
      "Epoch:   6. Train.      Loss: 0.146 | f1: 0.847: 100%|██████████| 17/17 [00:03<00:00,  4.27it/s]\n",
      "Epoch:   6. Validation. Loss: 0.228 | f1: 0.738: 100%|██████████| 9/9 [00:00<00:00, 13.25it/s]\n",
      "Epoch:   7. Train.      Loss: 0.123 | f1: 0.871: 100%|██████████| 17/17 [00:04<00:00,  4.24it/s]\n",
      "Epoch:   7. Validation. Loss: 0.206 | f1: 0.761: 100%|██████████| 9/9 [00:00<00:00, 13.73it/s]\n",
      "Epoch:   8. Train.      Loss: 0.113 | f1: 0.877: 100%|██████████| 17/17 [00:03<00:00,  4.31it/s]\n",
      "Epoch:   8. Validation. Loss: 0.184 | f1: 0.787: 100%|██████████| 9/9 [00:00<00:00, 13.71it/s]\n",
      "Epoch:   9. Train.      Loss: 0.120 | f1: 0.873: 100%|██████████| 17/17 [00:03<00:00,  4.33it/s]\n",
      "Epoch:   9. Validation. Loss: 0.210 | f1: 0.770: 100%|██████████| 9/9 [00:00<00:00, 13.27it/s]\n",
      "Epoch:  10. Train.      Loss: 0.131 | f1: 0.863: 100%|██████████| 17/17 [00:03<00:00,  4.26it/s]\n",
      "Epoch:  10. Validation. Loss: 0.221 | f1: 0.719: 100%|██████████| 9/9 [00:00<00:00, 13.09it/s]\n",
      "Epoch:  11. Train.      Loss: 0.110 | f1: 0.887: 100%|██████████| 17/17 [00:03<00:00,  4.26it/s]\n",
      "Epoch:  11. Validation. Loss: 0.198 | f1: 0.749: 100%|██████████| 9/9 [00:00<00:00, 13.25it/s]\n",
      "Epoch:  12. Train.      Loss: 0.105 | f1: 0.884: 100%|██████████| 17/17 [00:04<00:00,  4.24it/s]\n",
      "Epoch:  12. Validation. Loss: 0.219 | f1: 0.745: 100%|██████████| 9/9 [00:00<00:00, 14.24it/s]\n",
      "Epoch:  13. Train.      Loss: 0.096 | f1: 0.898: 100%|██████████| 17/17 [00:03<00:00,  4.27it/s]\n",
      "Epoch:  13. Validation. Loss: 0.178 | f1: 0.781: 100%|██████████| 9/9 [00:00<00:00, 13.73it/s]\n",
      "Epoch:  14. Train.      Loss: 0.082 | f1: 0.914: 100%|██████████| 17/17 [00:03<00:00,  4.25it/s]\n",
      "Epoch:  14. Validation. Loss: 0.206 | f1: 0.766: 100%|██████████| 9/9 [00:00<00:00, 13.22it/s]\n",
      "Epoch:  15. Train.      Loss: 0.074 | f1: 0.924: 100%|██████████| 17/17 [00:04<00:00,  4.20it/s]\n",
      "Epoch:  15. Validation. Loss: 0.191 | f1: 0.739: 100%|██████████| 9/9 [00:00<00:00, 13.24it/s]\n",
      "Epoch:  16. Train.      Loss: 0.073 | f1: 0.919: 100%|██████████| 17/17 [00:03<00:00,  4.29it/s]\n",
      "Epoch:  16. Validation. Loss: 0.218 | f1: 0.749: 100%|██████████| 9/9 [00:00<00:00, 13.63it/s]\n",
      "Epoch:  17. Train.      Loss: 0.071 | f1: 0.925: 100%|██████████| 17/17 [00:04<00:00,  4.18it/s]\n",
      "Epoch:  17. Validation. Loss: 0.201 | f1: 0.767: 100%|██████████| 9/9 [00:00<00:00, 13.34it/s]\n",
      "Epoch:  18. Train.      Loss: 0.062 | f1: 0.937: 100%|██████████| 17/17 [00:03<00:00,  4.31it/s]\n",
      "Epoch:  18. Validation. Loss: 0.183 | f1: 0.758: 100%|██████████| 9/9 [00:00<00:00, 13.70it/s]\n",
      "Epoch:  19. Train.      Loss: 0.058 | f1: 0.940: 100%|██████████| 17/17 [00:03<00:00,  4.27it/s]\n",
      "Epoch:  19. Validation. Loss: 0.189 | f1: 0.788: 100%|██████████| 9/9 [00:00<00:00, 13.49it/s]\n",
      "Epoch:  20. Train.      Loss: 0.058 | f1: 0.937: 100%|██████████| 17/17 [00:03<00:00,  4.27it/s]\n",
      "Epoch:  20. Validation. Loss: 0.189 | f1: 0.762: 100%|██████████| 9/9 [00:00<00:00, 13.02it/s]\n"
     ]
    },
    {
     "name": "stdout",
     "output_type": "stream",
     "text": [
      "fold: 1\n"
     ]
    },
    {
     "name": "stderr",
     "output_type": "stream",
     "text": [
      "Epoch:   1. Train.      Loss: 0.477 | f1: 0.513: 100%|██████████| 17/17 [00:04<00:00,  3.55it/s]\n",
      "Epoch:   1. Validation. Loss: 0.486 | f1: 0.509: 100%|██████████| 9/9 [00:01<00:00,  5.88it/s]\n",
      "Epoch:   2. Train.      Loss: 0.301 | f1: 0.686: 100%|██████████| 17/17 [00:03<00:00,  4.27it/s]\n",
      "Epoch:   2. Validation. Loss: 0.295 | f1: 0.686: 100%|██████████| 9/9 [00:00<00:00, 13.67it/s]\n",
      "Epoch:   3. Train.      Loss: 0.238 | f1: 0.747: 100%|██████████| 17/17 [00:04<00:00,  4.23it/s]\n",
      "Epoch:   3. Validation. Loss: 0.249 | f1: 0.729: 100%|██████████| 9/9 [00:00<00:00, 13.52it/s]\n",
      "Epoch:   4. Train.      Loss: 0.181 | f1: 0.799: 100%|██████████| 17/17 [00:04<00:00,  4.20it/s]\n",
      "Epoch:   4. Validation. Loss: 0.203 | f1: 0.763: 100%|██████████| 9/9 [00:00<00:00, 13.40it/s]\n",
      "Epoch:   5. Train.      Loss: 0.155 | f1: 0.828: 100%|██████████| 17/17 [00:04<00:00,  4.22it/s]\n",
      "Epoch:   5. Validation. Loss: 0.241 | f1: 0.746: 100%|██████████| 9/9 [00:00<00:00, 13.97it/s]\n",
      "Epoch:   6. Train.      Loss: 0.139 | f1: 0.849: 100%|██████████| 17/17 [00:04<00:00,  4.21it/s]\n",
      "Epoch:   6. Validation. Loss: 0.220 | f1: 0.759: 100%|██████████| 9/9 [00:00<00:00, 13.34it/s]\n",
      "Epoch:   7. Train.      Loss: 0.132 | f1: 0.859: 100%|██████████| 17/17 [00:03<00:00,  4.31it/s]\n",
      "Epoch:   7. Validation. Loss: 0.170 | f1: 0.792: 100%|██████████| 9/9 [00:00<00:00, 13.67it/s]\n",
      "Epoch:   8. Train.      Loss: 0.116 | f1: 0.869: 100%|██████████| 17/17 [00:03<00:00,  4.28it/s]\n",
      "Epoch:   8. Validation. Loss: 0.193 | f1: 0.783: 100%|██████████| 9/9 [00:00<00:00, 13.58it/s]\n",
      "Epoch:   9. Train.      Loss: 0.109 | f1: 0.883: 100%|██████████| 17/17 [00:04<00:00,  4.19it/s]\n",
      "Epoch:   9. Validation. Loss: 0.179 | f1: 0.782: 100%|██████████| 9/9 [00:00<00:00, 14.13it/s]\n",
      "Epoch:  10. Train.      Loss: 0.099 | f1: 0.893: 100%|██████████| 17/17 [00:04<00:00,  4.22it/s]\n",
      "Epoch:  10. Validation. Loss: 0.170 | f1: 0.798: 100%|██████████| 9/9 [00:00<00:00, 14.03it/s]\n",
      "Epoch:  11. Train.      Loss: 0.092 | f1: 0.900: 100%|██████████| 17/17 [00:04<00:00,  4.22it/s]\n",
      "Epoch:  11. Validation. Loss: 0.182 | f1: 0.774: 100%|██████████| 9/9 [00:00<00:00, 13.24it/s]\n",
      "Epoch:  12. Train.      Loss: 0.081 | f1: 0.907: 100%|██████████| 17/17 [00:03<00:00,  4.26it/s]\n",
      "Epoch:  12. Validation. Loss: 0.156 | f1: 0.807: 100%|██████████| 9/9 [00:00<00:00, 14.00it/s]\n",
      "Epoch:  13. Train.      Loss: 0.070 | f1: 0.926: 100%|██████████| 17/17 [00:04<00:00,  4.15it/s]\n",
      "Epoch:  13. Validation. Loss: 0.154 | f1: 0.818: 100%|██████████| 9/9 [00:00<00:00, 14.16it/s]\n",
      "Epoch:  14. Train.      Loss: 0.069 | f1: 0.924: 100%|██████████| 17/17 [00:04<00:00,  4.18it/s]\n",
      "Epoch:  14. Validation. Loss: 0.209 | f1: 0.766: 100%|██████████| 9/9 [00:00<00:00, 13.60it/s]\n",
      "Epoch:  15. Train.      Loss: 0.066 | f1: 0.932: 100%|██████████| 17/17 [00:03<00:00,  4.26it/s]\n",
      "Epoch:  15. Validation. Loss: 0.173 | f1: 0.784: 100%|██████████| 9/9 [00:00<00:00, 13.59it/s]\n",
      "Epoch:  16. Train.      Loss: 0.060 | f1: 0.937: 100%|██████████| 17/17 [00:03<00:00,  4.26it/s]\n",
      "Epoch:  16. Validation. Loss: 0.154 | f1: 0.812: 100%|██████████| 9/9 [00:00<00:00, 13.79it/s]\n",
      "Epoch:  17. Train.      Loss: 0.058 | f1: 0.939: 100%|██████████| 17/17 [00:04<00:00,  4.22it/s]\n",
      "Epoch:  17. Validation. Loss: 0.155 | f1: 0.811: 100%|██████████| 9/9 [00:00<00:00, 13.80it/s]\n",
      "Epoch:  18. Train.      Loss: 0.053 | f1: 0.945: 100%|██████████| 17/17 [00:04<00:00,  4.22it/s]\n",
      "Epoch:  18. Validation. Loss: 0.185 | f1: 0.787: 100%|██████████| 9/9 [00:00<00:00, 13.28it/s]\n",
      "Epoch:  19. Train.      Loss: 0.048 | f1: 0.950: 100%|██████████| 17/17 [00:04<00:00,  4.22it/s]\n",
      "Epoch:  19. Validation. Loss: 0.141 | f1: 0.824: 100%|██████████| 9/9 [00:00<00:00, 13.70it/s]\n",
      "Epoch:  20. Train.      Loss: 0.046 | f1: 0.952: 100%|██████████| 17/17 [00:04<00:00,  4.24it/s]\n",
      "Epoch:  20. Validation. Loss: 0.161 | f1: 0.806: 100%|██████████| 9/9 [00:00<00:00, 13.77it/s]\n"
     ]
    },
    {
     "name": "stdout",
     "output_type": "stream",
     "text": [
      "fold: 2\n"
     ]
    },
    {
     "name": "stderr",
     "output_type": "stream",
     "text": [
      "Epoch:   1. Train.      Loss: 0.551 | f1: 0.435: 100%|██████████| 17/17 [00:04<00:00,  3.54it/s]\n",
      "Epoch:   1. Validation. Loss: 0.485 | f1: 0.499: 100%|██████████| 9/9 [00:01<00:00,  5.98it/s]\n",
      "Epoch:   2. Train.      Loss: 0.357 | f1: 0.624: 100%|██████████| 17/17 [00:03<00:00,  4.30it/s]\n",
      "Epoch:   2. Validation. Loss: 0.365 | f1: 0.627: 100%|██████████| 9/9 [00:00<00:00, 13.74it/s]\n",
      "Epoch:   3. Train.      Loss: 0.247 | f1: 0.730: 100%|██████████| 17/17 [00:03<00:00,  4.27it/s]\n",
      "Epoch:   3. Validation. Loss: 0.321 | f1: 0.672: 100%|██████████| 9/9 [00:00<00:00, 13.53it/s]\n",
      "Epoch:   4. Train.      Loss: 0.208 | f1: 0.768: 100%|██████████| 17/17 [00:04<00:00,  4.22it/s]\n",
      "Epoch:   4. Validation. Loss: 0.279 | f1: 0.716: 100%|██████████| 9/9 [00:00<00:00, 13.66it/s]\n",
      "Epoch:   5. Train.      Loss: 0.188 | f1: 0.795: 100%|██████████| 17/17 [00:03<00:00,  4.25it/s]\n",
      "Epoch:   5. Validation. Loss: 0.249 | f1: 0.744: 100%|██████████| 9/9 [00:00<00:00, 13.69it/s]\n",
      "Epoch:   6. Train.      Loss: 0.179 | f1: 0.796: 100%|██████████| 17/17 [00:04<00:00,  4.20it/s]\n",
      "Epoch:   6. Validation. Loss: 0.246 | f1: 0.754: 100%|██████████| 9/9 [00:00<00:00, 14.25it/s]\n",
      "Epoch:   7. Train.      Loss: 0.158 | f1: 0.818: 100%|██████████| 17/17 [00:04<00:00,  4.23it/s]\n",
      "Epoch:   7. Validation. Loss: 0.254 | f1: 0.726: 100%|██████████| 9/9 [00:00<00:00, 13.60it/s]\n",
      "Epoch:   8. Train.      Loss: 0.145 | f1: 0.839: 100%|██████████| 17/17 [00:04<00:00,  4.19it/s]\n",
      "Epoch:   8. Validation. Loss: 0.215 | f1: 0.785: 100%|██████████| 9/9 [00:00<00:00, 13.51it/s]\n",
      "Epoch:   9. Train.      Loss: 0.133 | f1: 0.842: 100%|██████████| 17/17 [00:03<00:00,  4.25it/s]\n",
      "Epoch:   9. Validation. Loss: 0.237 | f1: 0.763: 100%|██████████| 9/9 [00:00<00:00, 13.72it/s]\n",
      "Epoch:  10. Train.      Loss: 0.139 | f1: 0.832: 100%|██████████| 17/17 [00:04<00:00,  4.21it/s]\n",
      "Epoch:  10. Validation. Loss: 0.210 | f1: 0.785: 100%|██████████| 9/9 [00:00<00:00, 13.35it/s]\n",
      "Epoch:  11. Train.      Loss: 0.111 | f1: 0.867: 100%|██████████| 17/17 [00:03<00:00,  4.26it/s]\n",
      "Epoch:  11. Validation. Loss: 0.197 | f1: 0.792: 100%|██████████| 9/9 [00:00<00:00, 13.75it/s]\n",
      "Epoch:  12. Train.      Loss: 0.100 | f1: 0.883: 100%|██████████| 17/17 [00:04<00:00,  4.14it/s]\n",
      "Epoch:  12. Validation. Loss: 0.196 | f1: 0.790: 100%|██████████| 9/9 [00:00<00:00, 14.11it/s]\n",
      "Epoch:  13. Train.      Loss: 0.091 | f1: 0.883: 100%|██████████| 17/17 [00:04<00:00,  4.23it/s]\n",
      "Epoch:  13. Validation. Loss: 0.189 | f1: 0.796: 100%|██████████| 9/9 [00:00<00:00, 13.91it/s]\n",
      "Epoch:  14. Train.      Loss: 0.080 | f1: 0.898: 100%|██████████| 17/17 [00:03<00:00,  4.30it/s]\n",
      "Epoch:  14. Validation. Loss: 0.176 | f1: 0.819: 100%|██████████| 9/9 [00:00<00:00, 13.82it/s]\n",
      "Epoch:  15. Train.      Loss: 0.079 | f1: 0.906: 100%|██████████| 17/17 [00:04<00:00,  4.21it/s]\n",
      "Epoch:  15. Validation. Loss: 0.214 | f1: 0.780: 100%|██████████| 9/9 [00:00<00:00, 13.75it/s]\n",
      "Epoch:  16. Train.      Loss: 0.070 | f1: 0.912: 100%|██████████| 17/17 [00:04<00:00,  4.21it/s]\n",
      "Epoch:  16. Validation. Loss: 0.162 | f1: 0.829: 100%|██████████| 9/9 [00:00<00:00, 13.69it/s]\n",
      "Epoch:  17. Train.      Loss: 0.064 | f1: 0.920: 100%|██████████| 17/17 [00:04<00:00,  4.21it/s]\n",
      "Epoch:  17. Validation. Loss: 0.163 | f1: 0.834: 100%|██████████| 9/9 [00:00<00:00, 13.38it/s]\n",
      "Epoch:  18. Train.      Loss: 0.059 | f1: 0.924: 100%|██████████| 17/17 [00:04<00:00,  4.19it/s]\n",
      "Epoch:  18. Validation. Loss: 0.168 | f1: 0.825: 100%|██████████| 9/9 [00:00<00:00, 14.26it/s]\n",
      "Epoch:  19. Train.      Loss: 0.054 | f1: 0.928: 100%|██████████| 17/17 [00:04<00:00,  4.17it/s]\n",
      "Epoch:  19. Validation. Loss: 0.160 | f1: 0.830: 100%|██████████| 9/9 [00:00<00:00, 13.90it/s]\n",
      "Epoch:  20. Train.      Loss: 0.053 | f1: 0.931: 100%|██████████| 17/17 [00:04<00:00,  4.24it/s]\n",
      "Epoch:  20. Validation. Loss: 0.156 | f1: 0.835: 100%|██████████| 9/9 [00:00<00:00, 13.99it/s]\n"
     ]
    },
    {
     "name": "stdout",
     "output_type": "stream",
     "text": [
      "setup: [False, False, False, True]\n",
      "fold: 0\n"
     ]
    },
    {
     "name": "stderr",
     "output_type": "stream",
     "text": [
      "Epoch:   1. Train.      Loss: 0.449 | f1: 0.545: 100%|██████████| 17/17 [00:04<00:00,  3.61it/s]\n",
      "Epoch:   1. Validation. Loss: 0.465 | f1: 0.507: 100%|██████████| 9/9 [00:01<00:00,  5.80it/s]\n",
      "Epoch:   2. Train.      Loss: 0.273 | f1: 0.709: 100%|██████████| 17/17 [00:03<00:00,  4.37it/s]\n",
      "Epoch:   2. Validation. Loss: 0.326 | f1: 0.646: 100%|██████████| 9/9 [00:00<00:00, 13.37it/s]\n",
      "Epoch:   3. Train.      Loss: 0.218 | f1: 0.767: 100%|██████████| 17/17 [00:04<00:00,  4.24it/s]\n",
      "Epoch:   3. Validation. Loss: 0.223 | f1: 0.746: 100%|██████████| 9/9 [00:00<00:00, 13.34it/s]\n",
      "Epoch:   4. Train.      Loss: 0.188 | f1: 0.798: 100%|██████████| 17/17 [00:03<00:00,  4.28it/s]\n",
      "Epoch:   4. Validation. Loss: 0.216 | f1: 0.723: 100%|██████████| 9/9 [00:00<00:00, 13.38it/s]\n",
      "Epoch:   5. Train.      Loss: 0.160 | f1: 0.827: 100%|██████████| 17/17 [00:03<00:00,  4.28it/s]\n",
      "Epoch:   5. Validation. Loss: 0.194 | f1: 0.763: 100%|██████████| 9/9 [00:00<00:00, 13.45it/s]\n",
      "Epoch:   6. Train.      Loss: 0.138 | f1: 0.849: 100%|██████████| 17/17 [00:03<00:00,  4.29it/s]\n",
      "Epoch:   6. Validation. Loss: 0.173 | f1: 0.785: 100%|██████████| 9/9 [00:00<00:00, 13.19it/s]\n",
      "Epoch:   7. Train.      Loss: 0.128 | f1: 0.861: 100%|██████████| 17/17 [00:04<00:00,  4.19it/s]\n",
      "Epoch:   7. Validation. Loss: 0.189 | f1: 0.773: 100%|██████████| 9/9 [00:00<00:00, 13.21it/s]\n",
      "Epoch:   8. Train.      Loss: 0.127 | f1: 0.861: 100%|██████████| 17/17 [00:03<00:00,  4.25it/s]\n",
      "Epoch:   8. Validation. Loss: 0.189 | f1: 0.775: 100%|██████████| 9/9 [00:00<00:00, 13.43it/s]\n",
      "Epoch:   9. Train.      Loss: 0.110 | f1: 0.875: 100%|██████████| 17/17 [00:04<00:00,  4.24it/s]\n",
      "Epoch:   9. Validation. Loss: 0.160 | f1: 0.799: 100%|██████████| 9/9 [00:00<00:00, 13.79it/s]\n",
      "Epoch:  10. Train.      Loss: 0.097 | f1: 0.891: 100%|██████████| 17/17 [00:04<00:00,  4.23it/s]\n",
      "Epoch:  10. Validation. Loss: 0.150 | f1: 0.808: 100%|██████████| 9/9 [00:00<00:00, 13.39it/s]\n",
      "Epoch:  11. Train.      Loss: 0.090 | f1: 0.892: 100%|██████████| 17/17 [00:04<00:00,  4.19it/s]\n",
      "Epoch:  11. Validation. Loss: 0.159 | f1: 0.800: 100%|██████████| 9/9 [00:00<00:00, 13.66it/s]\n",
      "Epoch:  12. Train.      Loss: 0.081 | f1: 0.913: 100%|██████████| 17/17 [00:04<00:00,  4.22it/s]\n",
      "Epoch:  12. Validation. Loss: 0.163 | f1: 0.793: 100%|██████████| 9/9 [00:00<00:00, 13.28it/s]\n",
      "Epoch:  13. Train.      Loss: 0.081 | f1: 0.915: 100%|██████████| 17/17 [00:04<00:00,  4.24it/s]\n",
      "Epoch:  13. Validation. Loss: 0.136 | f1: 0.821: 100%|██████████| 9/9 [00:00<00:00, 13.26it/s]\n",
      "Epoch:  14. Train.      Loss: 0.083 | f1: 0.911: 100%|██████████| 17/17 [00:04<00:00,  4.20it/s]\n",
      "Epoch:  14. Validation. Loss: 0.145 | f1: 0.817: 100%|██████████| 9/9 [00:00<00:00, 13.41it/s]\n",
      "Epoch:  15. Train.      Loss: 0.079 | f1: 0.918: 100%|██████████| 17/17 [00:04<00:00,  4.22it/s]\n",
      "Epoch:  15. Validation. Loss: 0.149 | f1: 0.813: 100%|██████████| 9/9 [00:00<00:00, 13.25it/s]\n",
      "Epoch:  16. Train.      Loss: 0.076 | f1: 0.923: 100%|██████████| 17/17 [00:03<00:00,  4.26it/s]\n",
      "Epoch:  16. Validation. Loss: 0.165 | f1: 0.776: 100%|██████████| 9/9 [00:00<00:00, 13.19it/s]\n",
      "Epoch:  17. Train.      Loss: 0.061 | f1: 0.935: 100%|██████████| 17/17 [00:03<00:00,  4.32it/s]\n",
      "Epoch:  17. Validation. Loss: 0.145 | f1: 0.817: 100%|██████████| 9/9 [00:00<00:00, 13.25it/s]\n",
      "Epoch:  18. Train.      Loss: 0.056 | f1: 0.942: 100%|██████████| 17/17 [00:03<00:00,  4.26it/s]\n",
      "Epoch:  18. Validation. Loss: 0.142 | f1: 0.821: 100%|██████████| 9/9 [00:00<00:00, 13.60it/s]\n",
      "Epoch:  19. Train.      Loss: 0.055 | f1: 0.943: 100%|██████████| 17/17 [00:04<00:00,  4.17it/s]\n",
      "Epoch:  19. Validation. Loss: 0.145 | f1: 0.823: 100%|██████████| 9/9 [00:00<00:00, 13.45it/s]\n",
      "Epoch:  20. Train.      Loss: 0.052 | f1: 0.947: 100%|██████████| 17/17 [00:04<00:00,  4.22it/s]\n",
      "Epoch:  20. Validation. Loss: 0.144 | f1: 0.817: 100%|██████████| 9/9 [00:00<00:00, 12.93it/s]\n"
     ]
    },
    {
     "name": "stdout",
     "output_type": "stream",
     "text": [
      "fold: 1\n"
     ]
    },
    {
     "name": "stderr",
     "output_type": "stream",
     "text": [
      "Epoch:   1. Train.      Loss: 0.511 | f1: 0.468: 100%|██████████| 17/17 [00:04<00:00,  3.63it/s]\n",
      "Epoch:   1. Validation. Loss: 0.534 | f1: 0.461: 100%|██████████| 9/9 [00:01<00:00,  5.95it/s]\n",
      "Epoch:   2. Train.      Loss: 0.306 | f1: 0.679: 100%|██████████| 17/17 [00:03<00:00,  4.26it/s]\n",
      "Epoch:   2. Validation. Loss: 0.337 | f1: 0.650: 100%|██████████| 9/9 [00:00<00:00, 13.74it/s]\n",
      "Epoch:   3. Train.      Loss: 0.224 | f1: 0.762: 100%|██████████| 17/17 [00:04<00:00,  4.22it/s]\n",
      "Epoch:   3. Validation. Loss: 0.299 | f1: 0.686: 100%|██████████| 9/9 [00:00<00:00, 14.14it/s]\n",
      "Epoch:   4. Train.      Loss: 0.184 | f1: 0.804: 100%|██████████| 17/17 [00:04<00:00,  4.20it/s]\n",
      "Epoch:   4. Validation. Loss: 0.208 | f1: 0.765: 100%|██████████| 9/9 [00:00<00:00, 14.16it/s]\n",
      "Epoch:   5. Train.      Loss: 0.168 | f1: 0.816: 100%|██████████| 17/17 [00:04<00:00,  4.13it/s]\n",
      "Epoch:   5. Validation. Loss: 0.212 | f1: 0.775: 100%|██████████| 9/9 [00:00<00:00, 14.22it/s]\n",
      "Epoch:   6. Train.      Loss: 0.152 | f1: 0.827: 100%|██████████| 17/17 [00:04<00:00,  4.23it/s]\n",
      "Epoch:   6. Validation. Loss: 0.192 | f1: 0.768: 100%|██████████| 9/9 [00:00<00:00, 13.60it/s]\n",
      "Epoch:   7. Train.      Loss: 0.121 | f1: 0.861: 100%|██████████| 17/17 [00:04<00:00,  4.17it/s]\n",
      "Epoch:   7. Validation. Loss: 0.189 | f1: 0.779: 100%|██████████| 9/9 [00:00<00:00, 13.64it/s]\n",
      "Epoch:   8. Train.      Loss: 0.122 | f1: 0.863: 100%|██████████| 17/17 [00:03<00:00,  4.28it/s]\n",
      "Epoch:   8. Validation. Loss: 0.224 | f1: 0.776: 100%|██████████| 9/9 [00:00<00:00, 13.92it/s]\n",
      "Epoch:   9. Train.      Loss: 0.111 | f1: 0.877: 100%|██████████| 17/17 [00:04<00:00,  4.21it/s]\n",
      "Epoch:   9. Validation. Loss: 0.187 | f1: 0.780: 100%|██████████| 9/9 [00:00<00:00, 13.59it/s]\n",
      "Epoch:  10. Train.      Loss: 0.098 | f1: 0.897: 100%|██████████| 17/17 [00:04<00:00,  4.24it/s]\n",
      "Epoch:  10. Validation. Loss: 0.148 | f1: 0.812: 100%|██████████| 9/9 [00:00<00:00, 14.08it/s]\n",
      "Epoch:  11. Train.      Loss: 0.102 | f1: 0.891: 100%|██████████| 17/17 [00:04<00:00,  4.20it/s]\n",
      "Epoch:  11. Validation. Loss: 0.216 | f1: 0.773: 100%|██████████| 9/9 [00:00<00:00, 13.66it/s]\n",
      "Epoch:  12. Train.      Loss: 0.097 | f1: 0.897: 100%|██████████| 17/17 [00:04<00:00,  4.16it/s]\n",
      "Epoch:  12. Validation. Loss: 0.253 | f1: 0.728: 100%|██████████| 9/9 [00:00<00:00, 13.49it/s]\n",
      "Epoch:  13. Train.      Loss: 0.081 | f1: 0.903: 100%|██████████| 17/17 [00:04<00:00,  4.18it/s]\n",
      "Epoch:  13. Validation. Loss: 0.153 | f1: 0.815: 100%|██████████| 9/9 [00:00<00:00, 13.98it/s]\n",
      "Epoch:  14. Train.      Loss: 0.071 | f1: 0.925: 100%|██████████| 17/17 [00:04<00:00,  4.20it/s]\n",
      "Epoch:  14. Validation. Loss: 0.149 | f1: 0.819: 100%|██████████| 9/9 [00:00<00:00, 13.42it/s]\n",
      "Epoch:  15. Train.      Loss: 0.065 | f1: 0.933: 100%|██████████| 17/17 [00:04<00:00,  4.19it/s]\n",
      "Epoch:  15. Validation. Loss: 0.156 | f1: 0.810: 100%|██████████| 9/9 [00:00<00:00, 13.90it/s]\n",
      "Epoch:  16. Train.      Loss: 0.064 | f1: 0.935: 100%|██████████| 17/17 [00:04<00:00,  4.21it/s]\n",
      "Epoch:  16. Validation. Loss: 0.142 | f1: 0.822: 100%|██████████| 9/9 [00:00<00:00, 14.03it/s]\n",
      "Epoch:  17. Train.      Loss: 0.060 | f1: 0.936: 100%|██████████| 17/17 [00:04<00:00,  4.17it/s]\n",
      "Epoch:  17. Validation. Loss: 0.151 | f1: 0.814: 100%|██████████| 9/9 [00:00<00:00, 13.62it/s]\n",
      "Epoch:  18. Train.      Loss: 0.056 | f1: 0.944: 100%|██████████| 17/17 [00:04<00:00,  4.24it/s]\n",
      "Epoch:  18. Validation. Loss: 0.138 | f1: 0.826: 100%|██████████| 9/9 [00:00<00:00, 13.81it/s]\n",
      "Epoch:  19. Train.      Loss: 0.050 | f1: 0.948: 100%|██████████| 17/17 [00:04<00:00,  4.22it/s]\n",
      "Epoch:  19. Validation. Loss: 0.140 | f1: 0.821: 100%|██████████| 9/9 [00:00<00:00, 13.74it/s]\n",
      "Epoch:  20. Train.      Loss: 0.048 | f1: 0.953: 100%|██████████| 17/17 [00:04<00:00,  4.19it/s]\n",
      "Epoch:  20. Validation. Loss: 0.154 | f1: 0.815: 100%|██████████| 9/9 [00:00<00:00, 13.57it/s]\n"
     ]
    },
    {
     "name": "stdout",
     "output_type": "stream",
     "text": [
      "fold: 2\n"
     ]
    },
    {
     "name": "stderr",
     "output_type": "stream",
     "text": [
      "Epoch:   1. Train.      Loss: 0.534 | f1: 0.459: 100%|██████████| 17/17 [00:04<00:00,  3.48it/s]\n",
      "Epoch:   1. Validation. Loss: 0.511 | f1: 0.489: 100%|██████████| 9/9 [00:01<00:00,  5.97it/s]\n",
      "Epoch:   2. Train.      Loss: 0.324 | f1: 0.661: 100%|██████████| 17/17 [00:03<00:00,  4.30it/s]\n",
      "Epoch:   2. Validation. Loss: 0.475 | f1: 0.522: 100%|██████████| 9/9 [00:00<00:00, 13.84it/s]\n",
      "Epoch:   3. Train.      Loss: 0.275 | f1: 0.710: 100%|██████████| 17/17 [00:04<00:00,  4.22it/s]\n",
      "Epoch:   3. Validation. Loss: 0.296 | f1: 0.688: 100%|██████████| 9/9 [00:00<00:00, 14.23it/s]\n",
      "Epoch:   4. Train.      Loss: 0.194 | f1: 0.783: 100%|██████████| 17/17 [00:04<00:00,  4.15it/s]\n",
      "Epoch:   4. Validation. Loss: 0.281 | f1: 0.712: 100%|██████████| 9/9 [00:00<00:00, 13.69it/s]\n",
      "Epoch:   5. Train.      Loss: 0.178 | f1: 0.805: 100%|██████████| 17/17 [00:04<00:00,  4.20it/s]\n",
      "Epoch:   5. Validation. Loss: 0.233 | f1: 0.759: 100%|██████████| 9/9 [00:00<00:00, 13.67it/s]\n",
      "Epoch:   6. Train.      Loss: 0.150 | f1: 0.833: 100%|██████████| 17/17 [00:03<00:00,  4.29it/s]\n",
      "Epoch:   6. Validation. Loss: 0.203 | f1: 0.779: 100%|██████████| 9/9 [00:00<00:00, 13.74it/s]\n",
      "Epoch:   7. Train.      Loss: 0.123 | f1: 0.853: 100%|██████████| 17/17 [00:04<00:00,  4.19it/s]\n",
      "Epoch:   7. Validation. Loss: 0.243 | f1: 0.751: 100%|██████████| 9/9 [00:00<00:00, 13.58it/s]\n",
      "Epoch:   8. Train.      Loss: 0.127 | f1: 0.847: 100%|██████████| 17/17 [00:04<00:00,  4.24it/s]\n",
      "Epoch:   8. Validation. Loss: 0.213 | f1: 0.770: 100%|██████████| 9/9 [00:00<00:00, 13.53it/s]\n",
      "Epoch:   9. Train.      Loss: 0.118 | f1: 0.864: 100%|██████████| 17/17 [00:04<00:00,  4.18it/s]\n",
      "Epoch:   9. Validation. Loss: 0.184 | f1: 0.819: 100%|██████████| 9/9 [00:00<00:00, 13.86it/s]\n",
      "Epoch:  10. Train.      Loss: 0.099 | f1: 0.891: 100%|██████████| 17/17 [00:04<00:00,  4.20it/s]\n",
      "Epoch:  10. Validation. Loss: 0.183 | f1: 0.810: 100%|██████████| 9/9 [00:00<00:00, 13.63it/s]\n",
      "Epoch:  11. Train.      Loss: 0.085 | f1: 0.904: 100%|██████████| 17/17 [00:04<00:00,  4.17it/s]\n",
      "Epoch:  11. Validation. Loss: 0.201 | f1: 0.794: 100%|██████████| 9/9 [00:00<00:00, 14.02it/s]\n",
      "Epoch:  12. Train.      Loss: 0.084 | f1: 0.896: 100%|██████████| 17/17 [00:04<00:00,  4.20it/s]\n",
      "Epoch:  12. Validation. Loss: 0.170 | f1: 0.822: 100%|██████████| 9/9 [00:00<00:00, 13.78it/s]\n",
      "Epoch:  13. Train.      Loss: 0.077 | f1: 0.907: 100%|██████████| 17/17 [00:04<00:00,  4.18it/s]\n",
      "Epoch:  13. Validation. Loss: 0.158 | f1: 0.836: 100%|██████████| 9/9 [00:00<00:00, 14.20it/s]\n",
      "Epoch:  14. Train.      Loss: 0.069 | f1: 0.920: 100%|██████████| 17/17 [00:04<00:00,  4.19it/s]\n",
      "Epoch:  14. Validation. Loss: 0.159 | f1: 0.835: 100%|██████████| 9/9 [00:00<00:00, 14.12it/s]\n",
      "Epoch:  15. Train.      Loss: 0.063 | f1: 0.925: 100%|██████████| 17/17 [00:04<00:00,  4.20it/s]\n",
      "Epoch:  15. Validation. Loss: 0.181 | f1: 0.817: 100%|██████████| 9/9 [00:00<00:00, 13.59it/s]\n",
      "Epoch:  16. Train.      Loss: 0.061 | f1: 0.921: 100%|██████████| 17/17 [00:04<00:00,  4.18it/s]\n",
      "Epoch:  16. Validation. Loss: 0.155 | f1: 0.835: 100%|██████████| 9/9 [00:00<00:00, 14.35it/s]\n",
      "Epoch:  17. Train.      Loss: 0.058 | f1: 0.924: 100%|██████████| 17/17 [00:04<00:00,  4.17it/s]\n",
      "Epoch:  17. Validation. Loss: 0.182 | f1: 0.810: 100%|██████████| 9/9 [00:00<00:00, 13.78it/s]\n",
      "Epoch:  18. Train.      Loss: 0.054 | f1: 0.933: 100%|██████████| 17/17 [00:04<00:00,  4.21it/s]\n",
      "Epoch:  18. Validation. Loss: 0.151 | f1: 0.844: 100%|██████████| 9/9 [00:00<00:00, 14.07it/s]\n",
      "Epoch:  19. Train.      Loss: 0.050 | f1: 0.941: 100%|██████████| 17/17 [00:04<00:00,  4.19it/s]\n",
      "Epoch:  19. Validation. Loss: 0.153 | f1: 0.837: 100%|██████████| 9/9 [00:00<00:00, 13.49it/s]\n",
      "Epoch:  20. Train.      Loss: 0.048 | f1: 0.941: 100%|██████████| 17/17 [00:04<00:00,  4.19it/s]\n",
      "Epoch:  20. Validation. Loss: 0.151 | f1: 0.843: 100%|██████████| 9/9 [00:00<00:00, 14.24it/s]\n"
     ]
    },
    {
     "name": "stdout",
     "output_type": "stream",
     "text": [
      "setup: [True, True, False, False]\n",
      "fold: 0\n"
     ]
    },
    {
     "name": "stderr",
     "output_type": "stream",
     "text": [
      "Epoch:   1. Train.      Loss: 0.440 | f1: 0.554: 100%|██████████| 17/17 [00:04<00:00,  3.60it/s]\n",
      "Epoch:   1. Validation. Loss: 0.450 | f1: 0.533: 100%|██████████| 9/9 [00:01<00:00,  5.90it/s]\n",
      "Epoch:   2. Train.      Loss: 0.322 | f1: 0.658: 100%|██████████| 17/17 [00:03<00:00,  4.35it/s]\n",
      "Epoch:   2. Validation. Loss: 0.279 | f1: 0.689: 100%|██████████| 9/9 [00:00<00:00, 13.87it/s]\n",
      "Epoch:   3. Train.      Loss: 0.277 | f1: 0.710: 100%|██████████| 17/17 [00:04<00:00,  4.25it/s]\n",
      "Epoch:   3. Validation. Loss: 0.249 | f1: 0.723: 100%|██████████| 9/9 [00:00<00:00, 13.76it/s]\n",
      "Epoch:   4. Train.      Loss: 0.268 | f1: 0.711: 100%|██████████| 17/17 [00:03<00:00,  4.27it/s]\n",
      "Epoch:   4. Validation. Loss: 0.242 | f1: 0.707: 100%|██████████| 9/9 [00:00<00:00, 13.45it/s]\n",
      "Epoch:   5. Train.      Loss: 0.249 | f1: 0.733: 100%|██████████| 17/17 [00:03<00:00,  4.28it/s]\n",
      "Epoch:   5. Validation. Loss: 0.229 | f1: 0.737: 100%|██████████| 9/9 [00:00<00:00, 13.71it/s]\n",
      "Epoch:   6. Train.      Loss: 0.211 | f1: 0.763: 100%|██████████| 17/17 [00:03<00:00,  4.29it/s]\n",
      "Epoch:   6. Validation. Loss: 0.175 | f1: 0.783: 100%|██████████| 9/9 [00:00<00:00, 12.89it/s]\n",
      "Epoch:   7. Train.      Loss: 0.197 | f1: 0.788: 100%|██████████| 17/17 [00:04<00:00,  4.23it/s]\n",
      "Epoch:   7. Validation. Loss: 0.236 | f1: 0.704: 100%|██████████| 9/9 [00:00<00:00, 13.85it/s]\n",
      "Epoch:   8. Train.      Loss: 0.193 | f1: 0.795: 100%|██████████| 17/17 [00:04<00:00,  4.20it/s]\n",
      "Epoch:   8. Validation. Loss: 0.171 | f1: 0.797: 100%|██████████| 9/9 [00:00<00:00, 13.87it/s]\n",
      "Epoch:   9. Train.      Loss: 0.178 | f1: 0.808: 100%|██████████| 17/17 [00:03<00:00,  4.26it/s]\n",
      "Epoch:   9. Validation. Loss: 0.157 | f1: 0.802: 100%|██████████| 9/9 [00:00<00:00, 13.29it/s]\n",
      "Epoch:  10. Train.      Loss: 0.177 | f1: 0.806: 100%|██████████| 17/17 [00:04<00:00,  4.24it/s]\n",
      "Epoch:  10. Validation. Loss: 0.210 | f1: 0.731: 100%|██████████| 9/9 [00:00<00:00, 13.47it/s]\n",
      "Epoch:  11. Train.      Loss: 0.171 | f1: 0.816: 100%|██████████| 17/17 [00:03<00:00,  4.31it/s]\n",
      "Epoch:  11. Validation. Loss: 0.232 | f1: 0.735: 100%|██████████| 9/9 [00:00<00:00, 13.66it/s]\n",
      "Epoch:  12. Train.      Loss: 0.167 | f1: 0.823: 100%|██████████| 17/17 [00:03<00:00,  4.30it/s]\n",
      "Epoch:  12. Validation. Loss: 0.200 | f1: 0.748: 100%|██████████| 9/9 [00:00<00:00, 13.15it/s]\n",
      "Epoch:  13. Train.      Loss: 0.183 | f1: 0.804: 100%|██████████| 17/17 [00:04<00:00,  4.21it/s]\n",
      "Epoch:  13. Validation. Loss: 0.191 | f1: 0.755: 100%|██████████| 9/9 [00:00<00:00, 13.31it/s]\n",
      "Epoch:  14. Train.      Loss: 0.163 | f1: 0.815: 100%|██████████| 17/17 [00:03<00:00,  4.30it/s]\n",
      "Epoch:  14. Validation. Loss: 0.214 | f1: 0.743: 100%|██████████| 9/9 [00:00<00:00, 13.06it/s]\n",
      "Epoch:  15. Train.      Loss: 0.164 | f1: 0.818: 100%|██████████| 17/17 [00:03<00:00,  4.31it/s]\n",
      "Epoch:  15. Validation. Loss: 0.165 | f1: 0.801: 100%|██████████| 9/9 [00:00<00:00, 13.33it/s]\n",
      "Epoch:  16. Train.      Loss: 0.150 | f1: 0.840: 100%|██████████| 17/17 [00:04<00:00,  4.24it/s]\n",
      "Epoch:  16. Validation. Loss: 0.153 | f1: 0.804: 100%|██████████| 9/9 [00:00<00:00, 13.19it/s]\n",
      "Epoch:  17. Train.      Loss: 0.134 | f1: 0.856: 100%|██████████| 17/17 [00:04<00:00,  4.23it/s]\n",
      "Epoch:  17. Validation. Loss: 0.153 | f1: 0.805: 100%|██████████| 9/9 [00:00<00:00, 13.36it/s]\n",
      "Epoch:  18. Train.      Loss: 0.129 | f1: 0.857: 100%|██████████| 17/17 [00:03<00:00,  4.26it/s]\n",
      "Epoch:  18. Validation. Loss: 0.193 | f1: 0.770: 100%|██████████| 9/9 [00:00<00:00, 13.17it/s]\n",
      "Epoch:  19. Train.      Loss: 0.140 | f1: 0.846: 100%|██████████| 17/17 [00:04<00:00,  4.17it/s]\n",
      "Epoch:  19. Validation. Loss: 0.176 | f1: 0.765: 100%|██████████| 9/9 [00:00<00:00, 13.54it/s]\n",
      "Epoch:  20. Train.      Loss: 0.126 | f1: 0.864: 100%|██████████| 17/17 [00:04<00:00,  4.21it/s]\n",
      "Epoch:  20. Validation. Loss: 0.165 | f1: 0.794: 100%|██████████| 9/9 [00:00<00:00, 13.70it/s]\n"
     ]
    },
    {
     "name": "stdout",
     "output_type": "stream",
     "text": [
      "fold: 1\n"
     ]
    },
    {
     "name": "stderr",
     "output_type": "stream",
     "text": [
      "Epoch:   1. Train.      Loss: 0.437 | f1: 0.556: 100%|██████████| 17/17 [00:04<00:00,  3.55it/s]\n",
      "Epoch:   1. Validation. Loss: 0.486 | f1: 0.505: 100%|██████████| 9/9 [00:01<00:00,  5.86it/s]\n",
      "Epoch:   2. Train.      Loss: 0.360 | f1: 0.636: 100%|██████████| 17/17 [00:04<00:00,  4.24it/s]\n",
      "Epoch:   2. Validation. Loss: 0.323 | f1: 0.656: 100%|██████████| 9/9 [00:00<00:00, 13.53it/s]\n",
      "Epoch:   3. Train.      Loss: 0.281 | f1: 0.693: 100%|██████████| 17/17 [00:03<00:00,  4.26it/s]\n",
      "Epoch:   3. Validation. Loss: 0.266 | f1: 0.702: 100%|██████████| 9/9 [00:00<00:00, 13.86it/s]\n",
      "Epoch:   4. Train.      Loss: 0.267 | f1: 0.718: 100%|██████████| 17/17 [00:04<00:00,  4.17it/s]\n",
      "Epoch:   4. Validation. Loss: 0.239 | f1: 0.735: 100%|██████████| 9/9 [00:00<00:00, 13.97it/s]\n",
      "Epoch:   5. Train.      Loss: 0.247 | f1: 0.737: 100%|██████████| 17/17 [00:04<00:00,  4.23it/s]\n",
      "Epoch:   5. Validation. Loss: 0.210 | f1: 0.742: 100%|██████████| 9/9 [00:00<00:00, 13.88it/s]\n",
      "Epoch:   6. Train.      Loss: 0.216 | f1: 0.756: 100%|██████████| 17/17 [00:03<00:00,  4.29it/s]\n",
      "Epoch:   6. Validation. Loss: 0.251 | f1: 0.713: 100%|██████████| 9/9 [00:00<00:00, 13.56it/s]\n",
      "Epoch:   7. Train.      Loss: 0.199 | f1: 0.781: 100%|██████████| 17/17 [00:03<00:00,  4.28it/s]\n",
      "Epoch:   7. Validation. Loss: 0.195 | f1: 0.764: 100%|██████████| 9/9 [00:00<00:00, 14.01it/s]\n",
      "Epoch:   8. Train.      Loss: 0.212 | f1: 0.765: 100%|██████████| 17/17 [00:04<00:00,  4.21it/s]\n",
      "Epoch:   8. Validation. Loss: 0.209 | f1: 0.766: 100%|██████████| 9/9 [00:00<00:00, 14.07it/s]\n",
      "Epoch:   9. Train.      Loss: 0.193 | f1: 0.788: 100%|██████████| 17/17 [00:04<00:00,  4.14it/s]\n",
      "Epoch:   9. Validation. Loss: 0.275 | f1: 0.672: 100%|██████████| 9/9 [00:00<00:00, 14.31it/s]\n",
      "Epoch:  10. Train.      Loss: 0.184 | f1: 0.792: 100%|██████████| 17/17 [00:04<00:00,  4.15it/s]\n",
      "Epoch:  10. Validation. Loss: 0.162 | f1: 0.802: 100%|██████████| 9/9 [00:00<00:00, 13.59it/s]\n",
      "Epoch:  11. Train.      Loss: 0.169 | f1: 0.816: 100%|██████████| 17/17 [00:04<00:00,  4.25it/s]\n",
      "Epoch:  11. Validation. Loss: 0.195 | f1: 0.771: 100%|██████████| 9/9 [00:00<00:00, 14.04it/s]\n",
      "Epoch:  12. Train.      Loss: 0.151 | f1: 0.823: 100%|██████████| 17/17 [00:04<00:00,  4.23it/s]\n",
      "Epoch:  12. Validation. Loss: 0.158 | f1: 0.812: 100%|██████████| 9/9 [00:00<00:00, 13.85it/s]\n",
      "Epoch:  13. Train.      Loss: 0.164 | f1: 0.812: 100%|██████████| 17/17 [00:04<00:00,  4.23it/s]\n",
      "Epoch:  13. Validation. Loss: 0.158 | f1: 0.807: 100%|██████████| 9/9 [00:00<00:00, 14.02it/s]\n",
      "Epoch:  14. Train.      Loss: 0.147 | f1: 0.827: 100%|██████████| 17/17 [00:04<00:00,  4.22it/s]\n",
      "Epoch:  14. Validation. Loss: 0.152 | f1: 0.812: 100%|██████████| 9/9 [00:00<00:00, 13.63it/s]\n",
      "Epoch:  15. Train.      Loss: 0.144 | f1: 0.836: 100%|██████████| 17/17 [00:04<00:00,  4.20it/s]\n",
      "Epoch:  15. Validation. Loss: 0.190 | f1: 0.794: 100%|██████████| 9/9 [00:00<00:00, 13.52it/s]\n",
      "Epoch:  16. Train.      Loss: 0.139 | f1: 0.837: 100%|██████████| 17/17 [00:04<00:00,  4.23it/s]\n",
      "Epoch:  16. Validation. Loss: 0.144 | f1: 0.815: 100%|██████████| 9/9 [00:00<00:00, 14.11it/s]\n",
      "Epoch:  17. Train.      Loss: 0.136 | f1: 0.836: 100%|██████████| 17/17 [00:04<00:00,  4.17it/s]\n",
      "Epoch:  17. Validation. Loss: 0.149 | f1: 0.810: 100%|██████████| 9/9 [00:00<00:00, 13.63it/s]\n",
      "Epoch:  18. Train.      Loss: 0.124 | f1: 0.858: 100%|██████████| 17/17 [00:04<00:00,  4.24it/s]\n",
      "Epoch:  18. Validation. Loss: 0.148 | f1: 0.819: 100%|██████████| 9/9 [00:00<00:00, 13.82it/s]\n",
      "Epoch:  19. Train.      Loss: 0.137 | f1: 0.836: 100%|██████████| 17/17 [00:04<00:00,  4.23it/s]\n",
      "Epoch:  19. Validation. Loss: 0.153 | f1: 0.811: 100%|██████████| 9/9 [00:00<00:00, 13.81it/s]\n",
      "Epoch:  20. Train.      Loss: 0.125 | f1: 0.855: 100%|██████████| 17/17 [00:04<00:00,  4.20it/s]\n",
      "Epoch:  20. Validation. Loss: 0.141 | f1: 0.816: 100%|██████████| 9/9 [00:00<00:00, 14.13it/s]\n"
     ]
    },
    {
     "name": "stdout",
     "output_type": "stream",
     "text": [
      "fold: 2\n"
     ]
    },
    {
     "name": "stderr",
     "output_type": "stream",
     "text": [
      "Epoch:   1. Train.      Loss: 0.483 | f1: 0.499: 100%|██████████| 17/17 [00:04<00:00,  3.52it/s]\n",
      "Epoch:   1. Validation. Loss: 0.566 | f1: 0.407: 100%|██████████| 9/9 [00:01<00:00,  5.94it/s]\n",
      "Epoch:   2. Train.      Loss: 0.341 | f1: 0.631: 100%|██████████| 17/17 [00:03<00:00,  4.36it/s]\n",
      "Epoch:   2. Validation. Loss: 0.487 | f1: 0.502: 100%|██████████| 9/9 [00:00<00:00, 14.32it/s]\n",
      "Epoch:   3. Train.      Loss: 0.317 | f1: 0.665: 100%|██████████| 17/17 [00:04<00:00,  4.21it/s]\n",
      "Epoch:   3. Validation. Loss: 0.323 | f1: 0.669: 100%|██████████| 9/9 [00:00<00:00, 14.02it/s]\n",
      "Epoch:   4. Train.      Loss: 0.254 | f1: 0.712: 100%|██████████| 17/17 [00:04<00:00,  4.23it/s]\n",
      "Epoch:   4. Validation. Loss: 0.323 | f1: 0.673: 100%|██████████| 9/9 [00:00<00:00, 13.60it/s]\n",
      "Epoch:   5. Train.      Loss: 0.242 | f1: 0.731: 100%|██████████| 17/17 [00:04<00:00,  4.21it/s]\n",
      "Epoch:   5. Validation. Loss: 0.293 | f1: 0.702: 100%|██████████| 9/9 [00:00<00:00, 13.71it/s]\n",
      "Epoch:   6. Train.      Loss: 0.252 | f1: 0.719: 100%|██████████| 17/17 [00:04<00:00,  4.21it/s]\n",
      "Epoch:   6. Validation. Loss: 0.313 | f1: 0.674: 100%|██████████| 9/9 [00:00<00:00, 13.65it/s]\n",
      "Epoch:   7. Train.      Loss: 0.228 | f1: 0.745: 100%|██████████| 17/17 [00:03<00:00,  4.27it/s]\n",
      "Epoch:   7. Validation. Loss: 0.275 | f1: 0.714: 100%|██████████| 9/9 [00:00<00:00, 13.84it/s]\n",
      "Epoch:   8. Train.      Loss: 0.209 | f1: 0.748: 100%|██████████| 17/17 [00:04<00:00,  4.19it/s]\n",
      "Epoch:   8. Validation. Loss: 0.273 | f1: 0.724: 100%|██████████| 9/9 [00:00<00:00, 13.72it/s]\n",
      "Epoch:   9. Train.      Loss: 0.203 | f1: 0.755: 100%|██████████| 17/17 [00:04<00:00,  4.24it/s]\n",
      "Epoch:   9. Validation. Loss: 0.250 | f1: 0.735: 100%|██████████| 9/9 [00:00<00:00, 13.73it/s]\n",
      "Epoch:  10. Train.      Loss: 0.198 | f1: 0.764: 100%|██████████| 17/17 [00:04<00:00,  4.12it/s]\n",
      "Epoch:  10. Validation. Loss: 0.214 | f1: 0.773: 100%|██████████| 9/9 [00:00<00:00, 14.09it/s]\n",
      "Epoch:  11. Train.      Loss: 0.179 | f1: 0.778: 100%|██████████| 17/17 [00:04<00:00,  4.23it/s]\n",
      "Epoch:  11. Validation. Loss: 0.197 | f1: 0.790: 100%|██████████| 9/9 [00:00<00:00, 13.80it/s]\n",
      "Epoch:  12. Train.      Loss: 0.160 | f1: 0.811: 100%|██████████| 17/17 [00:04<00:00,  4.19it/s]\n",
      "Epoch:  12. Validation. Loss: 0.214 | f1: 0.779: 100%|██████████| 9/9 [00:00<00:00, 12.82it/s]\n",
      "Epoch:  13. Train.      Loss: 0.172 | f1: 0.796: 100%|██████████| 17/17 [00:04<00:00,  4.18it/s]\n",
      "Epoch:  13. Validation. Loss: 0.194 | f1: 0.799: 100%|██████████| 9/9 [00:00<00:00, 13.63it/s]\n",
      "Epoch:  14. Train.      Loss: 0.149 | f1: 0.820: 100%|██████████| 17/17 [00:04<00:00,  4.22it/s]\n",
      "Epoch:  14. Validation. Loss: 0.217 | f1: 0.771: 100%|██████████| 9/9 [00:00<00:00, 13.92it/s]\n",
      "Epoch:  15. Train.      Loss: 0.150 | f1: 0.817: 100%|██████████| 17/17 [00:04<00:00,  4.21it/s]\n",
      "Epoch:  15. Validation. Loss: 0.240 | f1: 0.748: 100%|██████████| 9/9 [00:00<00:00, 14.28it/s]\n",
      "Epoch:  16. Train.      Loss: 0.170 | f1: 0.790: 100%|██████████| 17/17 [00:04<00:00,  4.21it/s]\n",
      "Epoch:  16. Validation. Loss: 0.202 | f1: 0.786: 100%|██████████| 9/9 [00:00<00:00, 14.02it/s]\n",
      "Epoch:  17. Train.      Loss: 0.139 | f1: 0.823: 100%|██████████| 17/17 [00:04<00:00,  4.24it/s]\n",
      "Epoch:  17. Validation. Loss: 0.174 | f1: 0.809: 100%|██████████| 9/9 [00:00<00:00, 14.19it/s]\n",
      "Epoch:  18. Train.      Loss: 0.135 | f1: 0.833: 100%|██████████| 17/17 [00:04<00:00,  4.17it/s]\n",
      "Epoch:  18. Validation. Loss: 0.175 | f1: 0.808: 100%|██████████| 9/9 [00:00<00:00, 14.23it/s]\n",
      "Epoch:  19. Train.      Loss: 0.133 | f1: 0.836: 100%|██████████| 17/17 [00:04<00:00,  4.13it/s]\n",
      "Epoch:  19. Validation. Loss: 0.183 | f1: 0.808: 100%|██████████| 9/9 [00:00<00:00, 13.60it/s]\n",
      "Epoch:  20. Train.      Loss: 0.128 | f1: 0.850: 100%|██████████| 17/17 [00:04<00:00,  4.14it/s]\n",
      "Epoch:  20. Validation. Loss: 0.162 | f1: 0.832: 100%|██████████| 9/9 [00:00<00:00, 13.45it/s]\n"
     ]
    },
    {
     "name": "stdout",
     "output_type": "stream",
     "text": [
      "setup: [False, True, True, False]\n",
      "fold: 0\n"
     ]
    },
    {
     "name": "stderr",
     "output_type": "stream",
     "text": [
      "Epoch:   1. Train.      Loss: 0.562 | f1: 0.428: 100%|██████████| 17/17 [00:04<00:00,  3.57it/s]\n",
      "Epoch:   1. Validation. Loss: 0.516 | f1: 0.469: 100%|██████████| 9/9 [00:01<00:00,  5.90it/s]\n",
      "Epoch:   2. Train.      Loss: 0.375 | f1: 0.610: 100%|██████████| 17/17 [00:03<00:00,  4.32it/s]\n",
      "Epoch:   2. Validation. Loss: 0.361 | f1: 0.605: 100%|██████████| 9/9 [00:00<00:00, 13.23it/s]\n",
      "Epoch:   3. Train.      Loss: 0.314 | f1: 0.670: 100%|██████████| 17/17 [00:03<00:00,  4.29it/s]\n",
      "Epoch:   3. Validation. Loss: 0.292 | f1: 0.674: 100%|██████████| 9/9 [00:00<00:00, 13.89it/s]\n",
      "Epoch:   4. Train.      Loss: 0.264 | f1: 0.724: 100%|██████████| 17/17 [00:03<00:00,  4.29it/s]\n",
      "Epoch:   4. Validation. Loss: 0.256 | f1: 0.713: 100%|██████████| 9/9 [00:00<00:00, 13.88it/s]\n",
      "Epoch:   5. Train.      Loss: 0.241 | f1: 0.732: 100%|██████████| 17/17 [00:03<00:00,  4.28it/s]\n",
      "Epoch:   5. Validation. Loss: 0.275 | f1: 0.683: 100%|██████████| 9/9 [00:00<00:00, 13.42it/s]\n",
      "Epoch:   6. Train.      Loss: 0.219 | f1: 0.762: 100%|██████████| 17/17 [00:03<00:00,  4.28it/s]\n",
      "Epoch:   6. Validation. Loss: 0.228 | f1: 0.745: 100%|██████████| 9/9 [00:00<00:00, 13.45it/s]\n",
      "Epoch:   7. Train.      Loss: 0.205 | f1: 0.774: 100%|██████████| 17/17 [00:03<00:00,  4.36it/s]\n",
      "Epoch:   7. Validation. Loss: 0.196 | f1: 0.773: 100%|██████████| 9/9 [00:00<00:00, 13.68it/s]\n",
      "Epoch:   8. Train.      Loss: 0.201 | f1: 0.780: 100%|██████████| 17/17 [00:03<00:00,  4.26it/s]\n",
      "Epoch:   8. Validation. Loss: 0.245 | f1: 0.704: 100%|██████████| 9/9 [00:00<00:00, 13.38it/s]\n",
      "Epoch:   9. Train.      Loss: 0.194 | f1: 0.786: 100%|██████████| 17/17 [00:03<00:00,  4.25it/s]\n",
      "Epoch:   9. Validation. Loss: 0.187 | f1: 0.772: 100%|██████████| 9/9 [00:00<00:00, 13.49it/s]\n",
      "Epoch:  10. Train.      Loss: 0.181 | f1: 0.805: 100%|██████████| 17/17 [00:04<00:00,  4.18it/s]\n",
      "Epoch:  10. Validation. Loss: 0.218 | f1: 0.727: 100%|██████████| 9/9 [00:00<00:00, 13.57it/s]\n",
      "Epoch:  11. Train.      Loss: 0.178 | f1: 0.805: 100%|██████████| 17/17 [00:03<00:00,  4.27it/s]\n",
      "Epoch:  11. Validation. Loss: 0.222 | f1: 0.739: 100%|██████████| 9/9 [00:00<00:00, 13.83it/s]\n",
      "Epoch:  12. Train.      Loss: 0.161 | f1: 0.824: 100%|██████████| 17/17 [00:04<00:00,  4.24it/s]\n",
      "Epoch:  12. Validation. Loss: 0.211 | f1: 0.730: 100%|██████████| 9/9 [00:00<00:00, 13.69it/s]\n",
      "Epoch:  13. Train.      Loss: 0.157 | f1: 0.830: 100%|██████████| 17/17 [00:04<00:00,  4.25it/s]\n",
      "Epoch:  13. Validation. Loss: 0.183 | f1: 0.775: 100%|██████████| 9/9 [00:00<00:00, 13.75it/s]\n",
      "Epoch:  14. Train.      Loss: 0.144 | f1: 0.833: 100%|██████████| 17/17 [00:04<00:00,  4.21it/s]\n",
      "Epoch:  14. Validation. Loss: 0.185 | f1: 0.779: 100%|██████████| 9/9 [00:00<00:00, 13.72it/s]\n",
      "Epoch:  15. Train.      Loss: 0.140 | f1: 0.845: 100%|██████████| 17/17 [00:04<00:00,  4.21it/s]\n",
      "Epoch:  15. Validation. Loss: 0.176 | f1: 0.789: 100%|██████████| 9/9 [00:00<00:00, 13.23it/s]\n",
      "Epoch:  16. Train.      Loss: 0.145 | f1: 0.841: 100%|██████████| 17/17 [00:03<00:00,  4.29it/s]\n",
      "Epoch:  16. Validation. Loss: 0.189 | f1: 0.781: 100%|██████████| 9/9 [00:00<00:00, 13.20it/s]\n",
      "Epoch:  17. Train.      Loss: 0.144 | f1: 0.847: 100%|██████████| 17/17 [00:04<00:00,  4.23it/s]\n",
      "Epoch:  17. Validation. Loss: 0.155 | f1: 0.809: 100%|██████████| 9/9 [00:00<00:00, 13.55it/s]\n",
      "Epoch:  18. Train.      Loss: 0.128 | f1: 0.863: 100%|██████████| 17/17 [00:03<00:00,  4.26it/s]\n",
      "Epoch:  18. Validation. Loss: 0.145 | f1: 0.811: 100%|██████████| 9/9 [00:00<00:00, 13.42it/s]\n",
      "Epoch:  19. Train.      Loss: 0.113 | f1: 0.882: 100%|██████████| 17/17 [00:03<00:00,  4.28it/s]\n",
      "Epoch:  19. Validation. Loss: 0.144 | f1: 0.810: 100%|██████████| 9/9 [00:00<00:00, 13.20it/s]\n",
      "Epoch:  20. Train.      Loss: 0.130 | f1: 0.856: 100%|██████████| 17/17 [00:04<00:00,  4.24it/s]\n",
      "Epoch:  20. Validation. Loss: 0.157 | f1: 0.800: 100%|██████████| 9/9 [00:00<00:00, 13.05it/s]\n"
     ]
    },
    {
     "name": "stdout",
     "output_type": "stream",
     "text": [
      "fold: 1\n"
     ]
    },
    {
     "name": "stderr",
     "output_type": "stream",
     "text": [
      "Epoch:   1. Train.      Loss: 0.482 | f1: 0.505: 100%|██████████| 17/17 [00:04<00:00,  3.53it/s]\n",
      "Epoch:   1. Validation. Loss: 0.446 | f1: 0.543: 100%|██████████| 9/9 [00:01<00:00,  5.89it/s]\n",
      "Epoch:   2. Train.      Loss: 0.352 | f1: 0.626: 100%|██████████| 17/17 [00:03<00:00,  4.29it/s]\n",
      "Epoch:   2. Validation. Loss: 0.378 | f1: 0.604: 100%|██████████| 9/9 [00:00<00:00, 14.17it/s]\n",
      "Epoch:   3. Train.      Loss: 0.305 | f1: 0.672: 100%|██████████| 17/17 [00:04<00:00,  4.25it/s]\n",
      "Epoch:   3. Validation. Loss: 0.290 | f1: 0.693: 100%|██████████| 9/9 [00:00<00:00, 13.45it/s]\n",
      "Epoch:   4. Train.      Loss: 0.266 | f1: 0.709: 100%|██████████| 17/17 [00:04<00:00,  4.24it/s]\n",
      "Epoch:   4. Validation. Loss: 0.305 | f1: 0.691: 100%|██████████| 9/9 [00:00<00:00, 13.52it/s]\n",
      "Epoch:   5. Train.      Loss: 0.234 | f1: 0.741: 100%|██████████| 17/17 [00:03<00:00,  4.26it/s]\n",
      "Epoch:   5. Validation. Loss: 0.227 | f1: 0.742: 100%|██████████| 9/9 [00:00<00:00, 13.83it/s]\n",
      "Epoch:   6. Train.      Loss: 0.212 | f1: 0.762: 100%|██████████| 17/17 [00:04<00:00,  4.23it/s]\n",
      "Epoch:   6. Validation. Loss: 0.188 | f1: 0.782: 100%|██████████| 9/9 [00:00<00:00, 14.14it/s]\n",
      "Epoch:   7. Train.      Loss: 0.206 | f1: 0.772: 100%|██████████| 17/17 [00:04<00:00,  4.16it/s]\n",
      "Epoch:   7. Validation. Loss: 0.194 | f1: 0.782: 100%|██████████| 9/9 [00:00<00:00, 13.61it/s]\n",
      "Epoch:   8. Train.      Loss: 0.187 | f1: 0.802: 100%|██████████| 17/17 [00:04<00:00,  4.21it/s]\n",
      "Epoch:   8. Validation. Loss: 0.192 | f1: 0.779: 100%|██████████| 9/9 [00:00<00:00, 13.52it/s]\n",
      "Epoch:   9. Train.      Loss: 0.185 | f1: 0.788: 100%|██████████| 17/17 [00:03<00:00,  4.26it/s]\n",
      "Epoch:   9. Validation. Loss: 0.200 | f1: 0.775: 100%|██████████| 9/9 [00:00<00:00, 13.87it/s]\n",
      "Epoch:  10. Train.      Loss: 0.183 | f1: 0.803: 100%|██████████| 17/17 [00:04<00:00,  4.23it/s]\n",
      "Epoch:  10. Validation. Loss: 0.211 | f1: 0.768: 100%|██████████| 9/9 [00:00<00:00, 13.92it/s]\n",
      "Epoch:  11. Train.      Loss: 0.180 | f1: 0.800: 100%|██████████| 17/17 [00:04<00:00,  4.20it/s]\n",
      "Epoch:  11. Validation. Loss: 0.182 | f1: 0.777: 100%|██████████| 9/9 [00:00<00:00, 13.76it/s]\n",
      "Epoch:  12. Train.      Loss: 0.169 | f1: 0.813: 100%|██████████| 17/17 [00:04<00:00,  4.18it/s]\n",
      "Epoch:  12. Validation. Loss: 0.155 | f1: 0.799: 100%|██████████| 9/9 [00:00<00:00, 13.51it/s]\n",
      "Epoch:  13. Train.      Loss: 0.162 | f1: 0.823: 100%|██████████| 17/17 [00:04<00:00,  4.18it/s]\n",
      "Epoch:  13. Validation. Loss: 0.200 | f1: 0.767: 100%|██████████| 9/9 [00:00<00:00, 13.86it/s]\n",
      "Epoch:  14. Train.      Loss: 0.146 | f1: 0.842: 100%|██████████| 17/17 [00:04<00:00,  4.21it/s]\n",
      "Epoch:  14. Validation. Loss: 0.212 | f1: 0.763: 100%|██████████| 9/9 [00:00<00:00, 13.89it/s]\n",
      "Epoch:  15. Train.      Loss: 0.140 | f1: 0.831: 100%|██████████| 17/17 [00:04<00:00,  4.24it/s]\n",
      "Epoch:  15. Validation. Loss: 0.162 | f1: 0.797: 100%|██████████| 9/9 [00:00<00:00, 13.39it/s]\n",
      "Epoch:  16. Train.      Loss: 0.148 | f1: 0.840: 100%|██████████| 17/17 [00:04<00:00,  4.18it/s]\n",
      "Epoch:  16. Validation. Loss: 0.135 | f1: 0.831: 100%|██████████| 9/9 [00:00<00:00, 13.52it/s]\n",
      "Epoch:  17. Train.      Loss: 0.126 | f1: 0.865: 100%|██████████| 17/17 [00:03<00:00,  4.26it/s]\n",
      "Epoch:  17. Validation. Loss: 0.144 | f1: 0.826: 100%|██████████| 9/9 [00:00<00:00, 13.90it/s]\n",
      "Epoch:  18. Train.      Loss: 0.123 | f1: 0.870: 100%|██████████| 17/17 [00:04<00:00,  4.20it/s]\n",
      "Epoch:  18. Validation. Loss: 0.142 | f1: 0.823: 100%|██████████| 9/9 [00:00<00:00, 13.71it/s]\n",
      "Epoch:  19. Train.      Loss: 0.122 | f1: 0.850: 100%|██████████| 17/17 [00:04<00:00,  4.12it/s]\n",
      "Epoch:  19. Validation. Loss: 0.133 | f1: 0.833: 100%|██████████| 9/9 [00:00<00:00, 13.57it/s]\n",
      "Epoch:  20. Train.      Loss: 0.111 | f1: 0.887: 100%|██████████| 17/17 [00:04<00:00,  4.21it/s]\n",
      "Epoch:  20. Validation. Loss: 0.130 | f1: 0.835: 100%|██████████| 9/9 [00:00<00:00, 13.89it/s]\n"
     ]
    },
    {
     "name": "stdout",
     "output_type": "stream",
     "text": [
      "fold: 2\n"
     ]
    },
    {
     "name": "stderr",
     "output_type": "stream",
     "text": [
      "Epoch:   1. Train.      Loss: 0.497 | f1: 0.484: 100%|██████████| 17/17 [00:04<00:00,  3.54it/s]\n",
      "Epoch:   1. Validation. Loss: 0.452 | f1: 0.542: 100%|██████████| 9/9 [00:01<00:00,  5.98it/s]\n",
      "Epoch:   2. Train.      Loss: 0.341 | f1: 0.637: 100%|██████████| 17/17 [00:03<00:00,  4.31it/s]\n",
      "Epoch:   2. Validation. Loss: 0.318 | f1: 0.672: 100%|██████████| 9/9 [00:00<00:00, 14.42it/s]\n",
      "Epoch:   3. Train.      Loss: 0.306 | f1: 0.664: 100%|██████████| 17/17 [00:03<00:00,  4.25it/s]\n",
      "Epoch:   3. Validation. Loss: 0.286 | f1: 0.708: 100%|██████████| 9/9 [00:00<00:00, 14.15it/s]\n",
      "Epoch:   4. Train.      Loss: 0.245 | f1: 0.734: 100%|██████████| 17/17 [00:03<00:00,  4.26it/s]\n",
      "Epoch:   4. Validation. Loss: 0.268 | f1: 0.724: 100%|██████████| 9/9 [00:00<00:00, 14.05it/s]\n",
      "Epoch:   5. Train.      Loss: 0.221 | f1: 0.757: 100%|██████████| 17/17 [00:03<00:00,  4.26it/s]\n",
      "Epoch:   5. Validation. Loss: 0.262 | f1: 0.731: 100%|██████████| 9/9 [00:00<00:00, 14.37it/s]\n",
      "Epoch:   6. Train.      Loss: 0.214 | f1: 0.757: 100%|██████████| 17/17 [00:04<00:00,  4.17it/s]\n",
      "Epoch:   6. Validation. Loss: 0.257 | f1: 0.743: 100%|██████████| 9/9 [00:00<00:00, 14.05it/s]\n",
      "Epoch:   7. Train.      Loss: 0.197 | f1: 0.780: 100%|██████████| 17/17 [00:03<00:00,  4.26it/s]\n",
      "Epoch:   7. Validation. Loss: 0.260 | f1: 0.720: 100%|██████████| 9/9 [00:00<00:00, 13.90it/s]\n",
      "Epoch:   8. Train.      Loss: 0.186 | f1: 0.795: 100%|██████████| 17/17 [00:04<00:00,  4.23it/s]\n",
      "Epoch:   8. Validation. Loss: 0.220 | f1: 0.776: 100%|██████████| 9/9 [00:00<00:00, 14.07it/s]\n",
      "Epoch:   9. Train.      Loss: 0.211 | f1: 0.762: 100%|██████████| 17/17 [00:04<00:00,  4.18it/s]\n",
      "Epoch:   9. Validation. Loss: 0.218 | f1: 0.780: 100%|██████████| 9/9 [00:00<00:00, 14.21it/s]\n",
      "Epoch:  10. Train.      Loss: 0.168 | f1: 0.795: 100%|██████████| 17/17 [00:03<00:00,  4.29it/s]\n",
      "Epoch:  10. Validation. Loss: 0.201 | f1: 0.787: 100%|██████████| 9/9 [00:00<00:00, 13.73it/s]\n",
      "Epoch:  11. Train.      Loss: 0.171 | f1: 0.790: 100%|██████████| 17/17 [00:04<00:00,  4.22it/s]\n",
      "Epoch:  11. Validation. Loss: 0.198 | f1: 0.802: 100%|██████████| 9/9 [00:00<00:00, 13.89it/s]\n",
      "Epoch:  12. Train.      Loss: 0.154 | f1: 0.831: 100%|██████████| 17/17 [00:03<00:00,  4.26it/s]\n",
      "Epoch:  12. Validation. Loss: 0.184 | f1: 0.817: 100%|██████████| 9/9 [00:00<00:00, 13.96it/s]\n",
      "Epoch:  13. Train.      Loss: 0.144 | f1: 0.826: 100%|██████████| 17/17 [00:04<00:00,  4.22it/s]\n",
      "Epoch:  13. Validation. Loss: 0.191 | f1: 0.805: 100%|██████████| 9/9 [00:00<00:00, 13.76it/s]\n",
      "Epoch:  14. Train.      Loss: 0.145 | f1: 0.819: 100%|██████████| 17/17 [00:04<00:00,  4.16it/s]\n",
      "Epoch:  14. Validation. Loss: 0.188 | f1: 0.814: 100%|██████████| 9/9 [00:00<00:00, 14.40it/s]\n",
      "Epoch:  15. Train.      Loss: 0.137 | f1: 0.838: 100%|██████████| 17/17 [00:04<00:00,  4.24it/s]\n",
      "Epoch:  15. Validation. Loss: 0.170 | f1: 0.822: 100%|██████████| 9/9 [00:00<00:00, 13.42it/s]\n",
      "Epoch:  16. Train.      Loss: 0.125 | f1: 0.847: 100%|██████████| 17/17 [00:04<00:00,  4.23it/s]\n",
      "Epoch:  16. Validation. Loss: 0.155 | f1: 0.833: 100%|██████████| 9/9 [00:00<00:00, 13.57it/s]\n",
      "Epoch:  17. Train.      Loss: 0.116 | f1: 0.859: 100%|██████████| 17/17 [00:04<00:00,  4.24it/s]\n",
      "Epoch:  17. Validation. Loss: 0.162 | f1: 0.830: 100%|██████████| 9/9 [00:00<00:00, 13.76it/s]\n",
      "Epoch:  18. Train.      Loss: 0.113 | f1: 0.851: 100%|██████████| 17/17 [00:04<00:00,  4.19it/s]\n",
      "Epoch:  18. Validation. Loss: 0.179 | f1: 0.815: 100%|██████████| 9/9 [00:00<00:00, 14.15it/s]\n",
      "Epoch:  19. Train.      Loss: 0.119 | f1: 0.851: 100%|██████████| 17/17 [00:04<00:00,  4.14it/s]\n",
      "Epoch:  19. Validation. Loss: 0.185 | f1: 0.807: 100%|██████████| 9/9 [00:00<00:00, 14.50it/s]\n",
      "Epoch:  20. Train.      Loss: 0.117 | f1: 0.853: 100%|██████████| 17/17 [00:04<00:00,  4.22it/s]\n",
      "Epoch:  20. Validation. Loss: 0.156 | f1: 0.831: 100%|██████████| 9/9 [00:00<00:00, 13.60it/s]\n"
     ]
    },
    {
     "name": "stdout",
     "output_type": "stream",
     "text": [
      "setup: [False, False, True, True]\n",
      "fold: 0\n"
     ]
    },
    {
     "name": "stderr",
     "output_type": "stream",
     "text": [
      "Epoch:   1. Train.      Loss: 0.567 | f1: 0.432: 100%|██████████| 17/17 [00:04<00:00,  3.62it/s]\n",
      "Epoch:   1. Validation. Loss: 0.606 | f1: 0.394: 100%|██████████| 9/9 [00:01<00:00,  5.85it/s]\n",
      "Epoch:   2. Train.      Loss: 0.345 | f1: 0.647: 100%|██████████| 17/17 [00:03<00:00,  4.31it/s]\n",
      "Epoch:   2. Validation. Loss: 0.336 | f1: 0.641: 100%|██████████| 9/9 [00:00<00:00, 13.64it/s]\n",
      "Epoch:   3. Train.      Loss: 0.256 | f1: 0.730: 100%|██████████| 17/17 [00:03<00:00,  4.28it/s]\n",
      "Epoch:   3. Validation. Loss: 0.322 | f1: 0.649: 100%|██████████| 9/9 [00:00<00:00, 13.92it/s]\n",
      "Epoch:   4. Train.      Loss: 0.203 | f1: 0.782: 100%|██████████| 17/17 [00:03<00:00,  4.28it/s]\n",
      "Epoch:   4. Validation. Loss: 0.282 | f1: 0.654: 100%|██████████| 9/9 [00:00<00:00, 13.32it/s]\n",
      "Epoch:   5. Train.      Loss: 0.167 | f1: 0.825: 100%|██████████| 17/17 [00:04<00:00,  4.24it/s]\n",
      "Epoch:   5. Validation. Loss: 0.217 | f1: 0.757: 100%|██████████| 9/9 [00:00<00:00, 13.32it/s]\n",
      "Epoch:   6. Train.      Loss: 0.155 | f1: 0.837: 100%|██████████| 17/17 [00:03<00:00,  4.29it/s]\n",
      "Epoch:   6. Validation. Loss: 0.210 | f1: 0.783: 100%|██████████| 9/9 [00:00<00:00, 13.50it/s]\n",
      "Epoch:   7. Train.      Loss: 0.136 | f1: 0.846: 100%|██████████| 17/17 [00:04<00:00,  4.20it/s]\n",
      "Epoch:   7. Validation. Loss: 0.176 | f1: 0.792: 100%|██████████| 9/9 [00:00<00:00, 13.78it/s]\n",
      "Epoch:   8. Train.      Loss: 0.121 | f1: 0.863: 100%|██████████| 17/17 [00:03<00:00,  4.35it/s]\n",
      "Epoch:   8. Validation. Loss: 0.183 | f1: 0.782: 100%|██████████| 9/9 [00:00<00:00, 13.01it/s]\n",
      "Epoch:   9. Train.      Loss: 0.134 | f1: 0.858: 100%|██████████| 17/17 [00:03<00:00,  4.26it/s]\n",
      "Epoch:   9. Validation. Loss: 0.225 | f1: 0.721: 100%|██████████| 9/9 [00:00<00:00, 13.48it/s]\n",
      "Epoch:  10. Train.      Loss: 0.114 | f1: 0.882: 100%|██████████| 17/17 [00:03<00:00,  4.26it/s]\n",
      "Epoch:  10. Validation. Loss: 0.226 | f1: 0.721: 100%|██████████| 9/9 [00:00<00:00, 13.47it/s]\n",
      "Epoch:  11. Train.      Loss: 0.106 | f1: 0.888: 100%|██████████| 17/17 [00:04<00:00,  4.25it/s]\n",
      "Epoch:  11. Validation. Loss: 0.189 | f1: 0.780: 100%|██████████| 9/9 [00:00<00:00, 13.41it/s]\n",
      "Epoch:  12. Train.      Loss: 0.099 | f1: 0.895: 100%|██████████| 17/17 [00:03<00:00,  4.27it/s]\n",
      "Epoch:  12. Validation. Loss: 0.252 | f1: 0.734: 100%|██████████| 9/9 [00:00<00:00, 13.52it/s]\n",
      "Epoch:  13. Train.      Loss: 0.098 | f1: 0.894: 100%|██████████| 17/17 [00:03<00:00,  4.30it/s]\n",
      "Epoch:  13. Validation. Loss: 0.195 | f1: 0.780: 100%|██████████| 9/9 [00:00<00:00, 13.36it/s]\n",
      "Epoch:  14. Train.      Loss: 0.088 | f1: 0.910: 100%|██████████| 17/17 [00:03<00:00,  4.29it/s]\n",
      "Epoch:  14. Validation. Loss: 0.154 | f1: 0.814: 100%|██████████| 9/9 [00:00<00:00, 13.47it/s]\n",
      "Epoch:  15. Train.      Loss: 0.080 | f1: 0.911: 100%|██████████| 17/17 [00:03<00:00,  4.27it/s]\n",
      "Epoch:  15. Validation. Loss: 0.180 | f1: 0.784: 100%|██████████| 9/9 [00:00<00:00, 13.38it/s]\n",
      "Epoch:  16. Train.      Loss: 0.078 | f1: 0.917: 100%|██████████| 17/17 [00:03<00:00,  4.34it/s]\n",
      "Epoch:  16. Validation. Loss: 0.181 | f1: 0.777: 100%|██████████| 9/9 [00:00<00:00, 14.02it/s]\n",
      "Epoch:  17. Train.      Loss: 0.069 | f1: 0.928: 100%|██████████| 17/17 [00:04<00:00,  4.24it/s]\n",
      "Epoch:  17. Validation. Loss: 0.170 | f1: 0.788: 100%|██████████| 9/9 [00:00<00:00, 13.30it/s]\n",
      "Epoch:  18. Train.      Loss: 0.065 | f1: 0.931: 100%|██████████| 17/17 [00:03<00:00,  4.36it/s]\n",
      "Epoch:  18. Validation. Loss: 0.154 | f1: 0.805: 100%|██████████| 9/9 [00:00<00:00, 13.68it/s]\n",
      "Epoch:  19. Train.      Loss: 0.055 | f1: 0.942: 100%|██████████| 17/17 [00:03<00:00,  4.30it/s]\n",
      "Epoch:  19. Validation. Loss: 0.152 | f1: 0.804: 100%|██████████| 9/9 [00:00<00:00, 13.38it/s]\n",
      "Epoch:  20. Train.      Loss: 0.055 | f1: 0.945: 100%|██████████| 17/17 [00:03<00:00,  4.30it/s]\n",
      "Epoch:  20. Validation. Loss: 0.162 | f1: 0.795: 100%|██████████| 9/9 [00:00<00:00, 13.89it/s]\n"
     ]
    },
    {
     "name": "stdout",
     "output_type": "stream",
     "text": [
      "fold: 1\n"
     ]
    },
    {
     "name": "stderr",
     "output_type": "stream",
     "text": [
      "Epoch:   1. Train.      Loss: 0.612 | f1: 0.383: 100%|██████████| 17/17 [00:04<00:00,  3.55it/s]\n",
      "Epoch:   1. Validation. Loss: 0.586 | f1: 0.405: 100%|██████████| 9/9 [00:01<00:00,  6.02it/s]\n",
      "Epoch:   2. Train.      Loss: 0.385 | f1: 0.606: 100%|██████████| 17/17 [00:03<00:00,  4.32it/s]\n",
      "Epoch:   2. Validation. Loss: 0.335 | f1: 0.658: 100%|██████████| 9/9 [00:00<00:00, 14.55it/s]\n",
      "Epoch:   3. Train.      Loss: 0.285 | f1: 0.705: 100%|██████████| 17/17 [00:04<00:00,  4.21it/s]\n",
      "Epoch:   3. Validation. Loss: 0.319 | f1: 0.664: 100%|██████████| 9/9 [00:00<00:00, 14.29it/s]\n",
      "Epoch:   4. Train.      Loss: 0.231 | f1: 0.753: 100%|██████████| 17/17 [00:03<00:00,  4.27it/s]\n",
      "Epoch:   4. Validation. Loss: 0.241 | f1: 0.739: 100%|██████████| 9/9 [00:00<00:00, 13.83it/s]\n",
      "Epoch:   5. Train.      Loss: 0.189 | f1: 0.797: 100%|██████████| 17/17 [00:03<00:00,  4.26it/s]\n",
      "Epoch:   5. Validation. Loss: 0.200 | f1: 0.772: 100%|██████████| 9/9 [00:00<00:00, 14.34it/s]\n",
      "Epoch:   6. Train.      Loss: 0.175 | f1: 0.811: 100%|██████████| 17/17 [00:04<00:00,  4.14it/s]\n",
      "Epoch:   6. Validation. Loss: 0.241 | f1: 0.742: 100%|██████████| 9/9 [00:00<00:00, 13.91it/s]\n",
      "Epoch:   7. Train.      Loss: 0.150 | f1: 0.838: 100%|██████████| 17/17 [00:03<00:00,  4.27it/s]\n",
      "Epoch:   7. Validation. Loss: 0.197 | f1: 0.773: 100%|██████████| 9/9 [00:00<00:00, 14.17it/s]\n",
      "Epoch:   8. Train.      Loss: 0.137 | f1: 0.855: 100%|██████████| 17/17 [00:03<00:00,  4.25it/s]\n",
      "Epoch:   8. Validation. Loss: 0.186 | f1: 0.777: 100%|██████████| 9/9 [00:00<00:00, 13.99it/s]\n",
      "Epoch:   9. Train.      Loss: 0.121 | f1: 0.871: 100%|██████████| 17/17 [00:03<00:00,  4.26it/s]\n",
      "Epoch:   9. Validation. Loss: 0.185 | f1: 0.785: 100%|██████████| 9/9 [00:00<00:00, 14.13it/s]\n",
      "Epoch:  10. Train.      Loss: 0.115 | f1: 0.880: 100%|██████████| 17/17 [00:03<00:00,  4.32it/s]\n",
      "Epoch:  10. Validation. Loss: 0.160 | f1: 0.800: 100%|██████████| 9/9 [00:00<00:00, 13.81it/s]\n",
      "Epoch:  11. Train.      Loss: 0.098 | f1: 0.896: 100%|██████████| 17/17 [00:04<00:00,  4.16it/s]\n",
      "Epoch:  11. Validation. Loss: 0.151 | f1: 0.805: 100%|██████████| 9/9 [00:00<00:00, 14.17it/s]\n",
      "Epoch:  12. Train.      Loss: 0.091 | f1: 0.907: 100%|██████████| 17/17 [00:03<00:00,  4.32it/s]\n",
      "Epoch:  12. Validation. Loss: 0.150 | f1: 0.812: 100%|██████████| 9/9 [00:00<00:00, 14.13it/s]\n",
      "Epoch:  13. Train.      Loss: 0.082 | f1: 0.904: 100%|██████████| 17/17 [00:04<00:00,  4.20it/s]\n",
      "Epoch:  13. Validation. Loss: 0.153 | f1: 0.810: 100%|██████████| 9/9 [00:00<00:00, 14.28it/s]\n",
      "Epoch:  14. Train.      Loss: 0.080 | f1: 0.919: 100%|██████████| 17/17 [00:04<00:00,  4.20it/s]\n",
      "Epoch:  14. Validation. Loss: 0.154 | f1: 0.804: 100%|██████████| 9/9 [00:00<00:00, 13.77it/s]\n",
      "Epoch:  15. Train.      Loss: 0.072 | f1: 0.924: 100%|██████████| 17/17 [00:03<00:00,  4.25it/s]\n",
      "Epoch:  15. Validation. Loss: 0.146 | f1: 0.822: 100%|██████████| 9/9 [00:00<00:00, 14.14it/s]\n",
      "Epoch:  16. Train.      Loss: 0.067 | f1: 0.933: 100%|██████████| 17/17 [00:04<00:00,  4.21it/s]\n",
      "Epoch:  16. Validation. Loss: 0.157 | f1: 0.806: 100%|██████████| 9/9 [00:00<00:00, 13.88it/s]\n",
      "Epoch:  17. Train.      Loss: 0.063 | f1: 0.935: 100%|██████████| 17/17 [00:04<00:00,  4.18it/s]\n",
      "Epoch:  17. Validation. Loss: 0.140 | f1: 0.826: 100%|██████████| 9/9 [00:00<00:00, 13.59it/s]\n",
      "Epoch:  18. Train.      Loss: 0.059 | f1: 0.928: 100%|██████████| 17/17 [00:04<00:00,  4.23it/s]\n",
      "Epoch:  18. Validation. Loss: 0.141 | f1: 0.824: 100%|██████████| 9/9 [00:00<00:00, 13.62it/s]\n",
      "Epoch:  19. Train.      Loss: 0.054 | f1: 0.945: 100%|██████████| 17/17 [00:04<00:00,  4.23it/s]\n",
      "Epoch:  19. Validation. Loss: 0.150 | f1: 0.819: 100%|██████████| 9/9 [00:00<00:00, 13.79it/s]\n",
      "Epoch:  20. Train.      Loss: 0.052 | f1: 0.947: 100%|██████████| 17/17 [00:04<00:00,  4.22it/s]\n",
      "Epoch:  20. Validation. Loss: 0.137 | f1: 0.828: 100%|██████████| 9/9 [00:00<00:00, 14.31it/s]\n"
     ]
    },
    {
     "name": "stdout",
     "output_type": "stream",
     "text": [
      "fold: 2\n"
     ]
    },
    {
     "name": "stderr",
     "output_type": "stream",
     "text": [
      "Epoch:   1. Train.      Loss: 0.520 | f1: 0.475: 100%|██████████| 17/17 [00:04<00:00,  3.59it/s]\n",
      "Epoch:   1. Validation. Loss: 0.503 | f1: 0.505: 100%|██████████| 9/9 [00:01<00:00,  6.04it/s]\n",
      "Epoch:   2. Train.      Loss: 0.319 | f1: 0.664: 100%|██████████| 17/17 [00:03<00:00,  4.29it/s]\n",
      "Epoch:   2. Validation. Loss: 0.313 | f1: 0.678: 100%|██████████| 9/9 [00:00<00:00, 14.25it/s]\n",
      "Epoch:   3. Train.      Loss: 0.249 | f1: 0.726: 100%|██████████| 17/17 [00:03<00:00,  4.36it/s]\n",
      "Epoch:   3. Validation. Loss: 0.311 | f1: 0.683: 100%|██████████| 9/9 [00:00<00:00, 13.94it/s]\n",
      "Epoch:   4. Train.      Loss: 0.196 | f1: 0.783: 100%|██████████| 17/17 [00:03<00:00,  4.27it/s]\n",
      "Epoch:   4. Validation. Loss: 0.252 | f1: 0.741: 100%|██████████| 9/9 [00:00<00:00, 14.26it/s]\n",
      "Epoch:   5. Train.      Loss: 0.159 | f1: 0.820: 100%|██████████| 17/17 [00:04<00:00,  4.23it/s]\n",
      "Epoch:   5. Validation. Loss: 0.233 | f1: 0.770: 100%|██████████| 9/9 [00:00<00:00, 13.90it/s]\n",
      "Epoch:   6. Train.      Loss: 0.133 | f1: 0.847: 100%|██████████| 17/17 [00:04<00:00,  4.17it/s]\n",
      "Epoch:   6. Validation. Loss: 0.233 | f1: 0.758: 100%|██████████| 9/9 [00:00<00:00, 13.41it/s]\n",
      "Epoch:   7. Train.      Loss: 0.112 | f1: 0.865: 100%|██████████| 17/17 [00:04<00:00,  4.22it/s]\n",
      "Epoch:   7. Validation. Loss: 0.199 | f1: 0.790: 100%|██████████| 9/9 [00:00<00:00, 13.97it/s]\n",
      "Epoch:   8. Train.      Loss: 0.118 | f1: 0.865: 100%|██████████| 17/17 [00:04<00:00,  4.22it/s]\n",
      "Epoch:   8. Validation. Loss: 0.234 | f1: 0.777: 100%|██████████| 9/9 [00:00<00:00, 13.87it/s]\n",
      "Epoch:   9. Train.      Loss: 0.110 | f1: 0.862: 100%|██████████| 17/17 [00:04<00:00,  4.19it/s]\n",
      "Epoch:   9. Validation. Loss: 0.249 | f1: 0.750: 100%|██████████| 9/9 [00:00<00:00, 14.02it/s]\n",
      "Epoch:  10. Train.      Loss: 0.099 | f1: 0.887: 100%|██████████| 17/17 [00:03<00:00,  4.25it/s]\n",
      "Epoch:  10. Validation. Loss: 0.194 | f1: 0.796: 100%|██████████| 9/9 [00:00<00:00, 14.09it/s]\n",
      "Epoch:  11. Train.      Loss: 0.090 | f1: 0.894: 100%|██████████| 17/17 [00:03<00:00,  4.28it/s]\n",
      "Epoch:  11. Validation. Loss: 0.188 | f1: 0.810: 100%|██████████| 9/9 [00:00<00:00, 14.03it/s]\n",
      "Epoch:  12. Train.      Loss: 0.089 | f1: 0.883: 100%|██████████| 17/17 [00:04<00:00,  4.25it/s]\n",
      "Epoch:  12. Validation. Loss: 0.169 | f1: 0.822: 100%|██████████| 9/9 [00:00<00:00, 14.32it/s]\n",
      "Epoch:  13. Train.      Loss: 0.072 | f1: 0.910: 100%|██████████| 17/17 [00:03<00:00,  4.31it/s]\n",
      "Epoch:  13. Validation. Loss: 0.166 | f1: 0.824: 100%|██████████| 9/9 [00:00<00:00, 13.71it/s]\n",
      "Epoch:  14. Train.      Loss: 0.068 | f1: 0.919: 100%|██████████| 17/17 [00:04<00:00,  4.19it/s]\n",
      "Epoch:  14. Validation. Loss: 0.214 | f1: 0.775: 100%|██████████| 9/9 [00:00<00:00, 14.47it/s]\n",
      "Epoch:  15. Train.      Loss: 0.061 | f1: 0.922: 100%|██████████| 17/17 [00:04<00:00,  4.25it/s]\n",
      "Epoch:  15. Validation. Loss: 0.198 | f1: 0.796: 100%|██████████| 9/9 [00:00<00:00, 14.82it/s]\n",
      "Epoch:  16. Train.      Loss: 0.061 | f1: 0.921: 100%|██████████| 17/17 [00:04<00:00,  4.23it/s]\n",
      "Epoch:  16. Validation. Loss: 0.179 | f1: 0.816: 100%|██████████| 9/9 [00:00<00:00, 13.93it/s]\n",
      "Epoch:  17. Train.      Loss: 0.058 | f1: 0.925: 100%|██████████| 17/17 [00:03<00:00,  4.28it/s]\n",
      "Epoch:  17. Validation. Loss: 0.164 | f1: 0.829: 100%|██████████| 9/9 [00:00<00:00, 14.09it/s]\n",
      "Epoch:  18. Train.      Loss: 0.054 | f1: 0.935: 100%|██████████| 17/17 [00:04<00:00,  4.17it/s]\n",
      "Epoch:  18. Validation. Loss: 0.177 | f1: 0.817: 100%|██████████| 9/9 [00:00<00:00, 13.73it/s]\n",
      "Epoch:  19. Train.      Loss: 0.049 | f1: 0.941: 100%|██████████| 17/17 [00:04<00:00,  4.25it/s]\n",
      "Epoch:  19. Validation. Loss: 0.167 | f1: 0.824: 100%|██████████| 9/9 [00:00<00:00, 14.12it/s]\n",
      "Epoch:  20. Train.      Loss: 0.049 | f1: 0.944: 100%|██████████| 17/17 [00:04<00:00,  4.24it/s]\n",
      "Epoch:  20. Validation. Loss: 0.164 | f1: 0.827: 100%|██████████| 9/9 [00:00<00:00, 13.97it/s]\n"
     ]
    },
    {
     "name": "stdout",
     "output_type": "stream",
     "text": [
      "setup: [True, False, False, True]\n",
      "fold: 0\n"
     ]
    },
    {
     "name": "stderr",
     "output_type": "stream",
     "text": [
      "Epoch:   1. Train.      Loss: 0.478 | f1: 0.517: 100%|██████████| 17/17 [00:04<00:00,  3.56it/s]\n",
      "Epoch:   1. Validation. Loss: 0.438 | f1: 0.537: 100%|██████████| 9/9 [00:01<00:00,  5.90it/s]\n",
      "Epoch:   2. Train.      Loss: 0.326 | f1: 0.658: 100%|██████████| 17/17 [00:03<00:00,  4.36it/s]\n",
      "Epoch:   2. Validation. Loss: 0.440 | f1: 0.536: 100%|██████████| 9/9 [00:00<00:00, 13.81it/s]\n",
      "Epoch:   3. Train.      Loss: 0.280 | f1: 0.703: 100%|██████████| 17/17 [00:03<00:00,  4.41it/s]\n",
      "Epoch:   3. Validation. Loss: 0.254 | f1: 0.722: 100%|██████████| 9/9 [00:00<00:00, 13.95it/s]\n",
      "Epoch:   4. Train.      Loss: 0.237 | f1: 0.739: 100%|██████████| 17/17 [00:03<00:00,  4.30it/s]\n",
      "Epoch:   4. Validation. Loss: 0.250 | f1: 0.715: 100%|██████████| 9/9 [00:00<00:00, 13.63it/s]\n",
      "Epoch:   5. Train.      Loss: 0.235 | f1: 0.757: 100%|██████████| 17/17 [00:03<00:00,  4.34it/s]\n",
      "Epoch:   5. Validation. Loss: 0.274 | f1: 0.653: 100%|██████████| 9/9 [00:00<00:00, 13.37it/s]\n",
      "Epoch:   6. Train.      Loss: 0.190 | f1: 0.796: 100%|██████████| 17/17 [00:03<00:00,  4.34it/s]\n",
      "Epoch:   6. Validation. Loss: 0.248 | f1: 0.716: 100%|██████████| 9/9 [00:00<00:00, 14.03it/s]\n",
      "Epoch:   7. Train.      Loss: 0.181 | f1: 0.807: 100%|██████████| 17/17 [00:03<00:00,  4.29it/s]\n",
      "Epoch:   7. Validation. Loss: 0.219 | f1: 0.741: 100%|██████████| 9/9 [00:00<00:00, 13.32it/s]\n",
      "Epoch:   8. Train.      Loss: 0.166 | f1: 0.825: 100%|██████████| 17/17 [00:03<00:00,  4.34it/s]\n",
      "Epoch:   8. Validation. Loss: 0.240 | f1: 0.747: 100%|██████████| 9/9 [00:00<00:00, 13.24it/s]\n",
      "Epoch:   9. Train.      Loss: 0.163 | f1: 0.829: 100%|██████████| 17/17 [00:03<00:00,  4.29it/s]\n",
      "Epoch:   9. Validation. Loss: 0.200 | f1: 0.761: 100%|██████████| 9/9 [00:00<00:00, 13.42it/s]\n",
      "Epoch:  10. Train.      Loss: 0.144 | f1: 0.847: 100%|██████████| 17/17 [00:04<00:00,  4.20it/s]\n",
      "Epoch:  10. Validation. Loss: 0.215 | f1: 0.739: 100%|██████████| 9/9 [00:00<00:00, 12.98it/s]\n",
      "Epoch:  11. Train.      Loss: 0.136 | f1: 0.860: 100%|██████████| 17/17 [00:03<00:00,  4.28it/s]\n",
      "Epoch:  11. Validation. Loss: 0.181 | f1: 0.773: 100%|██████████| 9/9 [00:00<00:00, 13.20it/s]\n",
      "Epoch:  12. Train.      Loss: 0.138 | f1: 0.851: 100%|██████████| 17/17 [00:04<00:00,  4.25it/s]\n",
      "Epoch:  12. Validation. Loss: 0.177 | f1: 0.787: 100%|██████████| 9/9 [00:00<00:00, 13.25it/s]\n",
      "Epoch:  13. Train.      Loss: 0.128 | f1: 0.864: 100%|██████████| 17/17 [00:04<00:00,  4.14it/s]\n",
      "Epoch:  13. Validation. Loss: 0.166 | f1: 0.801: 100%|██████████| 9/9 [00:00<00:00, 13.16it/s]\n",
      "Epoch:  14. Train.      Loss: 0.127 | f1: 0.868: 100%|██████████| 17/17 [00:04<00:00,  4.24it/s]\n",
      "Epoch:  14. Validation. Loss: 0.181 | f1: 0.741: 100%|██████████| 9/9 [00:00<00:00, 12.52it/s]\n",
      "Epoch:  15. Train.      Loss: 0.130 | f1: 0.864: 100%|██████████| 17/17 [00:04<00:00,  4.19it/s]\n",
      "Epoch:  15. Validation. Loss: 0.202 | f1: 0.747: 100%|██████████| 9/9 [00:00<00:00, 13.10it/s]\n",
      "Epoch:  16. Train.      Loss: 0.126 | f1: 0.872: 100%|██████████| 17/17 [00:04<00:00,  4.20it/s]\n",
      "Epoch:  16. Validation. Loss: 0.207 | f1: 0.770: 100%|██████████| 9/9 [00:00<00:00, 13.59it/s]\n",
      "Epoch:  17. Train.      Loss: 0.110 | f1: 0.886: 100%|██████████| 17/17 [00:04<00:00,  4.24it/s]\n",
      "Epoch:  17. Validation. Loss: 0.177 | f1: 0.779: 100%|██████████| 9/9 [00:00<00:00, 13.43it/s]\n",
      "Epoch:  18. Train.      Loss: 0.101 | f1: 0.897: 100%|██████████| 17/17 [00:04<00:00,  4.14it/s]\n",
      "Epoch:  18. Validation. Loss: 0.157 | f1: 0.798: 100%|██████████| 9/9 [00:00<00:00, 13.02it/s]\n",
      "Epoch:  19. Train.      Loss: 0.098 | f1: 0.898: 100%|██████████| 17/17 [00:03<00:00,  4.32it/s]\n",
      "Epoch:  19. Validation. Loss: 0.164 | f1: 0.788: 100%|██████████| 9/9 [00:00<00:00, 13.28it/s]\n",
      "Epoch:  20. Train.      Loss: 0.094 | f1: 0.903: 100%|██████████| 17/17 [00:04<00:00,  4.24it/s]\n",
      "Epoch:  20. Validation. Loss: 0.141 | f1: 0.791: 100%|██████████| 9/9 [00:00<00:00, 13.63it/s]\n"
     ]
    },
    {
     "name": "stdout",
     "output_type": "stream",
     "text": [
      "fold: 1\n"
     ]
    },
    {
     "name": "stderr",
     "output_type": "stream",
     "text": [
      "Epoch:   1. Train.      Loss: 0.666 | f1: 0.328: 100%|██████████| 17/17 [00:04<00:00,  3.50it/s]\n",
      "Epoch:   1. Validation. Loss: 0.680 | f1: 0.317: 100%|██████████| 9/9 [00:01<00:00,  5.25it/s]\n",
      "Epoch:   2. Train.      Loss: 0.659 | f1: 0.336: 100%|██████████| 17/17 [00:04<00:00,  4.11it/s]\n",
      "Epoch:   2. Validation. Loss: 0.696 | f1: 0.300: 100%|██████████| 9/9 [00:00<00:00, 13.26it/s]\n",
      "Epoch:   3. Train.      Loss: 0.661 | f1: 0.334: 100%|██████████| 17/17 [00:04<00:00,  4.13it/s]\n",
      "Epoch:   3. Validation. Loss: 0.682 | f1: 0.314: 100%|██████████| 9/9 [00:00<00:00, 13.27it/s]\n",
      "Epoch:   4. Train.      Loss: 0.659 | f1: 0.336: 100%|██████████| 17/17 [00:04<00:00,  4.07it/s]\n",
      "Epoch:   4. Validation. Loss: 0.683 | f1: 0.313: 100%|██████████| 9/9 [00:00<00:00, 13.01it/s]\n",
      "Epoch:   5. Train.      Loss: 0.658 | f1: 0.336: 100%|██████████| 17/17 [00:04<00:00,  4.02it/s]\n",
      "Epoch:   5. Validation. Loss: 0.684 | f1: 0.313: 100%|██████████| 9/9 [00:00<00:00, 13.22it/s]\n",
      "Epoch:   6. Train.      Loss: 0.659 | f1: 0.337: 100%|██████████| 17/17 [00:04<00:00,  4.00it/s]\n",
      "Epoch:   6. Validation. Loss: 0.675 | f1: 0.321: 100%|██████████| 9/9 [00:00<00:00, 13.75it/s]\n",
      "Epoch:   7. Train.      Loss: 0.659 | f1: 0.336: 100%|██████████| 17/17 [00:04<00:00,  3.99it/s]\n",
      "Epoch:   7. Validation. Loss: 0.675 | f1: 0.322: 100%|██████████| 9/9 [00:00<00:00, 13.08it/s]\n",
      "Epoch:   8. Train.      Loss: 0.660 | f1: 0.336: 100%|██████████| 17/17 [00:04<00:00,  3.93it/s]\n",
      "Epoch:   8. Validation. Loss: 0.679 | f1: 0.317: 100%|██████████| 9/9 [00:00<00:00, 12.98it/s]\n",
      "Epoch:   9. Train.      Loss: 0.659 | f1: 0.336: 100%|██████████| 17/17 [00:04<00:00,  4.07it/s]\n",
      "Epoch:   9. Validation. Loss: 0.690 | f1: 0.306: 100%|██████████| 9/9 [00:00<00:00, 13.43it/s]\n",
      "Epoch:  10. Train.      Loss: 0.658 | f1: 0.337: 100%|██████████| 17/17 [00:04<00:00,  3.97it/s]\n",
      "Epoch:  10. Validation. Loss: 0.677 | f1: 0.319: 100%|██████████| 9/9 [00:00<00:00, 12.64it/s]\n",
      "Epoch:  11. Train.      Loss: 0.659 | f1: 0.337: 100%|██████████| 17/17 [00:04<00:00,  4.01it/s]\n",
      "Epoch:  11. Validation. Loss: 0.672 | f1: 0.324: 100%|██████████| 9/9 [00:00<00:00, 13.12it/s]\n",
      "Epoch:  12. Train.      Loss: 0.659 | f1: 0.337: 100%|██████████| 17/17 [00:04<00:00,  4.04it/s]\n",
      "Epoch:  12. Validation. Loss: 0.682 | f1: 0.314: 100%|██████████| 9/9 [00:00<00:00, 13.37it/s]\n",
      "Epoch:  13. Train.      Loss: 0.660 | f1: 0.336: 100%|██████████| 17/17 [00:04<00:00,  4.00it/s]\n",
      "Epoch:  13. Validation. Loss: 0.677 | f1: 0.319: 100%|██████████| 9/9 [00:00<00:00, 13.18it/s]\n",
      "Epoch:  14. Train.      Loss: 0.586 | f1: 0.411: 100%|██████████| 17/17 [00:04<00:00,  4.08it/s]\n",
      "Epoch:  14. Validation. Loss: 0.618 | f1: 0.349: 100%|██████████| 9/9 [00:00<00:00, 13.20it/s]\n",
      "Epoch:  15. Train.      Loss: 0.386 | f1: 0.600: 100%|██████████| 17/17 [00:04<00:00,  4.06it/s]\n",
      "Epoch:  15. Validation. Loss: 0.416 | f1: 0.572: 100%|██████████| 9/9 [00:00<00:00, 13.84it/s]\n",
      "Epoch:  16. Train.      Loss: 0.321 | f1: 0.674: 100%|██████████| 17/17 [00:04<00:00,  4.02it/s]\n",
      "Epoch:  16. Validation. Loss: 0.260 | f1: 0.711: 100%|██████████| 9/9 [00:00<00:00, 13.20it/s]\n",
      "Epoch:  17. Train.      Loss: 0.266 | f1: 0.722: 100%|██████████| 17/17 [00:04<00:00,  4.09it/s]\n",
      "Epoch:  17. Validation. Loss: 0.248 | f1: 0.720: 100%|██████████| 9/9 [00:00<00:00, 13.69it/s]\n",
      "Epoch:  18. Train.      Loss: 0.214 | f1: 0.774: 100%|██████████| 17/17 [00:04<00:00,  4.06it/s]\n",
      "Epoch:  18. Validation. Loss: 0.284 | f1: 0.705: 100%|██████████| 9/9 [00:00<00:00, 13.51it/s]\n",
      "Epoch:  19. Train.      Loss: 0.194 | f1: 0.788: 100%|██████████| 17/17 [00:04<00:00,  3.96it/s]\n",
      "Epoch:  19. Validation. Loss: 0.231 | f1: 0.746: 100%|██████████| 9/9 [00:00<00:00, 13.16it/s]\n",
      "Epoch:  20. Train.      Loss: 0.174 | f1: 0.812: 100%|██████████| 17/17 [00:04<00:00,  4.07it/s]\n",
      "Epoch:  20. Validation. Loss: 0.176 | f1: 0.801: 100%|██████████| 9/9 [00:00<00:00, 13.57it/s]\n"
     ]
    },
    {
     "name": "stdout",
     "output_type": "stream",
     "text": [
      "fold: 2\n"
     ]
    },
    {
     "name": "stderr",
     "output_type": "stream",
     "text": [
      "Epoch:   1. Train.      Loss: 0.480 | f1: 0.505: 100%|██████████| 17/17 [00:04<00:00,  3.44it/s]\n",
      "Epoch:   1. Validation. Loss: 0.470 | f1: 0.525: 100%|██████████| 9/9 [00:01<00:00,  5.84it/s]\n",
      "Epoch:   2. Train.      Loss: 0.325 | f1: 0.650: 100%|██████████| 17/17 [00:04<00:00,  4.15it/s]\n",
      "Epoch:   2. Validation. Loss: 0.363 | f1: 0.632: 100%|██████████| 9/9 [00:00<00:00, 13.59it/s]\n",
      "Epoch:   3. Train.      Loss: 0.258 | f1: 0.722: 100%|██████████| 17/17 [00:04<00:00,  4.05it/s]\n",
      "Epoch:   3. Validation. Loss: 0.317 | f1: 0.683: 100%|██████████| 9/9 [00:00<00:00, 13.52it/s]\n",
      "Epoch:   4. Train.      Loss: 0.223 | f1: 0.743: 100%|██████████| 17/17 [00:04<00:00,  4.17it/s]\n",
      "Epoch:   4. Validation. Loss: 0.423 | f1: 0.553: 100%|██████████| 9/9 [00:00<00:00, 13.60it/s]\n",
      "Epoch:   5. Train.      Loss: 0.209 | f1: 0.767: 100%|██████████| 17/17 [00:04<00:00,  4.13it/s]\n",
      "Epoch:   5. Validation. Loss: 0.235 | f1: 0.764: 100%|██████████| 9/9 [00:00<00:00, 13.57it/s]\n",
      "Epoch:   6. Train.      Loss: 0.175 | f1: 0.785: 100%|██████████| 17/17 [00:04<00:00,  4.08it/s]\n",
      "Epoch:   6. Validation. Loss: 0.209 | f1: 0.783: 100%|██████████| 9/9 [00:00<00:00, 13.72it/s]\n",
      "Epoch:   7. Train.      Loss: 0.177 | f1: 0.801: 100%|██████████| 17/17 [00:04<00:00,  4.04it/s]\n",
      "Epoch:   7. Validation. Loss: 0.237 | f1: 0.750: 100%|██████████| 9/9 [00:00<00:00, 13.46it/s]\n",
      "Epoch:   8. Train.      Loss: 0.179 | f1: 0.789: 100%|██████████| 17/17 [00:04<00:00,  4.09it/s]\n",
      "Epoch:   8. Validation. Loss: 0.237 | f1: 0.739: 100%|██████████| 9/9 [00:00<00:00, 13.23it/s]\n",
      "Epoch:   9. Train.      Loss: 0.160 | f1: 0.809: 100%|██████████| 17/17 [00:04<00:00,  4.11it/s]\n",
      "Epoch:   9. Validation. Loss: 0.213 | f1: 0.776: 100%|██████████| 9/9 [00:00<00:00, 13.43it/s]\n",
      "Epoch:  10. Train.      Loss: 0.146 | f1: 0.816: 100%|██████████| 17/17 [00:04<00:00,  4.01it/s]\n",
      "Epoch:  10. Validation. Loss: 0.202 | f1: 0.791: 100%|██████████| 9/9 [00:00<00:00, 13.54it/s]\n",
      "Epoch:  11. Train.      Loss: 0.148 | f1: 0.820: 100%|██████████| 17/17 [00:04<00:00,  4.05it/s]\n",
      "Epoch:  11. Validation. Loss: 0.194 | f1: 0.808: 100%|██████████| 9/9 [00:00<00:00, 13.37it/s]\n",
      "Epoch:  12. Train.      Loss: 0.134 | f1: 0.834: 100%|██████████| 17/17 [00:04<00:00,  4.02it/s]\n",
      "Epoch:  12. Validation. Loss: 0.194 | f1: 0.792: 100%|██████████| 9/9 [00:00<00:00, 12.99it/s]\n",
      "Epoch:  13. Train.      Loss: 0.121 | f1: 0.846: 100%|██████████| 17/17 [00:04<00:00,  4.09it/s]\n",
      "Epoch:  13. Validation. Loss: 0.168 | f1: 0.825: 100%|██████████| 9/9 [00:00<00:00, 13.48it/s]\n",
      "Epoch:  14. Train.      Loss: 0.108 | f1: 0.862: 100%|██████████| 17/17 [00:04<00:00,  4.02it/s]\n",
      "Epoch:  14. Validation. Loss: 0.170 | f1: 0.822: 100%|██████████| 9/9 [00:00<00:00, 13.52it/s]\n",
      "Epoch:  15. Train.      Loss: 0.105 | f1: 0.860: 100%|██████████| 17/17 [00:04<00:00,  4.02it/s]\n",
      "Epoch:  15. Validation. Loss: 0.180 | f1: 0.820: 100%|██████████| 9/9 [00:00<00:00, 13.34it/s]\n",
      "Epoch:  16. Train.      Loss: 0.100 | f1: 0.876: 100%|██████████| 17/17 [00:04<00:00,  4.04it/s]\n",
      "Epoch:  16. Validation. Loss: 0.179 | f1: 0.813: 100%|██████████| 9/9 [00:00<00:00, 12.97it/s]\n",
      "Epoch:  17. Train.      Loss: 0.094 | f1: 0.880: 100%|██████████| 17/17 [00:04<00:00,  4.01it/s]\n",
      "Epoch:  17. Validation. Loss: 0.175 | f1: 0.813: 100%|██████████| 9/9 [00:00<00:00, 13.13it/s]\n",
      "Epoch:  18. Train.      Loss: 0.091 | f1: 0.886: 100%|██████████| 17/17 [00:04<00:00,  4.06it/s]\n",
      "Epoch:  18. Validation. Loss: 0.165 | f1: 0.828: 100%|██████████| 9/9 [00:00<00:00, 13.16it/s]\n",
      "Epoch:  19. Train.      Loss: 0.088 | f1: 0.900: 100%|██████████| 17/17 [00:04<00:00,  4.09it/s]\n",
      "Epoch:  19. Validation. Loss: 0.175 | f1: 0.824: 100%|██████████| 9/9 [00:00<00:00, 12.88it/s]\n",
      "Epoch:  20. Train.      Loss: 0.084 | f1: 0.892: 100%|██████████| 17/17 [00:04<00:00,  4.06it/s]\n",
      "Epoch:  20. Validation. Loss: 0.163 | f1: 0.831: 100%|██████████| 9/9 [00:00<00:00, 13.37it/s]\n"
     ]
    },
    {
     "name": "stdout",
     "output_type": "stream",
     "text": [
      "setup: [False, True, False, True]\n",
      "fold: 0\n"
     ]
    },
    {
     "name": "stderr",
     "output_type": "stream",
     "text": [
      "Epoch:   1. Train.      Loss: 0.463 | f1: 0.528: 100%|██████████| 17/17 [00:04<00:00,  3.43it/s]\n",
      "Epoch:   1. Validation. Loss: 0.561 | f1: 0.427: 100%|██████████| 9/9 [00:01<00:00,  5.73it/s]\n",
      "Epoch:   2. Train.      Loss: 0.316 | f1: 0.672: 100%|██████████| 17/17 [00:04<00:00,  4.14it/s]\n",
      "Epoch:   2. Validation. Loss: 0.381 | f1: 0.600: 100%|██████████| 9/9 [00:00<00:00, 12.98it/s]\n",
      "Epoch:   3. Train.      Loss: 0.265 | f1: 0.719: 100%|██████████| 17/17 [00:04<00:00,  4.19it/s]\n",
      "Epoch:   3. Validation. Loss: 0.283 | f1: 0.671: 100%|██████████| 9/9 [00:00<00:00, 12.96it/s]\n",
      "Epoch:   4. Train.      Loss: 0.242 | f1: 0.737: 100%|██████████| 17/17 [00:04<00:00,  4.13it/s]\n",
      "Epoch:   4. Validation. Loss: 0.246 | f1: 0.730: 100%|██████████| 9/9 [00:00<00:00, 12.96it/s]\n",
      "Epoch:   5. Train.      Loss: 0.220 | f1: 0.761: 100%|██████████| 17/17 [00:04<00:00,  4.14it/s]\n",
      "Epoch:   5. Validation. Loss: 0.256 | f1: 0.701: 100%|██████████| 9/9 [00:00<00:00, 13.18it/s]\n",
      "Epoch:   6. Train.      Loss: 0.221 | f1: 0.769: 100%|██████████| 17/17 [00:04<00:00,  4.11it/s]\n",
      "Epoch:   6. Validation. Loss: 0.316 | f1: 0.650: 100%|██████████| 9/9 [00:00<00:00, 12.78it/s]\n",
      "Epoch:   7. Train.      Loss: 0.184 | f1: 0.793: 100%|██████████| 17/17 [00:04<00:00,  4.15it/s]\n",
      "Epoch:   7. Validation. Loss: 0.218 | f1: 0.768: 100%|██████████| 9/9 [00:00<00:00, 13.10it/s]\n",
      "Epoch:   8. Train.      Loss: 0.182 | f1: 0.802: 100%|██████████| 17/17 [00:04<00:00,  4.13it/s]\n",
      "Epoch:   8. Validation. Loss: 0.175 | f1: 0.789: 100%|██████████| 9/9 [00:00<00:00, 13.33it/s]\n",
      "Epoch:   9. Train.      Loss: 0.183 | f1: 0.803: 100%|██████████| 17/17 [00:04<00:00,  4.06it/s]\n",
      "Epoch:   9. Validation. Loss: 0.187 | f1: 0.770: 100%|██████████| 9/9 [00:00<00:00, 12.90it/s]\n",
      "Epoch:  10. Train.      Loss: 0.166 | f1: 0.819: 100%|██████████| 17/17 [00:04<00:00,  4.11it/s]\n",
      "Epoch:  10. Validation. Loss: 0.222 | f1: 0.733: 100%|██████████| 9/9 [00:00<00:00, 12.83it/s]\n",
      "Epoch:  11. Train.      Loss: 0.161 | f1: 0.824: 100%|██████████| 17/17 [00:04<00:00,  4.07it/s]\n",
      "Epoch:  11. Validation. Loss: 0.186 | f1: 0.762: 100%|██████████| 9/9 [00:00<00:00, 13.37it/s]\n",
      "Epoch:  12. Train.      Loss: 0.149 | f1: 0.837: 100%|██████████| 17/17 [00:04<00:00,  4.05it/s]\n",
      "Epoch:  12. Validation. Loss: 0.140 | f1: 0.817: 100%|██████████| 9/9 [00:00<00:00, 12.85it/s]\n",
      "Epoch:  13. Train.      Loss: 0.142 | f1: 0.849: 100%|██████████| 17/17 [00:04<00:00,  4.11it/s]\n",
      "Epoch:  13. Validation. Loss: 0.175 | f1: 0.789: 100%|██████████| 9/9 [00:00<00:00, 12.95it/s]\n",
      "Epoch:  14. Train.      Loss: 0.134 | f1: 0.856: 100%|██████████| 17/17 [00:04<00:00,  4.09it/s]\n",
      "Epoch:  14. Validation. Loss: 0.144 | f1: 0.809: 100%|██████████| 9/9 [00:00<00:00, 12.77it/s]\n",
      "Epoch:  15. Train.      Loss: 0.127 | f1: 0.855: 100%|██████████| 17/17 [00:04<00:00,  4.05it/s]\n",
      "Epoch:  15. Validation. Loss: 0.148 | f1: 0.799: 100%|██████████| 9/9 [00:00<00:00, 12.82it/s]\n",
      "Epoch:  16. Train.      Loss: 0.139 | f1: 0.845: 100%|██████████| 17/17 [00:04<00:00,  4.04it/s]\n",
      "Epoch:  16. Validation. Loss: 0.132 | f1: 0.811: 100%|██████████| 9/9 [00:00<00:00, 12.94it/s]\n",
      "Epoch:  17. Train.      Loss: 0.125 | f1: 0.862: 100%|██████████| 17/17 [00:04<00:00,  4.07it/s]\n",
      "Epoch:  17. Validation. Loss: 0.136 | f1: 0.817: 100%|██████████| 9/9 [00:00<00:00, 13.02it/s]\n",
      "Epoch:  18. Train.      Loss: 0.114 | f1: 0.871: 100%|██████████| 17/17 [00:04<00:00,  4.07it/s]\n",
      "Epoch:  18. Validation. Loss: 0.192 | f1: 0.782: 100%|██████████| 9/9 [00:00<00:00, 12.93it/s]\n",
      "Epoch:  19. Train.      Loss: 0.117 | f1: 0.876: 100%|██████████| 17/17 [00:04<00:00,  4.09it/s]\n",
      "Epoch:  19. Validation. Loss: 0.139 | f1: 0.811: 100%|██████████| 9/9 [00:00<00:00, 12.74it/s]\n",
      "Epoch:  20. Train.      Loss: 0.114 | f1: 0.877: 100%|██████████| 17/17 [00:04<00:00,  4.04it/s]\n",
      "Epoch:  20. Validation. Loss: 0.148 | f1: 0.802: 100%|██████████| 9/9 [00:00<00:00, 12.85it/s]\n"
     ]
    },
    {
     "name": "stdout",
     "output_type": "stream",
     "text": [
      "fold: 1\n"
     ]
    },
    {
     "name": "stderr",
     "output_type": "stream",
     "text": [
      "Epoch:   1. Train.      Loss: 0.678 | f1: 0.311: 100%|██████████| 17/17 [00:04<00:00,  3.42it/s]\n",
      "Epoch:   1. Validation. Loss: 0.667 | f1: 0.328: 100%|██████████| 9/9 [00:01<00:00,  5.76it/s]\n",
      "Epoch:   2. Train.      Loss: 0.529 | f1: 0.463: 100%|██████████| 17/17 [00:04<00:00,  4.18it/s]\n",
      "Epoch:   2. Validation. Loss: 0.561 | f1: 0.431: 100%|██████████| 9/9 [00:00<00:00, 13.40it/s]\n",
      "Epoch:   3. Train.      Loss: 0.380 | f1: 0.601: 100%|██████████| 17/17 [00:04<00:00,  4.02it/s]\n",
      "Epoch:   3. Validation. Loss: 0.384 | f1: 0.600: 100%|██████████| 9/9 [00:00<00:00, 13.60it/s]\n",
      "Epoch:   4. Train.      Loss: 0.309 | f1: 0.673: 100%|██████████| 17/17 [00:04<00:00,  4.03it/s]\n",
      "Epoch:   4. Validation. Loss: 0.295 | f1: 0.685: 100%|██████████| 9/9 [00:00<00:00, 13.06it/s]\n",
      "Epoch:   5. Train.      Loss: 0.287 | f1: 0.698: 100%|██████████| 17/17 [00:04<00:00,  4.04it/s]\n",
      "Epoch:   5. Validation. Loss: 0.257 | f1: 0.715: 100%|██████████| 9/9 [00:00<00:00, 13.23it/s]\n",
      "Epoch:   6. Train.      Loss: 0.245 | f1: 0.732: 100%|██████████| 17/17 [00:04<00:00,  3.95it/s]\n",
      "Epoch:   6. Validation. Loss: 0.241 | f1: 0.744: 100%|██████████| 9/9 [00:00<00:00, 13.65it/s]\n",
      "Epoch:   7. Train.      Loss: 0.217 | f1: 0.756: 100%|██████████| 17/17 [00:04<00:00,  3.99it/s]\n",
      "Epoch:   7. Validation. Loss: 0.239 | f1: 0.739: 100%|██████████| 9/9 [00:00<00:00, 13.06it/s]\n",
      "Epoch:   8. Train.      Loss: 0.222 | f1: 0.758: 100%|██████████| 17/17 [00:04<00:00,  4.09it/s]\n",
      "Epoch:   8. Validation. Loss: 0.201 | f1: 0.776: 100%|██████████| 9/9 [00:00<00:00, 13.18it/s]\n",
      "Epoch:   9. Train.      Loss: 0.212 | f1: 0.759: 100%|██████████| 17/17 [00:04<00:00,  4.02it/s]\n",
      "Epoch:   9. Validation. Loss: 0.184 | f1: 0.780: 100%|██████████| 9/9 [00:00<00:00, 13.34it/s]\n",
      "Epoch:  10. Train.      Loss: 0.203 | f1: 0.781: 100%|██████████| 17/17 [00:04<00:00,  3.99it/s]\n",
      "Epoch:  10. Validation. Loss: 0.212 | f1: 0.762: 100%|██████████| 9/9 [00:00<00:00, 13.25it/s]\n",
      "Epoch:  11. Train.      Loss: 0.191 | f1: 0.795: 100%|██████████| 17/17 [00:04<00:00,  4.00it/s]\n",
      "Epoch:  11. Validation. Loss: 0.196 | f1: 0.776: 100%|██████████| 9/9 [00:00<00:00, 13.46it/s]\n",
      "Epoch:  12. Train.      Loss: 0.198 | f1: 0.779: 100%|██████████| 17/17 [00:04<00:00,  3.93it/s]\n",
      "Epoch:  12. Validation. Loss: 0.232 | f1: 0.750: 100%|██████████| 9/9 [00:00<00:00, 13.03it/s]\n",
      "Epoch:  13. Train.      Loss: 0.191 | f1: 0.785: 100%|██████████| 17/17 [00:04<00:00,  4.02it/s]\n",
      "Epoch:  13. Validation. Loss: 0.176 | f1: 0.796: 100%|██████████| 9/9 [00:00<00:00, 13.30it/s]\n",
      "Epoch:  14. Train.      Loss: 0.170 | f1: 0.807: 100%|██████████| 17/17 [00:04<00:00,  3.99it/s]\n",
      "Epoch:  14. Validation. Loss: 0.166 | f1: 0.805: 100%|██████████| 9/9 [00:00<00:00, 13.06it/s]\n",
      "Epoch:  15. Train.      Loss: 0.162 | f1: 0.815: 100%|██████████| 17/17 [00:04<00:00,  4.01it/s]\n",
      "Epoch:  15. Validation. Loss: 0.162 | f1: 0.810: 100%|██████████| 9/9 [00:00<00:00, 12.93it/s]\n",
      "Epoch:  16. Train.      Loss: 0.152 | f1: 0.838: 100%|██████████| 17/17 [00:04<00:00,  3.98it/s]\n",
      "Epoch:  16. Validation. Loss: 0.156 | f1: 0.802: 100%|██████████| 9/9 [00:00<00:00, 13.35it/s]\n",
      "Epoch:  17. Train.      Loss: 0.156 | f1: 0.823: 100%|██████████| 17/17 [00:04<00:00,  4.08it/s]\n",
      "Epoch:  17. Validation. Loss: 0.171 | f1: 0.786: 100%|██████████| 9/9 [00:00<00:00, 13.06it/s]\n",
      "Epoch:  18. Train.      Loss: 0.138 | f1: 0.854: 100%|██████████| 17/17 [00:04<00:00,  4.04it/s]\n",
      "Epoch:  18. Validation. Loss: 0.150 | f1: 0.804: 100%|██████████| 9/9 [00:00<00:00, 13.70it/s]\n",
      "Epoch:  19. Train.      Loss: 0.131 | f1: 0.862: 100%|██████████| 17/17 [00:04<00:00,  4.05it/s]\n",
      "Epoch:  19. Validation. Loss: 0.221 | f1: 0.752: 100%|██████████| 9/9 [00:00<00:00, 13.21it/s]\n",
      "Epoch:  20. Train.      Loss: 0.123 | f1: 0.856: 100%|██████████| 17/17 [00:04<00:00,  3.93it/s]\n",
      "Epoch:  20. Validation. Loss: 0.138 | f1: 0.819: 100%|██████████| 9/9 [00:00<00:00, 13.07it/s]\n"
     ]
    },
    {
     "name": "stdout",
     "output_type": "stream",
     "text": [
      "fold: 2\n"
     ]
    },
    {
     "name": "stderr",
     "output_type": "stream",
     "text": [
      "Epoch:   1. Train.      Loss: 0.463 | f1: 0.510: 100%|██████████| 17/17 [00:04<00:00,  3.42it/s]\n",
      "Epoch:   1. Validation. Loss: 0.897 | f1: 0.103: 100%|██████████| 9/9 [00:01<00:00,  5.80it/s]\n",
      "Epoch:   2. Train.      Loss: 0.344 | f1: 0.629: 100%|██████████| 17/17 [00:04<00:00,  4.02it/s]\n",
      "Epoch:   2. Validation. Loss: 0.538 | f1: 0.453: 100%|██████████| 9/9 [00:00<00:00, 13.62it/s]\n",
      "Epoch:   3. Train.      Loss: 0.272 | f1: 0.699: 100%|██████████| 17/17 [00:04<00:00,  4.11it/s]\n",
      "Epoch:   3. Validation. Loss: 0.333 | f1: 0.664: 100%|██████████| 9/9 [00:00<00:00, 13.19it/s]\n",
      "Epoch:   4. Train.      Loss: 0.245 | f1: 0.714: 100%|██████████| 17/17 [00:04<00:00,  3.97it/s]\n",
      "Epoch:   4. Validation. Loss: 0.402 | f1: 0.569: 100%|██████████| 9/9 [00:00<00:00, 13.15it/s]\n",
      "Epoch:   5. Train.      Loss: 0.270 | f1: 0.681: 100%|██████████| 17/17 [00:04<00:00,  3.92it/s]\n",
      "Epoch:   5. Validation. Loss: 0.233 | f1: 0.756: 100%|██████████| 9/9 [00:00<00:00, 13.49it/s]\n",
      "Epoch:   6. Train.      Loss: 0.237 | f1: 0.731: 100%|██████████| 17/17 [00:04<00:00,  4.05it/s]\n",
      "Epoch:   6. Validation. Loss: 0.272 | f1: 0.723: 100%|██████████| 9/9 [00:00<00:00, 12.76it/s]\n",
      "Epoch:   7. Train.      Loss: 0.209 | f1: 0.762: 100%|██████████| 17/17 [00:04<00:00,  3.99it/s]\n",
      "Epoch:   7. Validation. Loss: 0.227 | f1: 0.769: 100%|██████████| 9/9 [00:00<00:00, 13.45it/s]\n",
      "Epoch:   8. Train.      Loss: 0.176 | f1: 0.780: 100%|██████████| 17/17 [00:04<00:00,  4.02it/s]\n",
      "Epoch:   8. Validation. Loss: 0.191 | f1: 0.800: 100%|██████████| 9/9 [00:00<00:00, 13.38it/s]\n",
      "Epoch:   9. Train.      Loss: 0.164 | f1: 0.803: 100%|██████████| 17/17 [00:04<00:00,  4.07it/s]\n",
      "Epoch:   9. Validation. Loss: 0.194 | f1: 0.804: 100%|██████████| 9/9 [00:00<00:00, 13.23it/s]\n",
      "Epoch:  10. Train.      Loss: 0.182 | f1: 0.798: 100%|██████████| 17/17 [00:04<00:00,  3.96it/s]\n",
      "Epoch:  10. Validation. Loss: 0.167 | f1: 0.823: 100%|██████████| 9/9 [00:00<00:00, 13.47it/s]\n",
      "Epoch:  11. Train.      Loss: 0.165 | f1: 0.811: 100%|██████████| 17/17 [00:04<00:00,  3.96it/s]\n",
      "Epoch:  11. Validation. Loss: 0.198 | f1: 0.800: 100%|██████████| 9/9 [00:00<00:00, 13.62it/s]\n",
      "Epoch:  12. Train.      Loss: 0.153 | f1: 0.821: 100%|██████████| 17/17 [00:04<00:00,  3.97it/s]\n",
      "Epoch:  12. Validation. Loss: 0.177 | f1: 0.821: 100%|██████████| 9/9 [00:00<00:00, 13.63it/s]\n",
      "Epoch:  13. Train.      Loss: 0.123 | f1: 0.839: 100%|██████████| 17/17 [00:04<00:00,  4.06it/s]\n",
      "Epoch:  13. Validation. Loss: 0.183 | f1: 0.811: 100%|██████████| 9/9 [00:00<00:00, 13.63it/s]\n",
      "Epoch:  14. Train.      Loss: 0.131 | f1: 0.842: 100%|██████████| 17/17 [00:04<00:00,  3.92it/s]\n",
      "Epoch:  14. Validation. Loss: 0.205 | f1: 0.779: 100%|██████████| 9/9 [00:00<00:00, 12.89it/s]\n",
      "Epoch:  15. Train.      Loss: 0.150 | f1: 0.819: 100%|██████████| 17/17 [00:04<00:00,  3.95it/s]\n",
      "Epoch:  15. Validation. Loss: 0.174 | f1: 0.819: 100%|██████████| 9/9 [00:00<00:00, 13.86it/s]\n",
      "Epoch:  16. Train.      Loss: 0.127 | f1: 0.849: 100%|██████████| 17/17 [00:04<00:00,  4.05it/s]\n",
      "Epoch:  16. Validation. Loss: 0.156 | f1: 0.838: 100%|██████████| 9/9 [00:00<00:00, 13.32it/s]\n",
      "Epoch:  17. Train.      Loss: 0.122 | f1: 0.852: 100%|██████████| 17/17 [00:04<00:00,  3.97it/s]\n",
      "Epoch:  17. Validation. Loss: 0.163 | f1: 0.834: 100%|██████████| 9/9 [00:00<00:00, 13.54it/s]\n",
      "Epoch:  18. Train.      Loss: 0.119 | f1: 0.852: 100%|██████████| 17/17 [00:04<00:00,  4.10it/s]\n",
      "Epoch:  18. Validation. Loss: 0.165 | f1: 0.833: 100%|██████████| 9/9 [00:00<00:00, 13.07it/s]\n",
      "Epoch:  19. Train.      Loss: 0.113 | f1: 0.845: 100%|██████████| 17/17 [00:04<00:00,  4.00it/s]\n",
      "Epoch:  19. Validation. Loss: 0.151 | f1: 0.841: 100%|██████████| 9/9 [00:00<00:00, 12.94it/s]\n",
      "Epoch:  20. Train.      Loss: 0.115 | f1: 0.844: 100%|██████████| 17/17 [00:04<00:00,  3.99it/s]\n",
      "Epoch:  20. Validation. Loss: 0.154 | f1: 0.838: 100%|██████████| 9/9 [00:00<00:00, 13.22it/s]\n"
     ]
    },
    {
     "name": "stdout",
     "output_type": "stream",
     "text": [
      "setup: [True, False, True, False]\n",
      "fold: 0\n"
     ]
    },
    {
     "name": "stderr",
     "output_type": "stream",
     "text": [
      "Epoch:   1. Train.      Loss: 0.566 | f1: 0.429: 100%|██████████| 17/17 [00:04<00:00,  3.51it/s]\n",
      "Epoch:   1. Validation. Loss: 0.417 | f1: 0.569: 100%|██████████| 9/9 [00:01<00:00,  5.69it/s]\n",
      "Epoch:   2. Train.      Loss: 0.353 | f1: 0.638: 100%|██████████| 17/17 [00:04<00:00,  4.08it/s]\n",
      "Epoch:   2. Validation. Loss: 0.378 | f1: 0.608: 100%|██████████| 9/9 [00:00<00:00, 13.43it/s]\n",
      "Epoch:   3. Train.      Loss: 0.277 | f1: 0.706: 100%|██████████| 17/17 [00:04<00:00,  4.14it/s]\n",
      "Epoch:   3. Validation. Loss: 0.337 | f1: 0.640: 100%|██████████| 9/9 [00:00<00:00, 12.84it/s]\n",
      "Epoch:   4. Train.      Loss: 0.256 | f1: 0.732: 100%|██████████| 17/17 [00:04<00:00,  4.17it/s]\n",
      "Epoch:   4. Validation. Loss: 0.296 | f1: 0.690: 100%|██████████| 9/9 [00:00<00:00, 13.84it/s]\n",
      "Epoch:   5. Train.      Loss: 0.220 | f1: 0.768: 100%|██████████| 17/17 [00:04<00:00,  4.13it/s]\n",
      "Epoch:   5. Validation. Loss: 0.286 | f1: 0.665: 100%|██████████| 9/9 [00:00<00:00, 12.81it/s]\n",
      "Epoch:   6. Train.      Loss: 0.200 | f1: 0.790: 100%|██████████| 17/17 [00:04<00:00,  4.17it/s]\n",
      "Epoch:   6. Validation. Loss: 0.249 | f1: 0.713: 100%|██████████| 9/9 [00:00<00:00, 12.69it/s]\n",
      "Epoch:   7. Train.      Loss: 0.207 | f1: 0.781: 100%|██████████| 17/17 [00:04<00:00,  4.19it/s]\n",
      "Epoch:   7. Validation. Loss: 0.238 | f1: 0.737: 100%|██████████| 9/9 [00:00<00:00, 12.96it/s]\n",
      "Epoch:   8. Train.      Loss: 0.170 | f1: 0.821: 100%|██████████| 17/17 [00:04<00:00,  4.18it/s]\n",
      "Epoch:   8. Validation. Loss: 0.190 | f1: 0.778: 100%|██████████| 9/9 [00:00<00:00, 13.18it/s]\n",
      "Epoch:   9. Train.      Loss: 0.162 | f1: 0.832: 100%|██████████| 17/17 [00:04<00:00,  4.12it/s]\n",
      "Epoch:   9. Validation. Loss: 0.236 | f1: 0.759: 100%|██████████| 9/9 [00:00<00:00, 12.63it/s]\n",
      "Epoch:  10. Train.      Loss: 0.154 | f1: 0.839: 100%|██████████| 17/17 [00:04<00:00,  4.11it/s]\n",
      "Epoch:  10. Validation. Loss: 0.180 | f1: 0.801: 100%|██████████| 9/9 [00:00<00:00, 13.28it/s]\n",
      "Epoch:  11. Train.      Loss: 0.155 | f1: 0.834: 100%|██████████| 17/17 [00:04<00:00,  4.07it/s]\n",
      "Epoch:  11. Validation. Loss: 0.183 | f1: 0.780: 100%|██████████| 9/9 [00:00<00:00, 13.04it/s]\n",
      "Epoch:  12. Train.      Loss: 0.144 | f1: 0.851: 100%|██████████| 17/17 [00:04<00:00,  4.19it/s]\n",
      "Epoch:  12. Validation. Loss: 0.207 | f1: 0.751: 100%|██████████| 9/9 [00:00<00:00, 12.78it/s]\n",
      "Epoch:  13. Train.      Loss: 0.135 | f1: 0.859: 100%|██████████| 17/17 [00:04<00:00,  4.16it/s]\n",
      "Epoch:  13. Validation. Loss: 0.211 | f1: 0.751: 100%|██████████| 9/9 [00:00<00:00, 12.86it/s]\n",
      "Epoch:  14. Train.      Loss: 0.126 | f1: 0.869: 100%|██████████| 17/17 [00:04<00:00,  4.09it/s]\n",
      "Epoch:  14. Validation. Loss: 0.174 | f1: 0.788: 100%|██████████| 9/9 [00:00<00:00, 12.62it/s]\n",
      "Epoch:  15. Train.      Loss: 0.118 | f1: 0.875: 100%|██████████| 17/17 [00:04<00:00,  4.03it/s]\n",
      "Epoch:  15. Validation. Loss: 0.195 | f1: 0.764: 100%|██████████| 9/9 [00:00<00:00, 13.12it/s]\n",
      "Epoch:  16. Train.      Loss: 0.110 | f1: 0.885: 100%|██████████| 17/17 [00:04<00:00,  4.10it/s]\n",
      "Epoch:  16. Validation. Loss: 0.249 | f1: 0.726: 100%|██████████| 9/9 [00:00<00:00, 12.95it/s]\n",
      "Epoch:  17. Train.      Loss: 0.109 | f1: 0.888: 100%|██████████| 17/17 [00:04<00:00,  4.06it/s]\n",
      "Epoch:  17. Validation. Loss: 0.205 | f1: 0.747: 100%|██████████| 9/9 [00:00<00:00, 12.17it/s]\n",
      "Epoch:  18. Train.      Loss: 0.102 | f1: 0.892: 100%|██████████| 17/17 [00:04<00:00,  4.07it/s]\n",
      "Epoch:  18. Validation. Loss: 0.193 | f1: 0.763: 100%|██████████| 9/9 [00:00<00:00, 12.65it/s]\n",
      "Epoch:  19. Train.      Loss: 0.100 | f1: 0.898: 100%|██████████| 17/17 [00:04<00:00,  4.04it/s]\n",
      "Epoch:  19. Validation. Loss: 0.177 | f1: 0.751: 100%|██████████| 9/9 [00:00<00:00, 13.01it/s]\n",
      "Epoch:  20. Train.      Loss: 0.100 | f1: 0.897: 100%|██████████| 17/17 [00:04<00:00,  4.04it/s]\n",
      "Epoch:  20. Validation. Loss: 0.175 | f1: 0.777: 100%|██████████| 9/9 [00:00<00:00, 12.65it/s]\n"
     ]
    },
    {
     "name": "stdout",
     "output_type": "stream",
     "text": [
      "fold: 1\n"
     ]
    },
    {
     "name": "stderr",
     "output_type": "stream",
     "text": [
      "Epoch:   1. Train.      Loss: 0.504 | f1: 0.487: 100%|██████████| 17/17 [00:04<00:00,  3.42it/s]\n",
      "Epoch:   1. Validation. Loss: 0.442 | f1: 0.544: 100%|██████████| 9/9 [00:01<00:00,  5.76it/s]\n",
      "Epoch:   2. Train.      Loss: 0.321 | f1: 0.663: 100%|██████████| 17/17 [00:04<00:00,  4.13it/s]\n",
      "Epoch:   2. Validation. Loss: 0.537 | f1: 0.461: 100%|██████████| 9/9 [00:00<00:00, 13.23it/s]\n",
      "Epoch:   3. Train.      Loss: 0.253 | f1: 0.727: 100%|██████████| 17/17 [00:04<00:00,  4.12it/s]\n",
      "Epoch:   3. Validation. Loss: 0.238 | f1: 0.722: 100%|██████████| 9/9 [00:00<00:00, 13.07it/s]\n",
      "Epoch:   4. Train.      Loss: 0.236 | f1: 0.749: 100%|██████████| 17/17 [00:04<00:00,  4.07it/s]\n",
      "Epoch:   4. Validation. Loss: 0.296 | f1: 0.694: 100%|██████████| 9/9 [00:00<00:00, 13.39it/s]\n",
      "Epoch:   5. Train.      Loss: 0.245 | f1: 0.740: 100%|██████████| 17/17 [00:04<00:00,  4.11it/s]\n",
      "Epoch:   5. Validation. Loss: 0.396 | f1: 0.601: 100%|██████████| 9/9 [00:00<00:00, 13.53it/s]\n",
      "Epoch:   6. Train.      Loss: 0.220 | f1: 0.758: 100%|██████████| 17/17 [00:04<00:00,  4.06it/s]\n",
      "Epoch:   6. Validation. Loss: 0.232 | f1: 0.738: 100%|██████████| 9/9 [00:00<00:00, 13.23it/s]\n",
      "Epoch:   7. Train.      Loss: 0.182 | f1: 0.801: 100%|██████████| 17/17 [00:04<00:00,  4.03it/s]\n",
      "Epoch:   7. Validation. Loss: 0.194 | f1: 0.766: 100%|██████████| 9/9 [00:00<00:00, 13.30it/s]\n",
      "Epoch:   8. Train.      Loss: 0.168 | f1: 0.818: 100%|██████████| 17/17 [00:04<00:00,  4.05it/s]\n",
      "Epoch:   8. Validation. Loss: 0.195 | f1: 0.775: 100%|██████████| 9/9 [00:00<00:00, 13.68it/s]\n",
      "Epoch:   9. Train.      Loss: 0.169 | f1: 0.817: 100%|██████████| 17/17 [00:04<00:00,  4.14it/s]\n",
      "Epoch:   9. Validation. Loss: 0.262 | f1: 0.713: 100%|██████████| 9/9 [00:00<00:00, 13.25it/s]\n",
      "Epoch:  10. Train.      Loss: 0.145 | f1: 0.837: 100%|██████████| 17/17 [00:04<00:00,  4.11it/s]\n",
      "Epoch:  10. Validation. Loss: 0.213 | f1: 0.766: 100%|██████████| 9/9 [00:00<00:00, 13.31it/s]\n",
      "Epoch:  11. Train.      Loss: 0.144 | f1: 0.836: 100%|██████████| 17/17 [00:04<00:00,  4.19it/s]\n",
      "Epoch:  11. Validation. Loss: 0.174 | f1: 0.803: 100%|██████████| 9/9 [00:00<00:00, 12.53it/s]\n",
      "Epoch:  12. Train.      Loss: 0.141 | f1: 0.846: 100%|██████████| 17/17 [00:04<00:00,  4.11it/s]\n",
      "Epoch:  12. Validation. Loss: 0.215 | f1: 0.772: 100%|██████████| 9/9 [00:00<00:00, 13.16it/s]\n",
      "Epoch:  13. Train.      Loss: 0.137 | f1: 0.847: 100%|██████████| 17/17 [00:04<00:00,  4.07it/s]\n",
      "Epoch:  13. Validation. Loss: 0.171 | f1: 0.804: 100%|██████████| 9/9 [00:00<00:00, 12.74it/s]\n",
      "Epoch:  14. Train.      Loss: 0.129 | f1: 0.862: 100%|██████████| 17/17 [00:04<00:00,  4.00it/s]\n",
      "Epoch:  14. Validation. Loss: 0.154 | f1: 0.811: 100%|██████████| 9/9 [00:00<00:00, 12.66it/s]\n",
      "Epoch:  15. Train.      Loss: 0.121 | f1: 0.862: 100%|██████████| 17/17 [00:04<00:00,  4.01it/s]\n",
      "Epoch:  15. Validation. Loss: 0.158 | f1: 0.803: 100%|██████████| 9/9 [00:00<00:00, 13.47it/s]\n",
      "Epoch:  16. Train.      Loss: 0.111 | f1: 0.884: 100%|██████████| 17/17 [00:04<00:00,  4.01it/s]\n",
      "Epoch:  16. Validation. Loss: 0.158 | f1: 0.816: 100%|██████████| 9/9 [00:00<00:00, 11.94it/s]\n",
      "Epoch:  17. Train.      Loss: 0.110 | f1: 0.875: 100%|██████████| 17/17 [00:04<00:00,  4.01it/s]\n",
      "Epoch:  17. Validation. Loss: 0.229 | f1: 0.750: 100%|██████████| 9/9 [00:00<00:00, 10.93it/s]\n",
      "Epoch:  18. Train.      Loss: 0.101 | f1: 0.886: 100%|██████████| 17/17 [00:04<00:00,  3.93it/s]\n",
      "Epoch:  18. Validation. Loss: 0.157 | f1: 0.813: 100%|██████████| 9/9 [00:00<00:00, 12.66it/s]\n",
      "Epoch:  19. Train.      Loss: 0.093 | f1: 0.897: 100%|██████████| 17/17 [00:04<00:00,  4.05it/s]\n",
      "Epoch:  19. Validation. Loss: 0.142 | f1: 0.813: 100%|██████████| 9/9 [00:00<00:00, 13.09it/s]\n",
      "Epoch:  20. Train.      Loss: 0.097 | f1: 0.902: 100%|██████████| 17/17 [00:04<00:00,  3.92it/s]\n",
      "Epoch:  20. Validation. Loss: 0.144 | f1: 0.826: 100%|██████████| 9/9 [00:00<00:00, 13.21it/s]\n"
     ]
    },
    {
     "name": "stdout",
     "output_type": "stream",
     "text": [
      "fold: 2\n"
     ]
    },
    {
     "name": "stderr",
     "output_type": "stream",
     "text": [
      "Epoch:   1. Train.      Loss: 0.572 | f1: 0.412: 100%|██████████| 17/17 [00:05<00:00,  3.36it/s]\n",
      "Epoch:   1. Validation. Loss: 0.650 | f1: 0.338: 100%|██████████| 9/9 [00:01<00:00,  5.62it/s]\n",
      "Epoch:   2. Train.      Loss: 0.365 | f1: 0.608: 100%|██████████| 17/17 [00:04<00:00,  4.02it/s]\n",
      "Epoch:   2. Validation. Loss: 0.430 | f1: 0.554: 100%|██████████| 9/9 [00:00<00:00, 12.52it/s]\n",
      "Epoch:   3. Train.      Loss: 0.319 | f1: 0.650: 100%|██████████| 17/17 [00:04<00:00,  4.04it/s]\n",
      "Epoch:   3. Validation. Loss: 0.352 | f1: 0.640: 100%|██████████| 9/9 [00:00<00:00, 12.90it/s]\n",
      "Epoch:   4. Train.      Loss: 0.283 | f1: 0.686: 100%|██████████| 17/17 [00:04<00:00,  4.02it/s]\n",
      "Epoch:   4. Validation. Loss: 0.332 | f1: 0.655: 100%|██████████| 9/9 [00:00<00:00, 13.11it/s]\n",
      "Epoch:   5. Train.      Loss: 0.266 | f1: 0.705: 100%|██████████| 17/17 [00:04<00:00,  3.94it/s]\n",
      "Epoch:   5. Validation. Loss: 0.312 | f1: 0.671: 100%|██████████| 9/9 [00:00<00:00, 13.46it/s]\n",
      "Epoch:   6. Train.      Loss: 0.225 | f1: 0.745: 100%|██████████| 17/17 [00:04<00:00,  4.01it/s]\n",
      "Epoch:   6. Validation. Loss: 0.264 | f1: 0.730: 100%|██████████| 9/9 [00:00<00:00, 13.01it/s]\n",
      "Epoch:   7. Train.      Loss: 0.217 | f1: 0.752: 100%|██████████| 17/17 [00:04<00:00,  3.90it/s]\n",
      "Epoch:   7. Validation. Loss: 0.255 | f1: 0.736: 100%|██████████| 9/9 [00:00<00:00, 13.10it/s]\n",
      "Epoch:   8. Train.      Loss: 0.180 | f1: 0.786: 100%|██████████| 17/17 [00:04<00:00,  4.00it/s]\n",
      "Epoch:   8. Validation. Loss: 0.265 | f1: 0.734: 100%|██████████| 9/9 [00:00<00:00, 13.00it/s]\n",
      "Epoch:   9. Train.      Loss: 0.175 | f1: 0.800: 100%|██████████| 17/17 [00:04<00:00,  4.00it/s]\n",
      "Epoch:   9. Validation. Loss: 0.248 | f1: 0.732: 100%|██████████| 9/9 [00:00<00:00, 12.36it/s]\n",
      "Epoch:  10. Train.      Loss: 0.157 | f1: 0.815: 100%|██████████| 17/17 [00:04<00:00,  3.94it/s]\n",
      "Epoch:  10. Validation. Loss: 0.220 | f1: 0.773: 100%|██████████| 9/9 [00:00<00:00, 13.13it/s]\n",
      "Epoch:  11. Train.      Loss: 0.160 | f1: 0.820: 100%|██████████| 17/17 [00:04<00:00,  3.94it/s]\n",
      "Epoch:  11. Validation. Loss: 0.209 | f1: 0.790: 100%|██████████| 9/9 [00:00<00:00, 13.64it/s]\n",
      "Epoch:  12. Train.      Loss: 0.164 | f1: 0.813: 100%|██████████| 17/17 [00:04<00:00,  4.02it/s]\n",
      "Epoch:  12. Validation. Loss: 0.198 | f1: 0.801: 100%|██████████| 9/9 [00:00<00:00, 13.38it/s]\n",
      "Epoch:  13. Train.      Loss: 0.132 | f1: 0.842: 100%|██████████| 17/17 [00:04<00:00,  4.01it/s]\n",
      "Epoch:  13. Validation. Loss: 0.201 | f1: 0.791: 100%|██████████| 9/9 [00:00<00:00, 13.57it/s]\n",
      "Epoch:  14. Train.      Loss: 0.127 | f1: 0.848: 100%|██████████| 17/17 [00:04<00:00,  3.96it/s]\n",
      "Epoch:  14. Validation. Loss: 0.210 | f1: 0.788: 100%|██████████| 9/9 [00:00<00:00, 13.25it/s]\n",
      "Epoch:  15. Train.      Loss: 0.121 | f1: 0.860: 100%|██████████| 17/17 [00:04<00:00,  3.99it/s]\n",
      "Epoch:  15. Validation. Loss: 0.201 | f1: 0.784: 100%|██████████| 9/9 [00:00<00:00, 12.98it/s]\n",
      "Epoch:  16. Train.      Loss: 0.117 | f1: 0.851: 100%|██████████| 17/17 [00:04<00:00,  4.05it/s]\n",
      "Epoch:  16. Validation. Loss: 0.175 | f1: 0.820: 100%|██████████| 9/9 [00:00<00:00, 12.93it/s]\n",
      "Epoch:  17. Train.      Loss: 0.112 | f1: 0.862: 100%|██████████| 17/17 [00:04<00:00,  4.02it/s]\n",
      "Epoch:  17. Validation. Loss: 0.174 | f1: 0.817: 100%|██████████| 9/9 [00:00<00:00, 13.04it/s]\n",
      "Epoch:  18. Train.      Loss: 0.097 | f1: 0.875: 100%|██████████| 17/17 [00:04<00:00,  4.00it/s]\n",
      "Epoch:  18. Validation. Loss: 0.166 | f1: 0.830: 100%|██████████| 9/9 [00:00<00:00, 13.10it/s]\n",
      "Epoch:  19. Train.      Loss: 0.098 | f1: 0.883: 100%|██████████| 17/17 [00:04<00:00,  4.09it/s]\n",
      "Epoch:  19. Validation. Loss: 0.174 | f1: 0.820: 100%|██████████| 9/9 [00:00<00:00, 13.49it/s]\n",
      "Epoch:  20. Train.      Loss: 0.094 | f1: 0.883: 100%|██████████| 17/17 [00:04<00:00,  4.00it/s]\n",
      "Epoch:  20. Validation. Loss: 0.164 | f1: 0.833: 100%|██████████| 9/9 [00:00<00:00, 13.05it/s]\n"
     ]
    }
   ],
   "source": [
    "metric_dict = {}\n",
    "\n",
    "for setup in masks:\n",
    "\n",
    "    print(f'setup: {str(setup)}')\n",
    "\n",
    "    # get the picked tfs as list\n",
    "    tfs = added_tfs[np.array(setup)]\n",
    "    tf_selection = pd.Series(tfs).explode().tolist()\n",
    "\n",
    "    k_fold = KFold(n_splits=K_FOLD, shuffle=True, random_state=SEED)\n",
    "\n",
    "    # Record K-fold results in a (K_FOLD, num_epoch) matrix\n",
    "    training_f1_matrix = []\n",
    "    validation_f1_matrix = []\n",
    "\n",
    "    train_tf = A.Compose(base_tf + tf_selection)\n",
    "    valid_tf = A.Compose(base_tf)\n",
    "\n",
    "    # Get training and validation indices\n",
    "    for fold, (train_idx, val_idx) in enumerate(k_fold.split(train_dataset)):\n",
    "\n",
    "        print(f'fold: {fold}')\n",
    "\n",
    "        # Create training and validation loaders by providing current K-Fold train/validation indices to Sampler\n",
    "        train_loader = DataLoader(train_dataset.set_tf(train_tf), sampler=SubsetRandomSampler(train_idx), **LOADER_PARAMS)\n",
    "        valid_loader = DataLoader(train_dataset.set_tf(valid_tf), sampler=SubsetRandomSampler(val_idx), **LOADER_PARAMS)\n",
    "\n",
    "        # Initialize model\n",
    "        model_ = smp.create_model(\"FPN\", encoder_name=ENCODER, encoder_weights=ENCODER_WEIGHTS)\n",
    "        criterion_ = smp.losses.DiceLoss(smp.losses.BINARY_MODE, from_logits=True)\n",
    "        optimizer_ = torch.optim.Adam(model_.parameters(), lr=0.0005)\n",
    "        scheduler_ = torch.optim.lr_scheduler.CosineAnnealingLR(\n",
    "            optimizer_,\n",
    "            T_max=(len(train_loader.dataset) * N_EPOCHS) // train_loader.batch_size,\n",
    "        )\n",
    "\n",
    "        # Train model\n",
    "        train_losses, valid_losses, train_f1s, valid_f1s = train_model(\n",
    "            model_, (train_loader, valid_loader), criterion_, optimizer_, scheduler_, N_EPOCHS\n",
    "        )\n",
    "\n",
    "        # Save epoch results\n",
    "        training_f1_matrix.append(np.array(train_f1s))\n",
    "        validation_f1_matrix.append(np.array(valid_f1s))\n",
    "    \n",
    "    setup_transformations = np.array(col_names)[np.array(setup)]\n",
    "    metric_dict[str(setup_transformations)] = validation_f1_matrix"
   ]
  },
  {
   "cell_type": "markdown",
   "id": "fd70cdcdc704f9da",
   "metadata": {
    "collapsed": false,
    "id": "fd70cdcdc704f9da"
   },
   "source": [
    "## Metrics"
   ]
  },
  {
   "cell_type": "markdown",
   "source": [
    "We use the mean of each epoch as the "
   ],
   "metadata": {
    "collapsed": false
   },
   "id": "855a119e7bd4cb71"
  },
  {
   "cell_type": "code",
   "execution_count": 10,
   "id": "cdfec4d7529b8b3c",
   "metadata": {
    "executionInfo": {
     "elapsed": 262,
     "status": "ok",
     "timestamp": 1700509432539,
     "user": {
      "displayName": "Jan Kokla",
      "userId": "12594254134589162600"
     },
     "user_tz": -60
    },
    "id": "cdfec4d7529b8b3c",
    "ExecuteTime": {
     "end_time": "2023-11-21T19:29:20.745607493Z",
     "start_time": "2023-11-21T19:29:20.744615348Z"
    }
   },
   "outputs": [],
   "source": [
    "f1s = []\n",
    "last_f1s = []\n",
    "std_devs = []\n",
    "\n",
    "for matrix in metric_dict.values():\n",
    "    matrix = np.array(matrix)\n",
    "    mean_per_epoch = matrix.mean(axis=0)\n",
    "\n",
    "    best_epoch = mean_per_epoch.argmax()\n",
    "    best_f1 = mean_per_epoch.max()\n",
    "\n",
    "    f1s.append(mean_per_epoch.max())\n",
    "    last_f1s.append(matrix[:,-1].mean())\n",
    "    std_devs.append(matrix[:, best_epoch].std())"
   ]
  },
  {
   "cell_type": "code",
   "execution_count": 11,
   "id": "e8eae8e5b749d4c6",
   "metadata": {
    "executionInfo": {
     "elapsed": 2,
     "status": "ok",
     "timestamp": 1700509433650,
     "user": {
      "displayName": "Jan Kokla",
      "userId": "12594254134589162600"
     },
     "user_tz": -60
    },
    "id": "e8eae8e5b749d4c6",
    "ExecuteTime": {
     "end_time": "2023-11-21T19:29:20.745733759Z",
     "start_time": "2023-11-21T19:29:20.744740626Z"
    }
   },
   "outputs": [],
   "source": [
    "final_df = pd.DataFrame(index=metric_dict.keys(), columns=['top-f1', 'last-f1', 'std'], data=np.array([f1s, last_f1s, std_devs]).T)"
   ]
  },
  {
   "cell_type": "code",
   "execution_count": 15,
   "id": "543cf481d7109124",
   "metadata": {
    "colab": {
     "base_uri": "https://localhost:8080/",
     "height": 112
    },
    "executionInfo": {
     "elapsed": 315,
     "status": "ok",
     "timestamp": 1700509435720,
     "user": {
      "displayName": "Jan Kokla",
      "userId": "12594254134589162600"
     },
     "user_tz": -60
    },
    "id": "1bdebb6ca8c9f9c0",
    "outputId": "27dcd217-9c52-41fe-825f-a5e5c20e0ddd",
    "ExecuteTime": {
     "end_time": "2023-11-21T20:40:49.079533845Z",
     "start_time": "2023-11-21T20:40:49.072980797Z"
    }
   },
   "outputs": [],
   "source": [
    "final_df.to_csv(ROOT_PATH + \"/transformation_result_20iterations.csv\")\n",
    "#final_df"
   ]
  },
  {
   "cell_type": "code",
   "execution_count": 13,
   "id": "9f78d6889402020d",
   "metadata": {
    "colab": {
     "base_uri": "https://localhost:8080/",
     "height": 250
    },
    "executionInfo": {
     "elapsed": 6,
     "status": "error",
     "timestamp": 1700507575395,
     "user": {
      "displayName": "Jan Kokla",
      "userId": "12594254134589162600"
     },
     "user_tz": -60
    },
    "id": "6e0161c05bdfa70b",
    "outputId": "bdc38adb-8cff-47a3-ecb1-6bb7422a7310",
    "ExecuteTime": {
     "end_time": "2023-11-21T19:29:21.052608504Z",
     "start_time": "2023-11-21T19:29:20.744852188Z"
    }
   },
   "outputs": [
    {
     "data": {
      "text/plain": "[<matplotlib.lines.Line2D at 0x7f395848e1a0>]"
     },
     "execution_count": 13,
     "metadata": {},
     "output_type": "execute_result"
    },
    {
     "data": {
      "text/plain": "<Figure size 640x480 with 1 Axes>",
      "image/png": "[encoded data removed]"
     },
     "metadata": {},
     "execution_count": 13
    }
   ],
   "source": [
    "final_df"
   ]
  },
  {
   "cell_type": "code",
   "execution_count": 13,
   "id": "HQkAhvruq7ls",
   "metadata": {
    "id": "HQkAhvruq7ls",
    "ExecuteTime": {
     "end_time": "2023-11-21T19:29:21.060256227Z",
     "start_time": "2023-11-21T19:29:21.051659557Z"
    }
   },
   "outputs": [],
   "source": []
  }
 ],
 "metadata": {
  "accelerator": "GPU",
  "colab": {
   "gpuType": "T4",
   "provenance": [],
   "toc_visible": true
  },
  "kernelspec": {
   "display_name": "Python 3 (ipykernel)",
   "language": "python",
   "name": "python3"
  },
  "language_info": {
   "codemirror_mode": {
    "name": "ipython",
    "version": 3
   },
   "file_extension": ".py",
   "mimetype": "text/x-python",
   "name": "python",
   "nbconvert_exporter": "python",
   "pygments_lexer": "ipython3",
   "version": "3.10.12"
  }
 },
 "nbformat": 4,
 "nbformat_minor": 5
}
